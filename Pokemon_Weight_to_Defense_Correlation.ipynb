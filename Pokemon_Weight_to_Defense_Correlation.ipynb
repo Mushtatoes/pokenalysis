{
  "nbformat": 4,
  "nbformat_minor": 0,
  "metadata": {
    "colab": {
      "name": "Pokemon - Weight to Defense Correlation",
      "provenance": [],
      "collapsed_sections": [],
      "authorship_tag": "ABX9TyPEX3fOymUHvMULSr6RMn9C"
    },
    "kernelspec": {
      "name": "python3",
      "display_name": "Python 3"
    }
  },
  "cells": [
    {
      "cell_type": "markdown",
      "metadata": {
        "id": "l5Mt-W0Kzp0e",
        "colab_type": "text"
      },
      "source": [
        "# Pokemon - Base Stats and Types\n",
        "**Description:** Is there a correlation between a Pokemon's Defense stat and it's weight?\n",
        "\n",
        "**Goal:** To determine whether or not Defense and Weight in the Pokemon universe are related. \n",
        "\n",
        "<img src=\"https://github.com/Mushtatoes/proj/blob/master/pikachu.png?raw=true\" width=\"300\"/>\n",
        "\n",
        "\n",
        "---\n",
        "Defense is one of the primary stats used during combat in Pokemon. It has to adhere to the GameFreak's decisions on gameplay purposes and balancing changes.\n",
        "Weight is less important in the actual gameplay, and moreso there as a fun fact in the Pokedex entry. It's highly unlikely that developers look at Defense and Weight in parallel when creating Pokemon.\n",
        "\n",
        "There are Pokemon like Onix and Steelix, both of which have positively correlated Defense and Weight, but then there are Pokemon like Shuckle...a tiny and light Pokemon with even higher Defense than the two mentioned.\n",
        "\n",
        "This study will calculate the correlation coefficient between Defense and Weight and determine what kind of relationship the two properties have.\n",
        "\n",
        "\n"
      ]
    },
    {
      "cell_type": "code",
      "metadata": {
        "id": "J4ijNq7i1RQQ",
        "colab_type": "code",
        "colab": {}
      },
      "source": [
        "import pandas as pd\n",
        "import matplotlib.pyplot as plt\n",
        "import requests\n",
        "import re"
      ],
      "execution_count": 0,
      "outputs": []
    },
    {
      "cell_type": "markdown",
      "metadata": {
        "id": "VOcg3Os01ac-",
        "colab_type": "text"
      },
      "source": [
        "## 1. Obtaining Data\n",
        "\n",
        "\n",
        ">- No mega-evolutions, alternate forms, etc.\n",
        "- Pulling from PokeAPI\n",
        "- Manually parse and add data into Dataframe without using read_json\n",
        "- At time of writing, there are currently 807 unique Pokemon in the API (Up to Gen 7)\n",
        "\n",
        "\n"
      ]
    },
    {
      "cell_type": "code",
      "metadata": {
        "id": "dnCNleAA14u9",
        "colab_type": "code",
        "colab": {}
      },
      "source": [
        "pokemon_json = requests.get('https://pokeapi.co/api/v2/pokemon?&limit=5000').json()\n",
        "# print(pokemon_json)"
      ],
      "execution_count": 0,
      "outputs": []
    },
    {
      "cell_type": "markdown",
      "metadata": {
        "id": "EBkWAI4L4a-A",
        "colab_type": "text"
      },
      "source": [
        "#### 1a. Filter out non-standard Pokemon by id:\n",
        ">- Create a list of urls that can be used to pull data on each Pokemon.\n",
        "- PokeAPI uses id <= 10000 to identify standard Pokemon and their traits.\n",
        "- Use regular expressions to isolate the id from the url and compare."
      ]
    },
    {
      "cell_type": "code",
      "metadata": {
        "id": "YMLVkWkg26Ux",
        "colab_type": "code",
        "colab": {}
      },
      "source": [
        "name_url_raw = pokemon_json['results']\n",
        "\n",
        "# Filter out non-standard Pokemon using regex on url:\n",
        "def pokemon_filter(pokemon_object):\n",
        "  pokemon_search = re.search('^https://pokeapi\\.co/api/v2/pokemon/(\\d+)/$', pokemon_object['url'])\n",
        "  if not pokemon_search:\n",
        "    return False\n",
        "  return int(pokemon_search.group(1)) <= 10000\n",
        "\n",
        "name_url = list(filter(pokemon_filter, name_url_raw))\n",
        "\n",
        "pokemon_urls = [x['url'] for x in name_url]\n"
      ],
      "execution_count": 0,
      "outputs": []
    },
    {
      "cell_type": "markdown",
      "metadata": {
        "id": "9pY2JgZI6RPU",
        "colab_type": "text"
      },
      "source": [
        "#### 1b. Map the required data:\n",
        ">- Each Pokemon's base stats can only be found on their own page, which means a request for each Pokemon.\n",
        "- Storing into a flat file or SQL table would be preferable if the data is  required for reuse in the future."
      ]
    },
    {
      "cell_type": "code",
      "metadata": {
        "id": "Jd5O13kG6qzs",
        "colab_type": "code",
        "colab": {}
      },
      "source": [
        "# Return each pokemon's name, type1, and base stats:\n",
        "def pokemon_map(url):\n",
        "  pokemon = requests.get(url).json()\n",
        "  data = {'name': pokemon['name']\n",
        "          ,'type1': ''.join([t['type']['name'] for t in pokemon['types'] if t['slot'] == 1])\n",
        "          ,'stats': {s['stat']['name']: s['base_stat']for s in pokemon['stats']}\n",
        "          ,'weight': pokemon['weight']\n",
        "          }\n",
        "  return data\n",
        "\n",
        "# Type1 and stats are not required here: pulled in the case this data needs to be re-used for other tests \n",
        "pokemon_data = list(map(pokemon_map, pokemon_urls))\n",
        "\n",
        "#print(pokemon_data)"
      ],
      "execution_count": 0,
      "outputs": []
    },
    {
      "cell_type": "markdown",
      "metadata": {
        "id": "1lUIVqCK7N29",
        "colab_type": "text"
      },
      "source": [
        "#### 1c. Push the data into a pandas DataFrame:\n",
        "> - Pokemon weight stored in PokeAPI is in kg/10 (Bulbsaur = 69 --> 6.9kg)\n",
        "- Name, DEF and Weight will be stored into separate lists and then pushed into the DataFrame."
      ]
    },
    {
      "cell_type": "code",
      "metadata": {
        "id": "5uwsz6E67Wcr",
        "colab_type": "code",
        "outputId": "b0caeb07-98c8-4908-cb8e-820577b0c039",
        "colab": {
          "base_uri": "https://localhost:8080/",
          "height": 204
        }
      },
      "source": [
        "# Format data into dictionaries for DataFrame:\n",
        "# {Header: [data]}\n",
        "\n",
        "def pivot_data(category, subcategory = None):\n",
        "  if not subcategory:\n",
        "    return [pokemon[category] for pokemon in pokemon_data]\n",
        "  else:\n",
        "    return [pokemon[category][subcategory] for pokemon in pokemon_data]\n",
        "\n",
        "pokemon_name = pivot_data('name')\n",
        "pokemon_def = pivot_data('stats', 'defense')\n",
        "pokemon_weight = pivot_data('weight')\n",
        "\n",
        "pokemon_df = pd.DataFrame({'Name': pokemon_name\n",
        "                           ,'DEF': pokemon_def\n",
        "                           ,'Weight': pokemon_weight\n",
        "                           })\n",
        "\n",
        "# Display top rows from DataFrame for preview:\n",
        "\n",
        "pokemon_df.head()"
      ],
      "execution_count": 5,
      "outputs": [
        {
          "output_type": "execute_result",
          "data": {
            "text/html": [
              "<div>\n",
              "<style scoped>\n",
              "    .dataframe tbody tr th:only-of-type {\n",
              "        vertical-align: middle;\n",
              "    }\n",
              "\n",
              "    .dataframe tbody tr th {\n",
              "        vertical-align: top;\n",
              "    }\n",
              "\n",
              "    .dataframe thead th {\n",
              "        text-align: right;\n",
              "    }\n",
              "</style>\n",
              "<table border=\"1\" class=\"dataframe\">\n",
              "  <thead>\n",
              "    <tr style=\"text-align: right;\">\n",
              "      <th></th>\n",
              "      <th>Name</th>\n",
              "      <th>DEF</th>\n",
              "      <th>Weight</th>\n",
              "    </tr>\n",
              "  </thead>\n",
              "  <tbody>\n",
              "    <tr>\n",
              "      <th>0</th>\n",
              "      <td>bulbasaur</td>\n",
              "      <td>49</td>\n",
              "      <td>69</td>\n",
              "    </tr>\n",
              "    <tr>\n",
              "      <th>1</th>\n",
              "      <td>ivysaur</td>\n",
              "      <td>63</td>\n",
              "      <td>130</td>\n",
              "    </tr>\n",
              "    <tr>\n",
              "      <th>2</th>\n",
              "      <td>venusaur</td>\n",
              "      <td>83</td>\n",
              "      <td>1000</td>\n",
              "    </tr>\n",
              "    <tr>\n",
              "      <th>3</th>\n",
              "      <td>charmander</td>\n",
              "      <td>43</td>\n",
              "      <td>85</td>\n",
              "    </tr>\n",
              "    <tr>\n",
              "      <th>4</th>\n",
              "      <td>charmeleon</td>\n",
              "      <td>58</td>\n",
              "      <td>190</td>\n",
              "    </tr>\n",
              "  </tbody>\n",
              "</table>\n",
              "</div>"
            ],
            "text/plain": [
              "         Name  DEF  Weight\n",
              "0   bulbasaur   49      69\n",
              "1     ivysaur   63     130\n",
              "2    venusaur   83    1000\n",
              "3  charmander   43      85\n",
              "4  charmeleon   58     190"
            ]
          },
          "metadata": {
            "tags": []
          },
          "execution_count": 5
        }
      ]
    },
    {
      "cell_type": "markdown",
      "metadata": {
        "id": "dW8YmUeOw4Og",
        "colab_type": "text"
      },
      "source": [
        "## 2. Testing the Relationship\n",
        "\n"
      ]
    },
    {
      "cell_type": "markdown",
      "metadata": {
        "id": "LZhRideV2gpY",
        "colab_type": "text"
      },
      "source": [
        "#### 2a. Viewing and Standardizing the Data\n",
        ">- Calculate the correlation coefficient between DEF and Weight.\n",
        "- Return value between -1 (move oppositely) and +1 (move together)\n",
        "\n",
        "Let's see how the data looks on a quick plot:\n"
      ]
    },
    {
      "cell_type": "code",
      "metadata": {
        "id": "sDXl7lzQOIBC",
        "colab_type": "code",
        "outputId": "1f517932-505a-4f79-f3bc-160746d49014",
        "colab": {
          "base_uri": "https://localhost:8080/",
          "height": 350
        }
      },
      "source": [
        "x = pokemon_df.DEF\n",
        "y = pokemon_df.Weight\n",
        "\n",
        "plt.figure(figsize = (10,5))\n",
        "\n",
        "fig = plt.scatter(x, y, s = 8)\n",
        "\n",
        "plt.title('DEF vs Weight')\n",
        "plt.xlabel('DEF')\n",
        "plt.ylabel('Weight')\n",
        "\n",
        "plt.show()"
      ],
      "execution_count": 11,
      "outputs": [
        {
          "output_type": "display_data",
          "data": {
            "image/png": "[encoded data removed]",
            "text/plain": [
              "<Figure size 720x360 with 1 Axes>"
            ]
          },
          "metadata": {
            "tags": []
          }
        }
      ]
    },
    {
      "cell_type": "markdown",
      "metadata": {
        "id": "bQIJ2S_3Wj12",
        "colab_type": "text"
      },
      "source": [
        "The graph above shows that the range for Weight is on a much greater scale than the range for DEF. \n",
        "\n",
        "Since the scaling is so different, it would be beneficial to standardize the data:\n",
        "\n"
      ]
    },
    {
      "cell_type": "code",
      "metadata": {
        "id": "iV56-qzQgmvH",
        "colab_type": "code",
        "colab": {
          "base_uri": "https://localhost:8080/",
          "height": 53
        },
        "outputId": "b372b3c4-349d-4dc2-c932-732f8a80618e"
      },
      "source": [
        "# Calculate mean and standard deviation using DataFrame methods:\n",
        "def_mu = pokemon_df.DEF.mean()\n",
        "def_sig = pokemon_df.DEF.std()\n",
        "\n",
        "weight_mu = pokemon_df.Weight.mean()\n",
        "weight_sig = pokemon_df.Weight.std()\n",
        "\n",
        "# Create z-score columns in pokemon_df:\n",
        "\n",
        "\n",
        "print(DEF_mu, DEF_sig)\n",
        "print(weight_mu, weight_sig)"
      ],
      "execution_count": 13,
      "outputs": [
        {
          "output_type": "stream",
          "text": [
            "71.72614622057002 29.73022787537992\n",
            "617.7112763320941 1115.1935536904728\n"
          ],
          "name": "stdout"
        }
      ]
    }
  ]
}