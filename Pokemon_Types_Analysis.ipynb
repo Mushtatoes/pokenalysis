{
  "nbformat": 4,
  "nbformat_minor": 0,
  "metadata": {
    "colab": {
      "name": "Pokemon Types Analysis",
      "provenance": [],
      "collapsed_sections": [],
      "authorship_tag": "ABX9TyNugtizT0gP61NHHKToK3N8",
      "include_colab_link": true
    },
    "kernelspec": {
      "name": "python3",
      "display_name": "Python 3"
    }
  },
  "cells": [
    {
      "cell_type": "markdown",
      "metadata": {
        "id": "view-in-github",
        "colab_type": "text"
      },
      "source": [
        "<a href=\"https://colab.research.google.com/github/Mushtatoes/proj/blob/master/Pokemon_Types_Analysis.ipynb\" target=\"_parent\"><img src=\"https://colab.research.google.com/assets/colab-badge.svg\" alt=\"Open In Colab\"/></a>"
      ]
    },
    {
      "cell_type": "markdown",
      "metadata": {
        "id": "ce-A-r3aijIn",
        "colab_type": "text"
      },
      "source": [
        "# Pokemon Types Analysis: \n",
        "**Description:** A project to work with pandas and matplotlib.pyplot\n",
        "\n",
        "**Goal:** Create a simple chart on the distribution of pokemon type 1 from PokeAPI, automatically accounting for new additions to PokeAPI.\n"
      ]
    },
    {
      "cell_type": "code",
      "metadata": {
        "id": "5rgF_W_8jURV",
        "colab_type": "code",
        "colab": {}
      },
      "source": [
        "import pandas as pd\n",
        "import matplotlib.pyplot as plt\n",
        "import requests\n",
        "import re"
      ],
      "execution_count": 0,
      "outputs": []
    },
    {
      "cell_type": "markdown",
      "metadata": {
        "id": "6wTEV7zAjqH3",
        "colab_type": "text"
      },
      "source": [
        "### Creating a list of the possible Pokemon Types:\n",
        "- Use requests.get to pull PokeAPI json\n",
        "- Use regex re.search to isolate type id\n",
        "- Filter out non-standard types (id > 10000)"
      ]
    },
    {
      "cell_type": "code",
      "metadata": {
        "id": "1vPhwqVD0-zC",
        "colab_type": "code",
        "colab": {}
      },
      "source": [
        "type_json = requests.get('https://pokeapi.co/api/v2/type/').json()"
      ],
      "execution_count": 0,
      "outputs": []
    },
    {
      "cell_type": "code",
      "metadata": {
        "id": "fItnrIMoi8Jz",
        "colab_type": "code",
        "outputId": "8cf57ec9-c58b-4648-c71f-c58dfa3ef7e3",
        "colab": {
          "base_uri": "https://localhost:8080/",
          "height": 73
        }
      },
      "source": [
        "# Pull urls and names for each type\n",
        "type_results = type_json['results']\n",
        "\n",
        "# Capitalize names\n",
        "def type_map(type_object):\n",
        "  type_object['name'] = type_object['name'].capitalize()\n",
        "  return type_object\n",
        "\n",
        "type_name_url = list(map(type_map, type_results))\n",
        "\n",
        "# Define filter function to remove non-standard types\n",
        "def type_filter(type_object):\n",
        "  type_match = re.search('^https://pokeapi\\.co/api/v2/type/(\\d+)/$', type_object['url'])\n",
        "  if not type_match:\n",
        "    return False\n",
        "  if int(type_match.group(1)) > 10000:\n",
        "    return False\n",
        "  else:\n",
        "    return True\n",
        "\n",
        "type_data = list(filter(type_filter,type_name_url))\n",
        "\n",
        "num_types = len(type_data)\n",
        "\n",
        "print(type_data)\n",
        "print(num_types)"
      ],
      "execution_count": 3,
      "outputs": [
        {
          "output_type": "stream",
          "text": [
            "[{'name': 'Normal', 'url': 'https://pokeapi.co/api/v2/type/1/'}, {'name': 'Fighting', 'url': 'https://pokeapi.co/api/v2/type/2/'}, {'name': 'Flying', 'url': 'https://pokeapi.co/api/v2/type/3/'}, {'name': 'Poison', 'url': 'https://pokeapi.co/api/v2/type/4/'}, {'name': 'Ground', 'url': 'https://pokeapi.co/api/v2/type/5/'}, {'name': 'Rock', 'url': 'https://pokeapi.co/api/v2/type/6/'}, {'name': 'Bug', 'url': 'https://pokeapi.co/api/v2/type/7/'}, {'name': 'Ghost', 'url': 'https://pokeapi.co/api/v2/type/8/'}, {'name': 'Steel', 'url': 'https://pokeapi.co/api/v2/type/9/'}, {'name': 'Fire', 'url': 'https://pokeapi.co/api/v2/type/10/'}, {'name': 'Water', 'url': 'https://pokeapi.co/api/v2/type/11/'}, {'name': 'Grass', 'url': 'https://pokeapi.co/api/v2/type/12/'}, {'name': 'Electric', 'url': 'https://pokeapi.co/api/v2/type/13/'}, {'name': 'Psychic', 'url': 'https://pokeapi.co/api/v2/type/14/'}, {'name': 'Ice', 'url': 'https://pokeapi.co/api/v2/type/15/'}, {'name': 'Dragon', 'url': 'https://pokeapi.co/api/v2/type/16/'}, {'name': 'Dark', 'url': 'https://pokeapi.co/api/v2/type/17/'}, {'name': 'Fairy', 'url': 'https://pokeapi.co/api/v2/type/18/'}]\n",
            "18\n"
          ],
          "name": "stdout"
        }
      ]
    },
    {
      "cell_type": "markdown",
      "metadata": {
        "id": "m0dFTZbckpg9",
        "colab_type": "text"
      },
      "source": [
        "### Filter out pokemon second type to only see Pokemon's first type:\n"
      ]
    },
    {
      "cell_type": "code",
      "metadata": {
        "id": "t3i5QTyLk9z-",
        "colab_type": "code",
        "outputId": "d62772c7-2732-41bd-fd09-df0c65b440cd",
        "colab": {
          "base_uri": "https://localhost:8080/",
          "height": 35
        }
      },
      "source": [
        "type1_count = []\n",
        "\n",
        "def pokemon_filter(type_object): \n",
        "  pokemonid_search = re.search('^https://pokeapi\\.co/api/v2/pokemon/(\\d+)/$',type_object['pokemon']['url'])\n",
        "  if type_object['slot'] != 1: # slot 1 is first type\n",
        "    return False\n",
        "  if not pokemonid_search:\n",
        "    return False\n",
        "  if int(pokemonid_search.group(1)) > 10000: # filter out pokemon id > 10000\n",
        "    return False\n",
        "  else:\n",
        "    return True\n",
        "\n",
        "url_list = [x['url'] for x in type_data]\n",
        "\n",
        "for url in url_list:\n",
        "  pokemon_json = requests.get(url).json()['pokemon']\n",
        "  pokemon_f = list(filter(pokemon_filter, pokemon_json))\n",
        "  type1_count.append(len(pokemon_f))\n",
        "\n",
        "print(type1_count)"
      ],
      "execution_count": 4,
      "outputs": [
        {
          "output_type": "stream",
          "text": [
            "[105, 29, 3, 34, 32, 46, 72, 27, 24, 53, 114, 78, 40, 53, 23, 27, 29, 18]\n"
          ],
          "name": "stdout"
        }
      ]
    },
    {
      "cell_type": "markdown",
      "metadata": {
        "id": "PqpCknOCnscb",
        "colab_type": "text"
      },
      "source": [
        "### Organize pokemon into list of lists since the types are already in order:\n",
        "Total validated below."
      ]
    },
    {
      "cell_type": "code",
      "metadata": {
        "id": "G-EtNb9Jn13E",
        "colab_type": "code",
        "outputId": "c1f2fcd5-b57e-47a4-9d47-f3498c19e1b6",
        "colab": {
          "base_uri": "https://localhost:8080/",
          "height": 73
        }
      },
      "source": [
        "def basket_map(name_object, count_object):\n",
        "  return [name_object['name'], count_object]\n",
        "\n",
        "type1_basket = list(map(basket_map, type_data, type1_count))\n",
        "\n",
        "print(type1_basket)\n",
        "print('Total : ' + str(sum(type1_count)))"
      ],
      "execution_count": 5,
      "outputs": [
        {
          "output_type": "stream",
          "text": [
            "[['Normal', 105], ['Fighting', 29], ['Flying', 3], ['Poison', 34], ['Ground', 32], ['Rock', 46], ['Bug', 72], ['Ghost', 27], ['Steel', 24], ['Fire', 53], ['Water', 114], ['Grass', 78], ['Electric', 40], ['Psychic', 53], ['Ice', 23], ['Dragon', 27], ['Dark', 29], ['Fairy', 18]]\n",
            "Total : 807\n"
          ],
          "name": "stdout"
        }
      ]
    },
    {
      "cell_type": "markdown",
      "metadata": {
        "id": "sY6DdqxZoEOl",
        "colab_type": "text"
      },
      "source": [
        "# Enter data into DataFrame:\n",
        "DataFrame.loc[row_label, column_label], use .info() to gather labels\n",
        "\n",
        "Insert pokemon type and number of pokemon into dataframe."
      ]
    },
    {
      "cell_type": "code",
      "metadata": {
        "id": "hypnlOccoT1q",
        "colab_type": "code",
        "outputId": "4f4a4667-ca3e-4f92-9e1e-8fdd23f9f101",
        "colab": {
          "base_uri": "https://localhost:8080/",
          "height": 359
        }
      },
      "source": [
        "pokemon_df = pd.DataFrame({'Type': [x['name'] for x in type_data], 'Count': type1_count})\n",
        "print(pokemon_df.to_string(index=False))"
      ],
      "execution_count": 6,
      "outputs": [
        {
          "output_type": "stream",
          "text": [
            "     Type  Count\n",
            "   Normal    105\n",
            " Fighting     29\n",
            "   Flying      3\n",
            "   Poison     34\n",
            "   Ground     32\n",
            "     Rock     46\n",
            "      Bug     72\n",
            "    Ghost     27\n",
            "    Steel     24\n",
            "     Fire     53\n",
            "    Water    114\n",
            "    Grass     78\n",
            " Electric     40\n",
            "  Psychic     53\n",
            "      Ice     23\n",
            "   Dragon     27\n",
            "     Dark     29\n",
            "    Fairy     18\n"
          ],
          "name": "stdout"
        }
      ]
    },
    {
      "cell_type": "markdown",
      "metadata": {
        "id": "XhEpjrj2o_Y9",
        "colab_type": "text"
      },
      "source": [
        "### Use matplotlib.plt to plot the data onto a chart:\n",
        "**Useful:**\n",
        "\n",
        "\n",
        "plt.plot(x,y), plt.xticks(rotation)\n",
        "\n",
        "\n",
        "plt.xlabel(),plt.ylabel(),plt.title()\n",
        "\n",
        "Pokemon type html colors from: http://www.epidemicjohto.com/t882-type-colors-hex-colors\n",
        "\n",
        " #### Setting up chart visuals below and plotting final product:\n"
      ]
    },
    {
      "cell_type": "code",
      "metadata": {
        "id": "5bAfGOqHpsMs",
        "colab_type": "code",
        "outputId": "73cf79dd-6e95-444c-f21d-3fc587315dfc",
        "colab": {
          "base_uri": "https://localhost:8080/",
          "height": 635
        }
      },
      "source": [
        "colors = ['#A8A77A','#C22E28','#A98FF3','#A33EA1','#E2BF65','#B6A136','#A6B91A','#735797','#B7B7CE','#EE8130','#6390F0','#7AC74C','#F7D02C','#F95587','#96D9D6','#6F35FC','#705746','#D685AD']\n",
        "\n",
        "# Initialize\n",
        "fig1, type_chart = plt.subplots()\n",
        "\n",
        "# Set up labels and axis\n",
        "types = pokemon_df['Type']\n",
        "counts = pokemon_df['Count']\n",
        "x_pos = range(len(types))\n",
        "y_pos = range(0, max(counts)+9, 10)\n",
        "\n",
        "# Set up bar chart\n",
        "type_chart.bar(x_pos, counts, color = colors)\n",
        "type_chart.set_xticks(x_pos)\n",
        "type_chart.set_xticklabels(types, {'rotation': 'vertical'})\n",
        "type_chart.set_yticks(y_pos)\n",
        "\n",
        "# Add text to show count on top of each bar\n",
        "for i, v in enumerate(counts):\n",
        "  if v > 99:\n",
        "    plt.text(x_pos[i] - 0.30, v + 1, v)\n",
        "  else:\n",
        "    plt.text(x_pos[i] - 0.25, v + 1, v)\n",
        "\n",
        "plt.title('Pokemon Type 1 Distribution',fontdict = {'verticalalignment': 'top'})\n",
        "fig = plt.gcf()\n",
        "fig.set_size_inches(10,10)\n",
        "plt.show()"
      ],
      "execution_count": 7,
      "outputs": [
        {
          "output_type": "display_data",
          "data": {
            "image/png": "[encoded data removed]",
            "text/plain": [
              "<Figure size 720x720 with 1 Axes>"
            ]
          },
          "metadata": {
            "tags": []
          }
        }
      ]
    }
  ]
}