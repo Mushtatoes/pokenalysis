{
  "nbformat": 4,
  "nbformat_minor": 0,
  "metadata": {
    "colab": {
      "name": "Pokemon - Defense to Weight/Height Correlation",
      "provenance": [],
      "collapsed_sections": [],
      "toc_visible": true,
      "authorship_tag": "ABX9TyNQFhTfDoXkA7y33AXHXUoz"
    },
    "kernelspec": {
      "name": "python3",
      "display_name": "Python 3"
    }
  },
  "cells": [
    {
      "cell_type": "markdown",
      "metadata": {
        "id": "l5Mt-W0Kzp0e",
        "colab_type": "text"
      },
      "source": [
        "# Pokemon - Defense to Weight/Height Correlation\n",
        "**Description**: Is there a correlation between a Pokemon's Defense stat and it's height or weight?\n",
        "\n",
        "<img src=\"https://github.com/Mushtatoes/proj/blob/master/pikachu.png?raw=true\" width=\"300\"/>\n",
        "\n",
        "\n",
        "---\n",
        "- Defense is one of the primary stats used during combat in Pokemon. It is one of the fundamental values used in the core combative gameplay of Pokemon.<br>\n",
        "- Weight and Height are go more or less unnoticed in Pokemon games. They're mostly fun facts that exist in the Pokedex. It's highly unlikely that developers look at Defense and Weight/Height in parallel when creating Pokemon.<br>\n",
        "- There are Pokemon like Onix and Steelix, both of which have positively correlated Defense and Weight or Height, but then there are Pokemon like Shuckle...a tiny and light Pokemon with even higher Defense than the two mentioned.<br>\n",
        "- This study will calculate the correlation coefficient between Defense and Weight and determine if these properties have any relationship with each other.\n",
        "\n",
        "\n"
      ]
    },
    {
      "cell_type": "code",
      "metadata": {
        "id": "J4ijNq7i1RQQ",
        "colab_type": "code",
        "colab": {}
      },
      "source": [
        "import pandas as pd\n",
        "import matplotlib.pyplot as plt\n",
        "import requests\n",
        "import re\n",
        "import scipy.stats as stats"
      ],
      "execution_count": 0,
      "outputs": []
    },
    {
      "cell_type": "markdown",
      "metadata": {
        "id": "VOcg3Os01ac-",
        "colab_type": "text"
      },
      "source": [
        "## 1. Obtaining Data\n",
        "\n",
        "\n",
        "- No mega-evolutions, alternate forms, etc.\n",
        "- Pulling from PokeAPI\n",
        "- Manually parse and add data into Dataframe without using read_json\n",
        "- At time of writing, there are currently 807 unique Pokemon in the API (Up to Gen 7)\n",
        "\n",
        "\n"
      ]
    },
    {
      "cell_type": "code",
      "metadata": {
        "id": "dnCNleAA14u9",
        "colab_type": "code",
        "colab": {}
      },
      "source": [
        "pokemon_json = requests.get('https://pokeapi.co/api/v2/pokemon?&limit=5000').json()\n",
        "# print(pokemon_json)"
      ],
      "execution_count": 0,
      "outputs": []
    },
    {
      "cell_type": "markdown",
      "metadata": {
        "id": "EBkWAI4L4a-A",
        "colab_type": "text"
      },
      "source": [
        "#### 1a. Filter out non-standard Pokemon by id\n",
        "- Create a list of urls that can be used to pull data on each Pokemon.\n",
        "- PokeAPI uses id <= 10000 to identify standard Pokemon and their traits.\n",
        "- Use regular expressions to isolate the id from the url and compare."
      ]
    },
    {
      "cell_type": "code",
      "metadata": {
        "id": "YMLVkWkg26Ux",
        "colab_type": "code",
        "colab": {}
      },
      "source": [
        "name_url_raw = pokemon_json['results']\n",
        "\n",
        "# Filter out non-standard Pokemon using regex on url:\n",
        "def pokemon_filter(pokemon_object):\n",
        "  pokemon_search = re.search('^https://pokeapi\\.co/api/v2/pokemon/(\\d+)/$', pokemon_object['url'])\n",
        "  if not pokemon_search:\n",
        "    return False\n",
        "  return int(pokemon_search.group(1)) <= 10000\n",
        "\n",
        "name_url = list(filter(pokemon_filter, name_url_raw))\n",
        "\n",
        "pokemon_urls = [x['url'] for x in name_url]\n"
      ],
      "execution_count": 0,
      "outputs": []
    },
    {
      "cell_type": "markdown",
      "metadata": {
        "id": "9pY2JgZI6RPU",
        "colab_type": "text"
      },
      "source": [
        "#### 1b. Map the required data\n",
        "- Each Pokemon's base stats can only be found on their own page, which means a request for each Pokemon.\n",
        "- Storing into a flat file or SQL table would be preferable if the data is  required for reuse in the future."
      ]
    },
    {
      "cell_type": "code",
      "metadata": {
        "id": "Jd5O13kG6qzs",
        "colab_type": "code",
        "colab": {}
      },
      "source": [
        "# Return each pokemon's name, type1, and base stats:\n",
        "def pokemon_map(url):\n",
        "  pokemon = requests.get(url).json()\n",
        "  data = {'name': pokemon['name']\n",
        "          ,'type1': ''.join([t['type']['name'] for t in pokemon['types'] if t['slot'] == 1])\n",
        "          ,'stats': {s['stat']['name']: s['base_stat']for s in pokemon['stats']}\n",
        "          ,'weight': pokemon['weight']\n",
        "          ,'height': pokemon['height']\n",
        "          }\n",
        "  return data\n",
        "\n",
        "# Type1 and stats are not required here: pulled in the case this data needs to be re-used for other tests \n",
        "pokemon_data = list(map(pokemon_map, pokemon_urls))\n",
        "\n",
        "#print(pokemon_data)"
      ],
      "execution_count": 0,
      "outputs": []
    },
    {
      "cell_type": "markdown",
      "metadata": {
        "id": "1lUIVqCK7N29",
        "colab_type": "text"
      },
      "source": [
        "#### 1c. Push the data into a pandas DataFrame"
      ]
    },
    {
      "cell_type": "code",
      "metadata": {
        "id": "5uwsz6E67Wcr",
        "colab_type": "code",
        "outputId": "f85806b5-d69f-47f6-b3a2-b99d0cc98cd7",
        "colab": {
          "base_uri": "https://localhost:8080/",
          "height": 204
        }
      },
      "source": [
        "# Format data into dictionaries for DataFrame:\n",
        "# {Header: [data]}\n",
        "\n",
        "def pivot_data(category, subcategory = None):\n",
        "  if not subcategory:\n",
        "    return [pokemon[category] for pokemon in pokemon_data]\n",
        "  else:\n",
        "    return [pokemon[category][subcategory] for pokemon in pokemon_data]\n",
        "\n",
        "pokemon_name = pivot_data('name')\n",
        "pokemon_type = pivot_data('type1')\n",
        "pokemon_spd = pivot_data('stats', 'speed')\n",
        "pokemon_spdef = pivot_data('stats', 'special-defense')\n",
        "pokemon_spatk = pivot_data('stats', 'special-attack')\n",
        "pokemon_def = pivot_data('stats', 'defense')\n",
        "pokemon_atk = pivot_data('stats', 'attack')\n",
        "pokemon_hp = pivot_data('stats', 'hp')\n",
        "pokemon_weight = pivot_data('weight')\n",
        "pokemon_height = pivot_data('height')\n",
        "\n",
        "pokemon_df = pd.DataFrame({'Name': pokemon_name\n",
        "                           ,'Type1': pokemon_type\n",
        "                           ,'SPD': pokemon_spd\n",
        "                           ,'SPDEF': pokemon_spdef\n",
        "                           ,'SPATK': pokemon_spatk\n",
        "                           ,'DEF': pokemon_def\n",
        "                           ,'ATK': pokemon_atk\n",
        "                           ,'HP': pokemon_hp\n",
        "                           ,'Weight': pokemon_weight\n",
        "                           ,'Height': pokemon_height\n",
        "                           })\n",
        "\n",
        "# Display top rows from DataFrame for preview:\n",
        "\n",
        "pokemon_df.head()"
      ],
      "execution_count": 5,
      "outputs": [
        {
          "output_type": "execute_result",
          "data": {
            "text/html": [
              "<div>\n",
              "<style scoped>\n",
              "    .dataframe tbody tr th:only-of-type {\n",
              "        vertical-align: middle;\n",
              "    }\n",
              "\n",
              "    .dataframe tbody tr th {\n",
              "        vertical-align: top;\n",
              "    }\n",
              "\n",
              "    .dataframe thead th {\n",
              "        text-align: right;\n",
              "    }\n",
              "</style>\n",
              "<table border=\"1\" class=\"dataframe\">\n",
              "  <thead>\n",
              "    <tr style=\"text-align: right;\">\n",
              "      <th></th>\n",
              "      <th>Name</th>\n",
              "      <th>Type1</th>\n",
              "      <th>SPD</th>\n",
              "      <th>SPDEF</th>\n",
              "      <th>SPATK</th>\n",
              "      <th>DEF</th>\n",
              "      <th>ATK</th>\n",
              "      <th>HP</th>\n",
              "      <th>Weight</th>\n",
              "      <th>Height</th>\n",
              "    </tr>\n",
              "  </thead>\n",
              "  <tbody>\n",
              "    <tr>\n",
              "      <th>0</th>\n",
              "      <td>bulbasaur</td>\n",
              "      <td>grass</td>\n",
              "      <td>45</td>\n",
              "      <td>65</td>\n",
              "      <td>65</td>\n",
              "      <td>49</td>\n",
              "      <td>49</td>\n",
              "      <td>45</td>\n",
              "      <td>69</td>\n",
              "      <td>7</td>\n",
              "    </tr>\n",
              "    <tr>\n",
              "      <th>1</th>\n",
              "      <td>ivysaur</td>\n",
              "      <td>grass</td>\n",
              "      <td>60</td>\n",
              "      <td>80</td>\n",
              "      <td>80</td>\n",
              "      <td>63</td>\n",
              "      <td>62</td>\n",
              "      <td>60</td>\n",
              "      <td>130</td>\n",
              "      <td>10</td>\n",
              "    </tr>\n",
              "    <tr>\n",
              "      <th>2</th>\n",
              "      <td>venusaur</td>\n",
              "      <td>grass</td>\n",
              "      <td>80</td>\n",
              "      <td>100</td>\n",
              "      <td>100</td>\n",
              "      <td>83</td>\n",
              "      <td>82</td>\n",
              "      <td>80</td>\n",
              "      <td>1000</td>\n",
              "      <td>20</td>\n",
              "    </tr>\n",
              "    <tr>\n",
              "      <th>3</th>\n",
              "      <td>charmander</td>\n",
              "      <td>fire</td>\n",
              "      <td>65</td>\n",
              "      <td>50</td>\n",
              "      <td>60</td>\n",
              "      <td>43</td>\n",
              "      <td>52</td>\n",
              "      <td>39</td>\n",
              "      <td>85</td>\n",
              "      <td>6</td>\n",
              "    </tr>\n",
              "    <tr>\n",
              "      <th>4</th>\n",
              "      <td>charmeleon</td>\n",
              "      <td>fire</td>\n",
              "      <td>80</td>\n",
              "      <td>65</td>\n",
              "      <td>80</td>\n",
              "      <td>58</td>\n",
              "      <td>64</td>\n",
              "      <td>58</td>\n",
              "      <td>190</td>\n",
              "      <td>11</td>\n",
              "    </tr>\n",
              "  </tbody>\n",
              "</table>\n",
              "</div>"
            ],
            "text/plain": [
              "         Name  Type1  SPD  SPDEF  SPATK  DEF  ATK  HP  Weight  Height\n",
              "0   bulbasaur  grass   45     65     65   49   49  45      69       7\n",
              "1     ivysaur  grass   60     80     80   63   62  60     130      10\n",
              "2    venusaur  grass   80    100    100   83   82  80    1000      20\n",
              "3  charmander   fire   65     50     60   43   52  39      85       6\n",
              "4  charmeleon   fire   80     65     80   58   64  58     190      11"
            ]
          },
          "metadata": {
            "tags": []
          },
          "execution_count": 5
        }
      ]
    },
    {
      "cell_type": "markdown",
      "metadata": {
        "id": "dW8YmUeOw4Og",
        "colab_type": "text"
      },
      "source": [
        "## 2. Testing the Relationships\n",
        "\n"
      ]
    },
    {
      "cell_type": "markdown",
      "metadata": {
        "id": "LZhRideV2gpY",
        "colab_type": "text"
      },
      "source": [
        "#### 2a. Viewing and Calculating Data\n",
        "Test the impact of each pokemon property versus it's Defense stat:\n",
        " - DEF vs. Weight\n",
        " - DEF vs. Height\n",
        " - Weight vs. Height\n",
        "\n",
        "Let's see how each set looks on separate plots:\n"
      ]
    },
    {
      "cell_type": "code",
      "metadata": {
        "id": "sDXl7lzQOIBC",
        "colab_type": "code",
        "outputId": "70a0cdfc-67e3-48c1-8f24-01c204910966",
        "colab": {
          "base_uri": "https://localhost:8080/",
          "height": 350
        }
      },
      "source": [
        "fig, ax = plt.subplots(1,3, figsize = (25, 5))\n",
        "\n",
        "def scatter_grapher(df, i, prop_x, prop_y):\n",
        "  ax[i].scatter(df[prop_x], df[prop_y], s = 8)\n",
        "  ax[i].set_title(prop_x + ' vs. ' + prop_y)\n",
        "  ax[i].set_xlabel(prop_x)\n",
        "  ax[i].set_ylabel(prop_y)\n",
        "\n",
        "scatter_grapher(pokemon_df, 0, 'DEF', 'Weight')\n",
        "scatter_grapher(pokemon_df, 1, 'DEF', 'Height')\n",
        "scatter_grapher(pokemon_df, 2, 'Weight', 'Height')\n",
        "\n",
        "plt.show()"
      ],
      "execution_count": 6,
      "outputs": [
        {
          "output_type": "display_data",
          "data": {
            "image/png": "[encoded data removed]",
            "text/plain": [
              "<Figure size 1800x360 with 3 Axes>"
            ]
          },
          "metadata": {
            "tags": []
          }
        }
      ]
    },
    {
      "cell_type": "markdown",
      "metadata": {
        "id": "RGQAVNBPcuEm",
        "colab_type": "text"
      },
      "source": [
        "We'll use Pearson's Correlation Coefficient to determine the p-values.\n",
        "\n",
        "Normally we would calculate:\n",
        "- Mean and standard deviation of each property\n",
        "- Covariance\n",
        "- Divide by the product of the standard deviation of each property\n",
        "- Use a critical value table to find the p-value\n",
        "\n",
        "But we get summarize that all into one step by using the scipy library."
      ]
    },
    {
      "cell_type": "markdown",
      "metadata": {
        "id": "7sUISRBDLUdB",
        "colab_type": "text"
      },
      "source": [
        "State our null hypothesis and alternative hypothesis:\n",
        "> H<sub>0</sub> : r = 0<br>\n",
        ">H<sub>1</sub>: r ≠ 0\n",
        "\n",
        "Where r = 0 indicates there is no correlation and r ≠ 0 indicates there is some type of correlation.\n",
        "\n",
        "And we will use the standard significance level of 0.05:\n",
        "\n",
        "> α = 0.05"
      ]
    },
    {
      "cell_type": "markdown",
      "metadata": {
        "colab_type": "text",
        "id": "XAZs3oNiszd1"
      },
      "source": [
        "#### 2b. Calculating the Correlation Coefficient\n",
        "\n",
        "We can compare the how much each property is related each other using the correlation coefficient, denoted by ρ (rho).\n",
        "> - +1 = Positive Correlation\n",
        "- 0 = No Correlation\n",
        "--1 = Negative Correlation\n",
        "\n",
        "Let's use the scipy library to calculate Pearson's Correlation Coefficient and p-value:"
      ]
    },
    {
      "cell_type": "code",
      "metadata": {
        "id": "Bm9hKMkt_xbG",
        "colab_type": "code",
        "outputId": "4ed9761f-74e0-4ed3-bdc0-9486161288d1",
        "colab": {
          "base_uri": "https://localhost:8080/",
          "height": 142
        }
      },
      "source": [
        "# Creating a DataFrame to hold results mainly for aesthetic:\n",
        "results_coef = []\n",
        "results_pval = []\n",
        "\n",
        "def_weight = stats.pearsonr(pokemon_df['DEF'], pokemon_df['Weight'])\n",
        "def_height = stats.pearsonr(pokemon_df['DEF'], pokemon_df['Height'])\n",
        "weight_height = stats.pearsonr(pokemon_df['Weight'], pokemon_df['Height'])\n",
        "\n",
        "# Rounding and appending, just to improve readability.\n",
        "def round_ins(t):\n",
        "  results_coef.append(round(t[0],2))\n",
        "  results_pval.append(round(t[1],2))\n",
        "\n",
        "round_ins(def_weight)\n",
        "round_ins(def_height)\n",
        "round_ins(weight_height)\n",
        "\n",
        "results_columns = {'Properties': ['corr (DEF, Weight)', 'corr (DEF, Height)', 'corr (Weight, Height)'], 'r': results_coef, 'p-value': results_pval}\n",
        "\n",
        "results_df = pd.DataFrame(results_columns)\n",
        "\n",
        "results_df"
      ],
      "execution_count": 7,
      "outputs": [
        {
          "output_type": "execute_result",
          "data": {
            "text/html": [
              "<div>\n",
              "<style scoped>\n",
              "    .dataframe tbody tr th:only-of-type {\n",
              "        vertical-align: middle;\n",
              "    }\n",
              "\n",
              "    .dataframe tbody tr th {\n",
              "        vertical-align: top;\n",
              "    }\n",
              "\n",
              "    .dataframe thead th {\n",
              "        text-align: right;\n",
              "    }\n",
              "</style>\n",
              "<table border=\"1\" class=\"dataframe\">\n",
              "  <thead>\n",
              "    <tr style=\"text-align: right;\">\n",
              "      <th></th>\n",
              "      <th>Properties</th>\n",
              "      <th>r</th>\n",
              "      <th>p-value</th>\n",
              "    </tr>\n",
              "  </thead>\n",
              "  <tbody>\n",
              "    <tr>\n",
              "      <th>0</th>\n",
              "      <td>corr (DEF, Weight)</td>\n",
              "      <td>0.45</td>\n",
              "      <td>0.0</td>\n",
              "    </tr>\n",
              "    <tr>\n",
              "      <th>1</th>\n",
              "      <td>corr (DEF, Height)</td>\n",
              "      <td>0.36</td>\n",
              "      <td>0.0</td>\n",
              "    </tr>\n",
              "    <tr>\n",
              "      <th>2</th>\n",
              "      <td>corr (Weight, Height)</td>\n",
              "      <td>0.64</td>\n",
              "      <td>0.0</td>\n",
              "    </tr>\n",
              "  </tbody>\n",
              "</table>\n",
              "</div>"
            ],
            "text/plain": [
              "              Properties     r  p-value\n",
              "0     corr (DEF, Weight)  0.45      0.0\n",
              "1     corr (DEF, Height)  0.36      0.0\n",
              "2  corr (Weight, Height)  0.64      0.0"
            ]
          },
          "metadata": {
            "tags": []
          },
          "execution_count": 7
        }
      ]
    },
    {
      "cell_type": "markdown",
      "metadata": {
        "id": "2VO3rx5SpjjP",
        "colab_type": "text"
      },
      "source": [
        "#### 2c. Thoughts and Analysis"
      ]
    },
    {
      "cell_type": "markdown",
      "metadata": {
        "id": "SEaJkOuGZzfI",
        "colab_type": "text"
      },
      "source": [
        "**All Pokemon**<br>\n",
        "**corr (DEF, Weight), corr (DEF, Height), corr (Weight, Height):**\n",
        "\n",
        "Since r ≠ 0 for all three correlation coefficients, we can reject the null hypothesis and assume there is correlation between all three properties. The p-value is also very low (\\< 0.001): further indicating strong evidence against the null hypothesis and well within the significant value α.\n",
        "\n",
        "- Weight and Height, both which are less important to gameplay and more arbitrary properties in the Pokemon universe, have a higher correlation coefficient than the other two tests. It does make logical sense that the taller a Pokemon in canon, the heavier it becomes and that these two properties have a higher correlation coefficient than corr (DEF, Weight) or corr (DEF, Height).\n",
        "\n",
        "- Another reason the Weight & Height correlation coefficient may be higher is because those two values likely come from the same source: the Pokemon creators. DEF is a combat stat used in core gameplay, so it has to be balanced and maintained based on how the game developers feel fit, while Weight and Height have a very low impact on the core gameplay."
      ]
    },
    {
      "cell_type": "markdown",
      "metadata": {
        "id": "AjeGd2gaegTe",
        "colab_type": "text"
      },
      "source": [
        "## 3. Filtering by Type"
      ]
    },
    {
      "cell_type": "markdown",
      "metadata": {
        "id": "FqIFHMbGep60",
        "colab_type": "text"
      },
      "source": [
        "The analysis in section 2 was used with all Pokemon that currently exist in the PokeAPI (Gen 7).\n",
        "\n",
        "Let's find the top Defense-based Pokemon type and use it for correlation anaylsis.\n",
        "\n",
        "- There are currently 18 types of Pokemon.\n",
        "- Only Type1 will be used, as that is the Pokemon's primary type.\n",
        "- Find the top type where DEF is the highest stat per Pokemon.\n",
        "\n",
        "#### 3a. Creating a new DataFrame for DEF-based Pokemon"
      ]
    },
    {
      "cell_type": "code",
      "metadata": {
        "id": "b3Xe5fEIf3gk",
        "colab_type": "code",
        "outputId": "32d89a7f-0a30-485e-90bc-3ba6385658d1",
        "colab": {
          "base_uri": "https://localhost:8080/",
          "height": 419
        }
      },
      "source": [
        "def def_bin(row):\n",
        "  return pokemon_df.DEF.iloc[row] == pokemon_df[['SPD','SPDEF','SPATK','DEF','ATK','HP']].iloc[row].max()\n",
        "\n",
        "pokemon_df['def_hi'] = [def_bin(pokemon) for pokemon in range(pokemon_df.Name.count()) if True]\n",
        "\n",
        "def_pokemon_df = pokemon_df[pokemon_df.def_hi == True]\n",
        "\n",
        "def_pokemon_df"
      ],
      "execution_count": 8,
      "outputs": [
        {
          "output_type": "execute_result",
          "data": {
            "text/html": [
              "<div>\n",
              "<style scoped>\n",
              "    .dataframe tbody tr th:only-of-type {\n",
              "        vertical-align: middle;\n",
              "    }\n",
              "\n",
              "    .dataframe tbody tr th {\n",
              "        vertical-align: top;\n",
              "    }\n",
              "\n",
              "    .dataframe thead th {\n",
              "        text-align: right;\n",
              "    }\n",
              "</style>\n",
              "<table border=\"1\" class=\"dataframe\">\n",
              "  <thead>\n",
              "    <tr style=\"text-align: right;\">\n",
              "      <th></th>\n",
              "      <th>Name</th>\n",
              "      <th>Type1</th>\n",
              "      <th>SPD</th>\n",
              "      <th>SPDEF</th>\n",
              "      <th>SPATK</th>\n",
              "      <th>DEF</th>\n",
              "      <th>ATK</th>\n",
              "      <th>HP</th>\n",
              "      <th>Weight</th>\n",
              "      <th>Height</th>\n",
              "      <th>def_hi</th>\n",
              "    </tr>\n",
              "  </thead>\n",
              "  <tbody>\n",
              "    <tr>\n",
              "      <th>6</th>\n",
              "      <td>squirtle</td>\n",
              "      <td>water</td>\n",
              "      <td>43</td>\n",
              "      <td>64</td>\n",
              "      <td>50</td>\n",
              "      <td>65</td>\n",
              "      <td>48</td>\n",
              "      <td>44</td>\n",
              "      <td>90</td>\n",
              "      <td>5</td>\n",
              "      <td>True</td>\n",
              "    </tr>\n",
              "    <tr>\n",
              "      <th>7</th>\n",
              "      <td>wartortle</td>\n",
              "      <td>water</td>\n",
              "      <td>58</td>\n",
              "      <td>80</td>\n",
              "      <td>65</td>\n",
              "      <td>80</td>\n",
              "      <td>63</td>\n",
              "      <td>59</td>\n",
              "      <td>225</td>\n",
              "      <td>10</td>\n",
              "      <td>True</td>\n",
              "    </tr>\n",
              "    <tr>\n",
              "      <th>10</th>\n",
              "      <td>metapod</td>\n",
              "      <td>bug</td>\n",
              "      <td>30</td>\n",
              "      <td>25</td>\n",
              "      <td>25</td>\n",
              "      <td>55</td>\n",
              "      <td>20</td>\n",
              "      <td>50</td>\n",
              "      <td>99</td>\n",
              "      <td>7</td>\n",
              "      <td>True</td>\n",
              "    </tr>\n",
              "    <tr>\n",
              "      <th>13</th>\n",
              "      <td>kakuna</td>\n",
              "      <td>bug</td>\n",
              "      <td>35</td>\n",
              "      <td>25</td>\n",
              "      <td>25</td>\n",
              "      <td>50</td>\n",
              "      <td>25</td>\n",
              "      <td>45</td>\n",
              "      <td>100</td>\n",
              "      <td>6</td>\n",
              "      <td>True</td>\n",
              "    </tr>\n",
              "    <tr>\n",
              "      <th>26</th>\n",
              "      <td>sandshrew</td>\n",
              "      <td>ground</td>\n",
              "      <td>40</td>\n",
              "      <td>30</td>\n",
              "      <td>20</td>\n",
              "      <td>85</td>\n",
              "      <td>75</td>\n",
              "      <td>50</td>\n",
              "      <td>120</td>\n",
              "      <td>6</td>\n",
              "      <td>True</td>\n",
              "    </tr>\n",
              "    <tr>\n",
              "      <th>...</th>\n",
              "      <td>...</td>\n",
              "      <td>...</td>\n",
              "      <td>...</td>\n",
              "      <td>...</td>\n",
              "      <td>...</td>\n",
              "      <td>...</td>\n",
              "      <td>...</td>\n",
              "      <td>...</td>\n",
              "      <td>...</td>\n",
              "      <td>...</td>\n",
              "      <td>...</td>\n",
              "    </tr>\n",
              "    <tr>\n",
              "      <th>782</th>\n",
              "      <td>hakamo-o</td>\n",
              "      <td>dragon</td>\n",
              "      <td>65</td>\n",
              "      <td>70</td>\n",
              "      <td>65</td>\n",
              "      <td>90</td>\n",
              "      <td>75</td>\n",
              "      <td>55</td>\n",
              "      <td>470</td>\n",
              "      <td>12</td>\n",
              "      <td>True</td>\n",
              "    </tr>\n",
              "    <tr>\n",
              "      <th>783</th>\n",
              "      <td>kommo-o</td>\n",
              "      <td>dragon</td>\n",
              "      <td>85</td>\n",
              "      <td>105</td>\n",
              "      <td>100</td>\n",
              "      <td>125</td>\n",
              "      <td>110</td>\n",
              "      <td>75</td>\n",
              "      <td>782</td>\n",
              "      <td>16</td>\n",
              "      <td>True</td>\n",
              "    </tr>\n",
              "    <tr>\n",
              "      <th>789</th>\n",
              "      <td>cosmoem</td>\n",
              "      <td>psychic</td>\n",
              "      <td>37</td>\n",
              "      <td>131</td>\n",
              "      <td>29</td>\n",
              "      <td>131</td>\n",
              "      <td>29</td>\n",
              "      <td>43</td>\n",
              "      <td>9999</td>\n",
              "      <td>1</td>\n",
              "      <td>True</td>\n",
              "    </tr>\n",
              "    <tr>\n",
              "      <th>793</th>\n",
              "      <td>buzzwole</td>\n",
              "      <td>bug</td>\n",
              "      <td>79</td>\n",
              "      <td>53</td>\n",
              "      <td>53</td>\n",
              "      <td>139</td>\n",
              "      <td>139</td>\n",
              "      <td>107</td>\n",
              "      <td>3336</td>\n",
              "      <td>24</td>\n",
              "      <td>True</td>\n",
              "    </tr>\n",
              "    <tr>\n",
              "      <th>804</th>\n",
              "      <td>stakataka</td>\n",
              "      <td>rock</td>\n",
              "      <td>13</td>\n",
              "      <td>101</td>\n",
              "      <td>53</td>\n",
              "      <td>211</td>\n",
              "      <td>131</td>\n",
              "      <td>61</td>\n",
              "      <td>8200</td>\n",
              "      <td>55</td>\n",
              "      <td>True</td>\n",
              "    </tr>\n",
              "  </tbody>\n",
              "</table>\n",
              "<p>162 rows × 11 columns</p>\n",
              "</div>"
            ],
            "text/plain": [
              "          Name    Type1  SPD  SPDEF  SPATK  ...  ATK   HP  Weight  Height  def_hi\n",
              "6     squirtle    water   43     64     50  ...   48   44      90       5    True\n",
              "7    wartortle    water   58     80     65  ...   63   59     225      10    True\n",
              "10     metapod      bug   30     25     25  ...   20   50      99       7    True\n",
              "13      kakuna      bug   35     25     25  ...   25   45     100       6    True\n",
              "26   sandshrew   ground   40     30     20  ...   75   50     120       6    True\n",
              "..         ...      ...  ...    ...    ...  ...  ...  ...     ...     ...     ...\n",
              "782   hakamo-o   dragon   65     70     65  ...   75   55     470      12    True\n",
              "783    kommo-o   dragon   85    105    100  ...  110   75     782      16    True\n",
              "789    cosmoem  psychic   37    131     29  ...   29   43    9999       1    True\n",
              "793   buzzwole      bug   79     53     53  ...  139  107    3336      24    True\n",
              "804  stakataka     rock   13    101     53  ...  131   61    8200      55    True\n",
              "\n",
              "[162 rows x 11 columns]"
            ]
          },
          "metadata": {
            "tags": []
          },
          "execution_count": 8
        }
      ]
    },
    {
      "cell_type": "markdown",
      "metadata": {
        "id": "anxEdtyCnMt9",
        "colab_type": "text"
      },
      "source": [
        "Now that we have all the Defense-based Pokemon, not all types have the same number of Pokemon, so the proportion of Pokemon that are Defense-based per type will be taken out of all Pokemon per type.\n",
        "\n",
        "- If there are other stats equal to DEF as the highest, they are still counted as a Defense Pokemon."
      ]
    },
    {
      "cell_type": "code",
      "metadata": {
        "id": "1ymRMCvXmHOq",
        "colab_type": "code",
        "outputId": "b4ff485b-3332-4364-e4cc-6a607442fe84",
        "colab": {
          "base_uri": "https://localhost:8080/",
          "height": 607
        }
      },
      "source": [
        "# (Count of DEF Highest Base stat Pokemon / Count of all Pokemon) per Type\n",
        "tot_count = pokemon_df.groupby('Type1').count()\n",
        "def_count = def_pokemon_df.groupby('Type1').count()\n",
        "\n",
        "df_prop = pd.DataFrame(round(def_count['Name'] / tot_count['Name'], 2))\n",
        "\n",
        "# Rename column Name -> Proportion to avoid confusion\n",
        "rename_df = df_prop.rename(columns = {'Name': 'Proportion'})\n",
        "\n",
        "def_type_prop = rename_df.reset_index()\n",
        "\n",
        "def_type_prop"
      ],
      "execution_count": 9,
      "outputs": [
        {
          "output_type": "execute_result",
          "data": {
            "text/html": [
              "<div>\n",
              "<style scoped>\n",
              "    .dataframe tbody tr th:only-of-type {\n",
              "        vertical-align: middle;\n",
              "    }\n",
              "\n",
              "    .dataframe tbody tr th {\n",
              "        vertical-align: top;\n",
              "    }\n",
              "\n",
              "    .dataframe thead th {\n",
              "        text-align: right;\n",
              "    }\n",
              "</style>\n",
              "<table border=\"1\" class=\"dataframe\">\n",
              "  <thead>\n",
              "    <tr style=\"text-align: right;\">\n",
              "      <th></th>\n",
              "      <th>Type1</th>\n",
              "      <th>Proportion</th>\n",
              "    </tr>\n",
              "  </thead>\n",
              "  <tbody>\n",
              "    <tr>\n",
              "      <th>0</th>\n",
              "      <td>bug</td>\n",
              "      <td>0.33</td>\n",
              "    </tr>\n",
              "    <tr>\n",
              "      <th>1</th>\n",
              "      <td>dark</td>\n",
              "      <td>0.10</td>\n",
              "    </tr>\n",
              "    <tr>\n",
              "      <th>2</th>\n",
              "      <td>dragon</td>\n",
              "      <td>0.19</td>\n",
              "    </tr>\n",
              "    <tr>\n",
              "      <th>3</th>\n",
              "      <td>electric</td>\n",
              "      <td>NaN</td>\n",
              "    </tr>\n",
              "    <tr>\n",
              "      <th>4</th>\n",
              "      <td>fairy</td>\n",
              "      <td>0.17</td>\n",
              "    </tr>\n",
              "    <tr>\n",
              "      <th>5</th>\n",
              "      <td>fighting</td>\n",
              "      <td>0.03</td>\n",
              "    </tr>\n",
              "    <tr>\n",
              "      <th>6</th>\n",
              "      <td>fire</td>\n",
              "      <td>0.06</td>\n",
              "    </tr>\n",
              "    <tr>\n",
              "      <th>7</th>\n",
              "      <td>flying</td>\n",
              "      <td>NaN</td>\n",
              "    </tr>\n",
              "    <tr>\n",
              "      <th>8</th>\n",
              "      <td>ghost</td>\n",
              "      <td>0.37</td>\n",
              "    </tr>\n",
              "    <tr>\n",
              "      <th>9</th>\n",
              "      <td>grass</td>\n",
              "      <td>0.21</td>\n",
              "    </tr>\n",
              "    <tr>\n",
              "      <th>10</th>\n",
              "      <td>ground</td>\n",
              "      <td>0.31</td>\n",
              "    </tr>\n",
              "    <tr>\n",
              "      <th>11</th>\n",
              "      <td>ice</td>\n",
              "      <td>0.17</td>\n",
              "    </tr>\n",
              "    <tr>\n",
              "      <th>12</th>\n",
              "      <td>normal</td>\n",
              "      <td>0.08</td>\n",
              "    </tr>\n",
              "    <tr>\n",
              "      <th>13</th>\n",
              "      <td>poison</td>\n",
              "      <td>0.21</td>\n",
              "    </tr>\n",
              "    <tr>\n",
              "      <th>14</th>\n",
              "      <td>psychic</td>\n",
              "      <td>0.11</td>\n",
              "    </tr>\n",
              "    <tr>\n",
              "      <th>15</th>\n",
              "      <td>rock</td>\n",
              "      <td>0.46</td>\n",
              "    </tr>\n",
              "    <tr>\n",
              "      <th>16</th>\n",
              "      <td>steel</td>\n",
              "      <td>0.83</td>\n",
              "    </tr>\n",
              "    <tr>\n",
              "      <th>17</th>\n",
              "      <td>water</td>\n",
              "      <td>0.18</td>\n",
              "    </tr>\n",
              "  </tbody>\n",
              "</table>\n",
              "</div>"
            ],
            "text/plain": [
              "       Type1  Proportion\n",
              "0        bug        0.33\n",
              "1       dark        0.10\n",
              "2     dragon        0.19\n",
              "3   electric         NaN\n",
              "4      fairy        0.17\n",
              "5   fighting        0.03\n",
              "6       fire        0.06\n",
              "7     flying         NaN\n",
              "8      ghost        0.37\n",
              "9      grass        0.21\n",
              "10    ground        0.31\n",
              "11       ice        0.17\n",
              "12    normal        0.08\n",
              "13    poison        0.21\n",
              "14   psychic        0.11\n",
              "15      rock        0.46\n",
              "16     steel        0.83\n",
              "17     water        0.18"
            ]
          },
          "metadata": {
            "tags": []
          },
          "execution_count": 9
        }
      ]
    },
    {
      "cell_type": "markdown",
      "metadata": {
        "id": "KbIsTPB0uLLP",
        "colab_type": "text"
      },
      "source": [
        "#### 3b. Determining which Type to Test"
      ]
    },
    {
      "cell_type": "markdown",
      "metadata": {
        "id": "kNe5gf6HpHja",
        "colab_type": "text"
      },
      "source": [
        "Plot on a bar graph so that the highest proportion of defense-based Pokemon types can easily be compared."
      ]
    },
    {
      "cell_type": "code",
      "metadata": {
        "id": "oHWBzV1Upzh0",
        "colab_type": "code",
        "outputId": "980ebd1d-2569-435b-9f6b-9ef642ba1bf0",
        "colab": {
          "base_uri": "https://localhost:8080/",
          "height": 433
        }
      },
      "source": [
        "# HTML color codes for each type\n",
        "type_colors = {'bug': '#A6B91A', 'dark': '#705746', 'dragon': '#6F35FC', 'electric': '#F7D02C', 'fairy': '#D685AD', 'fighting': '#C22E28'\n",
        ", 'fire': '#EE8130', 'flying': '#A98FF3', 'ghost': '#735797', 'grass': '#7AC74C', 'ground': '#E2BF65', 'ice': '#96D9D6'\n",
        ", 'normal': '#A8A77A', 'poison': '#A33EA1', 'psychic': '#F95587', 'rock': '#B6A136', 'steel': '#B7B7CE', 'water': '#6390F0'}\n",
        "\n",
        "# Set x/y positions and create labels\n",
        "x = range(def_type_prop.Type1.count())\n",
        "y = def_type_prop.Proportion\n",
        "xlabels = list(def_type_prop.Type1)\n",
        "\n",
        "plt.figure(figsize = (10,6))\n",
        "plt.bar(x, y, color = type_colors.values())\n",
        "plt.xticks(x, xlabels, rotation = 90)\n",
        "plt.xlabel('Type')\n",
        "plt.ylabel('Proportion')\n",
        "plt.title('Defense-Based Proportion of Total by Type')\n",
        "\n",
        "plt.show()"
      ],
      "execution_count": 10,
      "outputs": [
        {
          "output_type": "display_data",
          "data": {
            "image/png": "[encoded data removed]",
            "text/plain": [
              "<Figure size 720x432 with 1 Axes>"
            ]
          },
          "metadata": {
            "tags": []
          }
        }
      ]
    },
    {
      "cell_type": "markdown",
      "metadata": {
        "id": "sLvlUWEE0uTh",
        "colab_type": "text"
      },
      "source": [
        "#### 3c. Calculating the Correlation Coefficient for Steel types"
      ]
    },
    {
      "cell_type": "markdown",
      "metadata": {
        "id": "0Wsz7ARnuCMg",
        "colab_type": "text"
      },
      "source": [
        "We can see that Steel has a resounding top proportion of Defense based Pokemon, with Rock coming in second and Ghost coming in third.\n",
        "\n",
        "- Note that ghost types have the third highest proportion of Defense-based Pokemon.\n",
        "- Most ghost Pokemon have little to no Weight, which could have been part of the reason why the DEF to Weight correlation coefficient was moderate.\n",
        "- Keep in mind these are primary types only.\n",
        "\n",
        "Plotting Steel Pokemon for the same properties tested earlier:"
      ]
    },
    {
      "cell_type": "code",
      "metadata": {
        "id": "EHT2yAsvvLF6",
        "colab_type": "code",
        "outputId": "09dcfc85-9ffd-4df7-964f-db9c1a31eefd",
        "colab": {
          "base_uri": "https://localhost:8080/",
          "height": 187
        }
      },
      "source": [
        "steel_df = pokemon_df[pokemon_df.Type1 == 'steel']\n",
        "\n",
        "fig, ax = plt.subplots(1,3, figsize = (15,2))\n",
        "\n",
        "scatter_grapher(steel_df, 0, 'DEF', 'Weight')\n",
        "scatter_grapher(steel_df, 1, 'DEF', 'Height')\n",
        "scatter_grapher(steel_df, 2, 'Weight', 'Height')\n",
        "\n",
        "plt.show()"
      ],
      "execution_count": 11,
      "outputs": [
        {
          "output_type": "display_data",
          "data": {
            "image/png": "[encoded data removed]",
            "text/plain": [
              "<Figure size 1080x144 with 3 Axes>"
            ]
          },
          "metadata": {
            "tags": []
          }
        }
      ]
    },
    {
      "cell_type": "markdown",
      "metadata": {
        "id": "L2yQw8_50Gbx",
        "colab_type": "text"
      },
      "source": [
        "State null hypothesis and alternative hypothesis:\n",
        "\n",
        "> H<sub>0</sub> : r = 0<br>\n",
        ">H<sub>1</sub>: r ≠ 0\n",
        "\n",
        "Where r (rho) = 0 indicates there is no correlation and r ≠ 0 indicates there is some correlation. \n",
        "\n",
        "And we will use the standard significance level of 0.05:\n",
        "\n",
        "> α = 0.05\n",
        "\n",
        "\n",
        "Let's calculate the correlation coefficients for steel type pokemon:"
      ]
    },
    {
      "cell_type": "code",
      "metadata": {
        "id": "1BOsT79F1KZr",
        "colab_type": "code",
        "outputId": "711ce26f-771b-4999-da8f-2dd51cc58d3f",
        "colab": {
          "base_uri": "https://localhost:8080/",
          "height": 321
        }
      },
      "source": [
        "# Same as for all Pokemon, except with steel prefix\n",
        "steel_results_coef = []\n",
        "steel_results_pval = []\n",
        "\n",
        "def steel_round_ins(t):\n",
        "  steel_results_coef.append(round(t[0],2))\n",
        "  steel_results_pval.append(round(t[1],2))\n",
        "\n",
        "steel_def_weight = stats.pearsonr(steel_df['DEF'], steel_df['Weight'])\n",
        "steel_def_height = stats.pearsonr(steel_df['DEF'], steel_df['Height'])\n",
        "steel_weight_height = stats.pearsonr(steel_df['Weight'], steel_df['Height'])\n",
        "\n",
        "steel_round_ins(steel_def_weight)\n",
        "steel_round_ins(steel_def_height)\n",
        "steel_round_ins(steel_weight_height)\n",
        "\n",
        "steel_results_columns = {'Properties': ['corr (DEF, Weight)', 'corr (DEF, Height)', 'corr (Weight, Height)'], 'r': steel_results_coef, 'p-value': steel_results_pval}\n",
        "\n",
        "steel_results_df = pd.DataFrame(steel_results_columns)\n",
        "\n",
        "print('Steel Only:')\n",
        "display(steel_results_df)\n",
        "print()\n",
        "print('All Pokemon:')\n",
        "display(results_df)\n"
      ],
      "execution_count": 12,
      "outputs": [
        {
          "output_type": "stream",
          "text": [
            "Steel Only:\n"
          ],
          "name": "stdout"
        },
        {
          "output_type": "display_data",
          "data": {
            "text/html": [
              "<div>\n",
              "<style scoped>\n",
              "    .dataframe tbody tr th:only-of-type {\n",
              "        vertical-align: middle;\n",
              "    }\n",
              "\n",
              "    .dataframe tbody tr th {\n",
              "        vertical-align: top;\n",
              "    }\n",
              "\n",
              "    .dataframe thead th {\n",
              "        text-align: right;\n",
              "    }\n",
              "</style>\n",
              "<table border=\"1\" class=\"dataframe\">\n",
              "  <thead>\n",
              "    <tr style=\"text-align: right;\">\n",
              "      <th></th>\n",
              "      <th>Properties</th>\n",
              "      <th>r</th>\n",
              "      <th>p-value</th>\n",
              "    </tr>\n",
              "  </thead>\n",
              "  <tbody>\n",
              "    <tr>\n",
              "      <th>0</th>\n",
              "      <td>corr (DEF, Weight)</td>\n",
              "      <td>0.25</td>\n",
              "      <td>0.23</td>\n",
              "    </tr>\n",
              "    <tr>\n",
              "      <th>1</th>\n",
              "      <td>corr (DEF, Height)</td>\n",
              "      <td>0.45</td>\n",
              "      <td>0.03</td>\n",
              "    </tr>\n",
              "    <tr>\n",
              "      <th>2</th>\n",
              "      <td>corr (Weight, Height)</td>\n",
              "      <td>0.81</td>\n",
              "      <td>0.00</td>\n",
              "    </tr>\n",
              "  </tbody>\n",
              "</table>\n",
              "</div>"
            ],
            "text/plain": [
              "              Properties     r  p-value\n",
              "0     corr (DEF, Weight)  0.25     0.23\n",
              "1     corr (DEF, Height)  0.45     0.03\n",
              "2  corr (Weight, Height)  0.81     0.00"
            ]
          },
          "metadata": {
            "tags": []
          }
        },
        {
          "output_type": "stream",
          "text": [
            "\n",
            "All Pokemon:\n"
          ],
          "name": "stdout"
        },
        {
          "output_type": "display_data",
          "data": {
            "text/html": [
              "<div>\n",
              "<style scoped>\n",
              "    .dataframe tbody tr th:only-of-type {\n",
              "        vertical-align: middle;\n",
              "    }\n",
              "\n",
              "    .dataframe tbody tr th {\n",
              "        vertical-align: top;\n",
              "    }\n",
              "\n",
              "    .dataframe thead th {\n",
              "        text-align: right;\n",
              "    }\n",
              "</style>\n",
              "<table border=\"1\" class=\"dataframe\">\n",
              "  <thead>\n",
              "    <tr style=\"text-align: right;\">\n",
              "      <th></th>\n",
              "      <th>Properties</th>\n",
              "      <th>r</th>\n",
              "      <th>p-value</th>\n",
              "    </tr>\n",
              "  </thead>\n",
              "  <tbody>\n",
              "    <tr>\n",
              "      <th>0</th>\n",
              "      <td>corr (DEF, Weight)</td>\n",
              "      <td>0.45</td>\n",
              "      <td>0.0</td>\n",
              "    </tr>\n",
              "    <tr>\n",
              "      <th>1</th>\n",
              "      <td>corr (DEF, Height)</td>\n",
              "      <td>0.36</td>\n",
              "      <td>0.0</td>\n",
              "    </tr>\n",
              "    <tr>\n",
              "      <th>2</th>\n",
              "      <td>corr (Weight, Height)</td>\n",
              "      <td>0.64</td>\n",
              "      <td>0.0</td>\n",
              "    </tr>\n",
              "  </tbody>\n",
              "</table>\n",
              "</div>"
            ],
            "text/plain": [
              "              Properties     r  p-value\n",
              "0     corr (DEF, Weight)  0.45      0.0\n",
              "1     corr (DEF, Height)  0.36      0.0\n",
              "2  corr (Weight, Height)  0.64      0.0"
            ]
          },
          "metadata": {
            "tags": []
          }
        }
      ]
    },
    {
      "cell_type": "markdown",
      "metadata": {
        "id": "WYHFqqHs8pAS",
        "colab_type": "text"
      },
      "source": [
        "**Steel Type Only** \n",
        "\n",
        "**corr (DEF, Weight):** \n",
        "\n",
        "Although r ≠ 0, the p-value is not within significant value α = 0.05. This is likely due to the small sample size; there are only 24 primary type steel Pokemon. We cannot assume that the value of corr (DEF, Weight) is statistically significant: it's unreliable because the p-value is too high.\n",
        "\n",
        "**corr (DEF, Height):** \n",
        "\n",
        "r ≠ 0 and the p-value is within the significance level of α = 0.05. We reject the null hypothesis and assume that there is correlation between DEF and Height for Steel Pokemon, but not as reliably as when we had all Pokemon since the p-value is higher.\n",
        "\n",
        "**corr (Weight, Height):** \n",
        "\n",
        "Similar to the correlation coefficient for all Pokemon, we can also reject the null hypothesis here. The correlation coefficient is even higher for Steel Pokemon when looking at the relationship between Weight and Height. It can be assumed that steel Pokemon have a stronger Weight and Height correlation than other Pokemon in general.\n",
        "\n",
        "**Notes:**\n",
        "- Pokemon like Celesteela, Dialga, Metagross, and Jirachi are outliers that have a significant impact on the data. <br>\n",
        "- As said before, Pokemon weights and heights are for mostly for canonical purposes and not gameplay purposes. <br>\n",
        "- Celesteela has 9999 Weight, which translates to half a ton! It seems like the developers were trying to throw a fun fact out for their players by making a Pokemon so heavy!"
      ]
    },
    {
      "cell_type": "markdown",
      "metadata": {
        "id": "iethrZkDA5YH",
        "colab_type": "text"
      },
      "source": [
        "\n",
        "## **Conclusion** \n",
        "\n",
        "We can conclude that there is a moderate correlation between a Pokemon's DEF stat and its Weight or Height.\n",
        "\n",
        "This translates to Pokemon who are heavier or larger being able to take more punches and kicks in the Pokemon universe.<br>\n",
        "Of course, this is all fictional and each Pokemon is created individually for a separate purpose.<br>\n",
        "\n",
        "\n",
        "This is shown by Pokemon like Shuckle completely break this trend:<br>\n",
        "<img src =\"https://github.com/Mushtatoes/proj/blob/master/shuckle.png?raw=true\" width = \"100\" /><br>\n",
        "This tiny guy is not only light, but has the highest base DEF stat in the Pokemon universe!\n",
        "\n",
        "This project is mainly to showcase analytical and coding skills. These are statistical assumptions made on Pokemon created by the imaginations of the employees at GameFreak. \n",
        "They could create 1000 Pokemon with high DEF and low weight/height, which would completely change these calculations!\n",
        "\n",
        "Thanks for reading!"
      ]
    }
  ]
}