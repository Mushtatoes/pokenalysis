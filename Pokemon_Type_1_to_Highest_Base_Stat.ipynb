{
  "nbformat": 4,
  "nbformat_minor": 0,
  "metadata": {
    "colab": {
      "name": "Pokemon - Type 1 to Highest Base Stat",
      "provenance": [],
      "collapsed_sections": [],
      "authorship_tag": "ABX9TyM6Jysch4zxkQX3/FEubCjF"
    },
    "kernelspec": {
      "name": "python3",
      "display_name": "Python 3"
    }
  },
  "cells": [
    {
      "cell_type": "markdown",
      "metadata": {
        "id": "l5Mt-W0Kzp0e",
        "colab_type": "text"
      },
      "source": [
        "# Pokemon - Base Stats and Types\n",
        "**Description:** Is there a correlation between a Pokemon's primary type and its highest stat? \n",
        "\n",
        "**Goal:** To find a relationship between a Pokemon's main type and their highest base stats to gain insight into the minds of Pokemon designers.\n",
        "\n",
        "<img src=\"https://github.com/Mushtatoes/proj/blob/master/pikachu.png?raw=true\" width=\"300\"/>\n",
        "\n",
        "\n",
        "---\n",
        "\n",
        "\n",
        "\n",
        "**Example:** Rock pokemon might generally have defense as their highest stat.\n",
        "Maybe Psychic pokemon might have generally high special attack. \n",
        "Are there any outlier pokemon that may be a bit different from others of the same type?\n",
        "\n",
        "\n"
      ]
    },
    {
      "cell_type": "code",
      "metadata": {
        "id": "J4ijNq7i1RQQ",
        "colab_type": "code",
        "colab": {}
      },
      "source": [
        "import pandas as pd\n",
        "import matplotlib.pyplot as plt\n",
        "import requests\n",
        "import re"
      ],
      "execution_count": 0,
      "outputs": []
    },
    {
      "cell_type": "markdown",
      "metadata": {
        "id": "VOcg3Os01ac-",
        "colab_type": "text"
      },
      "source": [
        "## 1. Obtaining Data\n",
        "\n",
        "\n",
        ">- No mega-evolutions, alternate forms, etc.\n",
        "- Pulling from PokeAPI\n",
        "- Manually parse and add data into Dataframe without using read_json\n",
        "- At time of writing, there are currently 807 unique Pokemon in the API (Up to Gen 7)\n",
        "\n",
        "\n"
      ]
    },
    {
      "cell_type": "code",
      "metadata": {
        "id": "dnCNleAA14u9",
        "colab_type": "code",
        "colab": {}
      },
      "source": [
        "pokemon_json = requests.get('https://pokeapi.co/api/v2/pokemon?&limit=5000').json()\n",
        "# print(pokemon_json)"
      ],
      "execution_count": 0,
      "outputs": []
    },
    {
      "cell_type": "markdown",
      "metadata": {
        "id": "EBkWAI4L4a-A",
        "colab_type": "text"
      },
      "source": [
        "#### 1a. Filter out non-standard Pokemon by id:\n",
        ">- Create a list of urls that can be used to pull data on each Pokemon.\n",
        "- PokeAPI uses id <= 10000 to identify standard Pokemon and their traits.\n",
        "- Use regular expressions to isolate the id from the url and compare."
      ]
    },
    {
      "cell_type": "code",
      "metadata": {
        "id": "YMLVkWkg26Ux",
        "colab_type": "code",
        "colab": {}
      },
      "source": [
        "name_url_raw = pokemon_json['results']\n",
        "\n",
        "# Filter out non-standard Pokemon using regex on url:\n",
        "def pokemon_filter(pokemon_object):\n",
        "  pokemon_search = re.search('^https://pokeapi\\.co/api/v2/pokemon/(\\d+)/$', pokemon_object['url'])\n",
        "  if not pokemon_search:\n",
        "    return False\n",
        "  return int(pokemon_search.group(1)) <= 10000\n",
        "\n",
        "name_url = list(filter(pokemon_filter, name_url_raw))\n",
        "\n",
        "pokemon_urls = [x['url'] for x in name_url]\n"
      ],
      "execution_count": 0,
      "outputs": []
    },
    {
      "cell_type": "markdown",
      "metadata": {
        "id": "9pY2JgZI6RPU",
        "colab_type": "text"
      },
      "source": [
        "#### 1b. Map the required data:\n",
        ">- Each Pokemon's base stats can only be found on their own page, which means a request for each Pokemon.\n",
        "- Storing into a flat file or SQL table would be preferable if the data is  required for reuse in the future."
      ]
    },
    {
      "cell_type": "code",
      "metadata": {
        "id": "Jd5O13kG6qzs",
        "colab_type": "code",
        "colab": {}
      },
      "source": [
        "# Return each pokemon's name, type1, and base stats:\n",
        "def pokemon_map(url):\n",
        "  pokemon = requests.get(url).json()\n",
        "  data = {'name': pokemon['name']\n",
        "          ,'type1': ''.join([t['type']['name'] for t in pokemon['types'] if t['slot'] == 1])\n",
        "          ,'stats': {s['stat']['name']: s['base_stat']for s in pokemon['stats']}}\n",
        "  return data\n",
        "  \n",
        "pokemon_data = list(map(pokemon_map, pokemon_urls))\n",
        "\n",
        "# print(pokemon_data)"
      ],
      "execution_count": 0,
      "outputs": []
    },
    {
      "cell_type": "markdown",
      "metadata": {
        "id": "1lUIVqCK7N29",
        "colab_type": "text"
      },
      "source": [
        "#### 1c. Push the data into a pandas DataFrame:\n",
        "> - Names and types can be extracted into separate lists.\n",
        "- Each pokemon has 6 base stats:\n",
        "  - hp\n",
        "  - attack\n",
        "  - special-attack\n",
        "  - defense\n",
        "  - special-defense\n",
        "  - speed\n",
        "- These will have to each be placed into separate lists to push into the DataFrame."
      ]
    },
    {
      "cell_type": "code",
      "metadata": {
        "id": "5uwsz6E67Wcr",
        "colab_type": "code",
        "outputId": "296bffb9-81a7-4368-f51c-6cff44cdf4e3",
        "colab": {
          "base_uri": "https://localhost:8080/",
          "height": 204
        }
      },
      "source": [
        "# Format data into dictionaries for DataFrame:\n",
        "# {Header: [data]}\n",
        "\n",
        "def pivot_data(category, subcategory = None):\n",
        "  if not subcategory:\n",
        "    return [pokemon[category] for pokemon in pokemon_data]\n",
        "  else:\n",
        "    return [pokemon[category][subcategory] for pokemon in pokemon_data]\n",
        "\n",
        "pokemon_name = pivot_data('name')\n",
        "pokemon_type1 = pivot_data('type1')\n",
        "pokemon_spd = pivot_data('stats', 'speed')\n",
        "pokemon_spdef = pivot_data('stats', 'special-defense')\n",
        "pokemon_spatk = pivot_data('stats', 'special-attack')\n",
        "pokemon_def = pivot_data('stats', 'defense')\n",
        "pokemon_atk = pivot_data('stats', 'attack')\n",
        "pokemon_hp = pivot_data('stats', 'hp')\n",
        "\n",
        "pokemon_df = pd.DataFrame({'Name': pokemon_name\n",
        "                           ,'Type1': pokemon_type1\n",
        "                           ,'SPD': pokemon_spd\n",
        "                           ,'SPDEF': pokemon_spdef\n",
        "                           ,'SPATK': pokemon_spatk\n",
        "                           ,'DEF': pokemon_def\n",
        "                           ,'ATK': pokemon_atk\n",
        "                           ,'HP': pokemon_hp})\n",
        "\n",
        "# Display top rows from DataFrame for preview:\n",
        "\n",
        "pokemon_df.head()"
      ],
      "execution_count": 5,
      "outputs": [
        {
          "output_type": "execute_result",
          "data": {
            "text/html": [
              "<div>\n",
              "<style scoped>\n",
              "    .dataframe tbody tr th:only-of-type {\n",
              "        vertical-align: middle;\n",
              "    }\n",
              "\n",
              "    .dataframe tbody tr th {\n",
              "        vertical-align: top;\n",
              "    }\n",
              "\n",
              "    .dataframe thead th {\n",
              "        text-align: right;\n",
              "    }\n",
              "</style>\n",
              "<table border=\"1\" class=\"dataframe\">\n",
              "  <thead>\n",
              "    <tr style=\"text-align: right;\">\n",
              "      <th></th>\n",
              "      <th>Name</th>\n",
              "      <th>Type1</th>\n",
              "      <th>SPD</th>\n",
              "      <th>SPDEF</th>\n",
              "      <th>SPATK</th>\n",
              "      <th>DEF</th>\n",
              "      <th>ATK</th>\n",
              "      <th>HP</th>\n",
              "    </tr>\n",
              "  </thead>\n",
              "  <tbody>\n",
              "    <tr>\n",
              "      <th>0</th>\n",
              "      <td>bulbasaur</td>\n",
              "      <td>grass</td>\n",
              "      <td>45</td>\n",
              "      <td>65</td>\n",
              "      <td>65</td>\n",
              "      <td>49</td>\n",
              "      <td>49</td>\n",
              "      <td>45</td>\n",
              "    </tr>\n",
              "    <tr>\n",
              "      <th>1</th>\n",
              "      <td>ivysaur</td>\n",
              "      <td>grass</td>\n",
              "      <td>60</td>\n",
              "      <td>80</td>\n",
              "      <td>80</td>\n",
              "      <td>63</td>\n",
              "      <td>62</td>\n",
              "      <td>60</td>\n",
              "    </tr>\n",
              "    <tr>\n",
              "      <th>2</th>\n",
              "      <td>venusaur</td>\n",
              "      <td>grass</td>\n",
              "      <td>80</td>\n",
              "      <td>100</td>\n",
              "      <td>100</td>\n",
              "      <td>83</td>\n",
              "      <td>82</td>\n",
              "      <td>80</td>\n",
              "    </tr>\n",
              "    <tr>\n",
              "      <th>3</th>\n",
              "      <td>charmander</td>\n",
              "      <td>fire</td>\n",
              "      <td>65</td>\n",
              "      <td>50</td>\n",
              "      <td>60</td>\n",
              "      <td>43</td>\n",
              "      <td>52</td>\n",
              "      <td>39</td>\n",
              "    </tr>\n",
              "    <tr>\n",
              "      <th>4</th>\n",
              "      <td>charmeleon</td>\n",
              "      <td>fire</td>\n",
              "      <td>80</td>\n",
              "      <td>65</td>\n",
              "      <td>80</td>\n",
              "      <td>58</td>\n",
              "      <td>64</td>\n",
              "      <td>58</td>\n",
              "    </tr>\n",
              "  </tbody>\n",
              "</table>\n",
              "</div>"
            ],
            "text/plain": [
              "         Name  Type1  SPD  SPDEF  SPATK  DEF  ATK  HP\n",
              "0   bulbasaur  grass   45     65     65   49   49  45\n",
              "1     ivysaur  grass   60     80     80   63   62  60\n",
              "2    venusaur  grass   80    100    100   83   82  80\n",
              "3  charmander   fire   65     50     60   43   52  39\n",
              "4  charmeleon   fire   80     65     80   58   64  58"
            ]
          },
          "metadata": {
            "tags": []
          },
          "execution_count": 5
        }
      ]
    },
    {
      "cell_type": "markdown",
      "metadata": {
        "id": "dW8YmUeOw4Og",
        "colab_type": "text"
      },
      "source": [
        "## 2. Calculations and Visuals\n",
        "\n"
      ]
    },
    {
      "cell_type": "markdown",
      "metadata": {
        "id": "jAUGL84l4ASu",
        "colab_type": "text"
      },
      "source": [
        "#### 2a. Calculate weighted stats:\n",
        "> - Create binary versions of stat columns (max = 1, not max = 0)\n",
        "- Sum highest base stats across each Pokemon and divide by the count of highest stats.\n",
        "- E.g. Bulbasaur has equal highest SPDEF and SPATK: count 0.5 SPDEF AND 0.5 ATK.\n"
      ]
    },
    {
      "cell_type": "code",
      "metadata": {
        "id": "zYhIB1QNxqZx",
        "colab_type": "code",
        "outputId": "5f7ff07a-b6a2-4304-dff3-20e9499fa86c",
        "colab": {
          "base_uri": "https://localhost:8080/",
          "height": 204
        }
      },
      "source": [
        "# List of the stats to to focus DataFrame row operations on stats:\n",
        "stat_list = ['SPD','SPDEF','SPATK','DEF','ATK','HP']\n",
        "bin_stat_list = ['bin_spd', 'bin_spdef', 'bin_spatk', 'bin_def', 'bin_atk', 'bin_hp']\n",
        "\n",
        "pokemon_count = pokemon_df.Name.count()\n",
        "\n",
        "# Assign binary logic to highest base stats for each Pokemon:\n",
        "def hi_stat_bin(row, stat):\n",
        "  return int(stat.iloc[row] == pokemon_df[stat_list].iloc[row].max())\n",
        "\n",
        "pokemon_df['bin_spd'] = [hi_stat_bin(x, pokemon_df.SPD) for x in range(pokemon_count)]\n",
        "pokemon_df['bin_spdef'] = [hi_stat_bin(x, pokemon_df.SPDEF) for x in range(pokemon_count)]\n",
        "pokemon_df['bin_spatk'] = [hi_stat_bin(x, pokemon_df.SPATK) for x in range(pokemon_count)]\n",
        "pokemon_df['bin_def'] = [hi_stat_bin(x, pokemon_df.DEF) for x in range(pokemon_count)]\n",
        "pokemon_df['bin_atk'] = [hi_stat_bin(x, pokemon_df.ATK) for x in range(pokemon_count)]\n",
        "pokemon_df['bin_hp'] = [hi_stat_bin(x, pokemon_df.HP) for x in range(pokemon_count)]\n",
        "\n",
        "# Sum binary logic columns to see how many highest equal max stats each Pokemon has:\n",
        "pokemon_df['hi_val'] = [sum(pokemon_df[bin_stat_list].iloc[x]) for x in range(pokemon_count)]\n",
        "\n",
        "# Divide each column by number of highest equal max stats to weigh sum of each Pokemon stats to 1:\n",
        "pokemon_df['wSPD'] = round(pokemon_df['bin_spd']/pokemon_df['hi_val'],2)\n",
        "pokemon_df['wSPDEF'] = round(pokemon_df['bin_spdef']/pokemon_df['hi_val'],2)\n",
        "pokemon_df['wSPATK'] = round(pokemon_df['bin_spatk']/pokemon_df['hi_val'],2)\n",
        "pokemon_df['wDEF'] = round(pokemon_df['bin_def']/pokemon_df['hi_val'],2)\n",
        "pokemon_df['wATK'] = round(pokemon_df['bin_atk']/pokemon_df['hi_val'],2)\n",
        "pokemon_df['wHP'] = round(pokemon_df['bin_hp']/pokemon_df['hi_val'],2)\n",
        "\n",
        "pokemon_df.head()\n"
      ],
      "execution_count": 6,
      "outputs": [
        {
          "output_type": "execute_result",
          "data": {
            "text/html": [
              "<div>\n",
              "<style scoped>\n",
              "    .dataframe tbody tr th:only-of-type {\n",
              "        vertical-align: middle;\n",
              "    }\n",
              "\n",
              "    .dataframe tbody tr th {\n",
              "        vertical-align: top;\n",
              "    }\n",
              "\n",
              "    .dataframe thead th {\n",
              "        text-align: right;\n",
              "    }\n",
              "</style>\n",
              "<table border=\"1\" class=\"dataframe\">\n",
              "  <thead>\n",
              "    <tr style=\"text-align: right;\">\n",
              "      <th></th>\n",
              "      <th>Name</th>\n",
              "      <th>Type1</th>\n",
              "      <th>SPD</th>\n",
              "      <th>SPDEF</th>\n",
              "      <th>SPATK</th>\n",
              "      <th>DEF</th>\n",
              "      <th>ATK</th>\n",
              "      <th>HP</th>\n",
              "      <th>bin_spd</th>\n",
              "      <th>bin_spdef</th>\n",
              "      <th>bin_spatk</th>\n",
              "      <th>bin_def</th>\n",
              "      <th>bin_atk</th>\n",
              "      <th>bin_hp</th>\n",
              "      <th>hi_val</th>\n",
              "      <th>wSPD</th>\n",
              "      <th>wSPDEF</th>\n",
              "      <th>wSPATK</th>\n",
              "      <th>wDEF</th>\n",
              "      <th>wATK</th>\n",
              "      <th>wHP</th>\n",
              "    </tr>\n",
              "  </thead>\n",
              "  <tbody>\n",
              "    <tr>\n",
              "      <th>0</th>\n",
              "      <td>bulbasaur</td>\n",
              "      <td>grass</td>\n",
              "      <td>45</td>\n",
              "      <td>65</td>\n",
              "      <td>65</td>\n",
              "      <td>49</td>\n",
              "      <td>49</td>\n",
              "      <td>45</td>\n",
              "      <td>0</td>\n",
              "      <td>1</td>\n",
              "      <td>1</td>\n",
              "      <td>0</td>\n",
              "      <td>0</td>\n",
              "      <td>0</td>\n",
              "      <td>2</td>\n",
              "      <td>0.0</td>\n",
              "      <td>0.5</td>\n",
              "      <td>0.5</td>\n",
              "      <td>0.0</td>\n",
              "      <td>0.0</td>\n",
              "      <td>0.0</td>\n",
              "    </tr>\n",
              "    <tr>\n",
              "      <th>1</th>\n",
              "      <td>ivysaur</td>\n",
              "      <td>grass</td>\n",
              "      <td>60</td>\n",
              "      <td>80</td>\n",
              "      <td>80</td>\n",
              "      <td>63</td>\n",
              "      <td>62</td>\n",
              "      <td>60</td>\n",
              "      <td>0</td>\n",
              "      <td>1</td>\n",
              "      <td>1</td>\n",
              "      <td>0</td>\n",
              "      <td>0</td>\n",
              "      <td>0</td>\n",
              "      <td>2</td>\n",
              "      <td>0.0</td>\n",
              "      <td>0.5</td>\n",
              "      <td>0.5</td>\n",
              "      <td>0.0</td>\n",
              "      <td>0.0</td>\n",
              "      <td>0.0</td>\n",
              "    </tr>\n",
              "    <tr>\n",
              "      <th>2</th>\n",
              "      <td>venusaur</td>\n",
              "      <td>grass</td>\n",
              "      <td>80</td>\n",
              "      <td>100</td>\n",
              "      <td>100</td>\n",
              "      <td>83</td>\n",
              "      <td>82</td>\n",
              "      <td>80</td>\n",
              "      <td>0</td>\n",
              "      <td>1</td>\n",
              "      <td>1</td>\n",
              "      <td>0</td>\n",
              "      <td>0</td>\n",
              "      <td>0</td>\n",
              "      <td>2</td>\n",
              "      <td>0.0</td>\n",
              "      <td>0.5</td>\n",
              "      <td>0.5</td>\n",
              "      <td>0.0</td>\n",
              "      <td>0.0</td>\n",
              "      <td>0.0</td>\n",
              "    </tr>\n",
              "    <tr>\n",
              "      <th>3</th>\n",
              "      <td>charmander</td>\n",
              "      <td>fire</td>\n",
              "      <td>65</td>\n",
              "      <td>50</td>\n",
              "      <td>60</td>\n",
              "      <td>43</td>\n",
              "      <td>52</td>\n",
              "      <td>39</td>\n",
              "      <td>1</td>\n",
              "      <td>0</td>\n",
              "      <td>0</td>\n",
              "      <td>0</td>\n",
              "      <td>0</td>\n",
              "      <td>0</td>\n",
              "      <td>1</td>\n",
              "      <td>1.0</td>\n",
              "      <td>0.0</td>\n",
              "      <td>0.0</td>\n",
              "      <td>0.0</td>\n",
              "      <td>0.0</td>\n",
              "      <td>0.0</td>\n",
              "    </tr>\n",
              "    <tr>\n",
              "      <th>4</th>\n",
              "      <td>charmeleon</td>\n",
              "      <td>fire</td>\n",
              "      <td>80</td>\n",
              "      <td>65</td>\n",
              "      <td>80</td>\n",
              "      <td>58</td>\n",
              "      <td>64</td>\n",
              "      <td>58</td>\n",
              "      <td>1</td>\n",
              "      <td>0</td>\n",
              "      <td>1</td>\n",
              "      <td>0</td>\n",
              "      <td>0</td>\n",
              "      <td>0</td>\n",
              "      <td>2</td>\n",
              "      <td>0.5</td>\n",
              "      <td>0.0</td>\n",
              "      <td>0.5</td>\n",
              "      <td>0.0</td>\n",
              "      <td>0.0</td>\n",
              "      <td>0.0</td>\n",
              "    </tr>\n",
              "  </tbody>\n",
              "</table>\n",
              "</div>"
            ],
            "text/plain": [
              "         Name  Type1  SPD  SPDEF  SPATK  ...  wSPDEF  wSPATK  wDEF  wATK  wHP\n",
              "0   bulbasaur  grass   45     65     65  ...     0.5     0.5   0.0   0.0  0.0\n",
              "1     ivysaur  grass   60     80     80  ...     0.5     0.5   0.0   0.0  0.0\n",
              "2    venusaur  grass   80    100    100  ...     0.5     0.5   0.0   0.0  0.0\n",
              "3  charmander   fire   65     50     60  ...     0.0     0.0   0.0   0.0  0.0\n",
              "4  charmeleon   fire   80     65     80  ...     0.0     0.5   0.0   0.0  0.0\n",
              "\n",
              "[5 rows x 21 columns]"
            ]
          },
          "metadata": {
            "tags": []
          },
          "execution_count": 6
        }
      ]
    },
    {
      "cell_type": "markdown",
      "metadata": {
        "id": "LZhRideV2gpY",
        "colab_type": "text"
      },
      "source": [
        "#### 2b. Aggregate data:\n",
        ">- Use group by function to sum data by type, using only required columns for plotting.\n",
        "- Reset index so the Type1 column can be indexed from the new DataFrame.\n"
      ]
    },
    {
      "cell_type": "code",
      "metadata": {
        "id": "BAptkLeL4wAU",
        "colab_type": "code",
        "outputId": "0ac0d6c3-4e5d-4bb1-ef54-6221e9dc627d",
        "colab": {
          "base_uri": "https://localhost:8080/",
          "height": 607
        }
      },
      "source": [
        "type1_stat_df = pokemon_df[['Type1','wSPD','wSPDEF','wSPATK','wDEF','wATK','wHP']].groupby('Type1').sum().reset_index()\n",
        "\n",
        "type1_stat_df"
      ],
      "execution_count": 7,
      "outputs": [
        {
          "output_type": "execute_result",
          "data": {
            "text/html": [
              "<div>\n",
              "<style scoped>\n",
              "    .dataframe tbody tr th:only-of-type {\n",
              "        vertical-align: middle;\n",
              "    }\n",
              "\n",
              "    .dataframe tbody tr th {\n",
              "        vertical-align: top;\n",
              "    }\n",
              "\n",
              "    .dataframe thead th {\n",
              "        text-align: right;\n",
              "    }\n",
              "</style>\n",
              "<table border=\"1\" class=\"dataframe\">\n",
              "  <thead>\n",
              "    <tr style=\"text-align: right;\">\n",
              "      <th></th>\n",
              "      <th>Type1</th>\n",
              "      <th>wSPD</th>\n",
              "      <th>wSPDEF</th>\n",
              "      <th>wSPATK</th>\n",
              "      <th>wDEF</th>\n",
              "      <th>wATK</th>\n",
              "      <th>wHP</th>\n",
              "    </tr>\n",
              "  </thead>\n",
              "  <tbody>\n",
              "    <tr>\n",
              "      <th>0</th>\n",
              "      <td>bug</td>\n",
              "      <td>15.00</td>\n",
              "      <td>7.00</td>\n",
              "      <td>8.50</td>\n",
              "      <td>21.50</td>\n",
              "      <td>18.00</td>\n",
              "      <td>2.00</td>\n",
              "    </tr>\n",
              "    <tr>\n",
              "      <th>1</th>\n",
              "      <td>dark</td>\n",
              "      <td>5.00</td>\n",
              "      <td>1.50</td>\n",
              "      <td>6.50</td>\n",
              "      <td>2.00</td>\n",
              "      <td>12.00</td>\n",
              "      <td>2.00</td>\n",
              "    </tr>\n",
              "    <tr>\n",
              "      <th>2</th>\n",
              "      <td>dragon</td>\n",
              "      <td>0.00</td>\n",
              "      <td>5.00</td>\n",
              "      <td>3.00</td>\n",
              "      <td>5.00</td>\n",
              "      <td>14.00</td>\n",
              "      <td>0.00</td>\n",
              "    </tr>\n",
              "    <tr>\n",
              "      <th>3</th>\n",
              "      <td>electric</td>\n",
              "      <td>21.00</td>\n",
              "      <td>0.00</td>\n",
              "      <td>12.00</td>\n",
              "      <td>0.00</td>\n",
              "      <td>7.00</td>\n",
              "      <td>0.00</td>\n",
              "    </tr>\n",
              "    <tr>\n",
              "      <th>4</th>\n",
              "      <td>fairy</td>\n",
              "      <td>0.00</td>\n",
              "      <td>7.50</td>\n",
              "      <td>2.00</td>\n",
              "      <td>2.50</td>\n",
              "      <td>2.50</td>\n",
              "      <td>3.50</td>\n",
              "    </tr>\n",
              "    <tr>\n",
              "      <th>5</th>\n",
              "      <td>fighting</td>\n",
              "      <td>3.67</td>\n",
              "      <td>2.17</td>\n",
              "      <td>1.17</td>\n",
              "      <td>0.17</td>\n",
              "      <td>18.67</td>\n",
              "      <td>3.17</td>\n",
              "    </tr>\n",
              "    <tr>\n",
              "      <th>6</th>\n",
              "      <td>fire</td>\n",
              "      <td>16.00</td>\n",
              "      <td>2.00</td>\n",
              "      <td>21.00</td>\n",
              "      <td>3.00</td>\n",
              "      <td>9.50</td>\n",
              "      <td>1.50</td>\n",
              "    </tr>\n",
              "    <tr>\n",
              "      <th>7</th>\n",
              "      <td>flying</td>\n",
              "      <td>2.00</td>\n",
              "      <td>0.00</td>\n",
              "      <td>1.00</td>\n",
              "      <td>0.00</td>\n",
              "      <td>0.00</td>\n",
              "      <td>0.00</td>\n",
              "    </tr>\n",
              "    <tr>\n",
              "      <th>8</th>\n",
              "      <td>ghost</td>\n",
              "      <td>0.66</td>\n",
              "      <td>3.66</td>\n",
              "      <td>6.66</td>\n",
              "      <td>8.00</td>\n",
              "      <td>5.00</td>\n",
              "      <td>3.00</td>\n",
              "    </tr>\n",
              "    <tr>\n",
              "      <th>9</th>\n",
              "      <td>grass</td>\n",
              "      <td>13.34</td>\n",
              "      <td>9.67</td>\n",
              "      <td>15.84</td>\n",
              "      <td>12.17</td>\n",
              "      <td>17.84</td>\n",
              "      <td>9.17</td>\n",
              "    </tr>\n",
              "    <tr>\n",
              "      <th>10</th>\n",
              "      <td>ground</td>\n",
              "      <td>3.00</td>\n",
              "      <td>2.00</td>\n",
              "      <td>0.00</td>\n",
              "      <td>9.50</td>\n",
              "      <td>15.50</td>\n",
              "      <td>2.00</td>\n",
              "    </tr>\n",
              "    <tr>\n",
              "      <th>11</th>\n",
              "      <td>ice</td>\n",
              "      <td>2.67</td>\n",
              "      <td>3.34</td>\n",
              "      <td>6.34</td>\n",
              "      <td>2.34</td>\n",
              "      <td>4.17</td>\n",
              "      <td>4.17</td>\n",
              "    </tr>\n",
              "    <tr>\n",
              "      <th>12</th>\n",
              "      <td>normal</td>\n",
              "      <td>33.85</td>\n",
              "      <td>5.55</td>\n",
              "      <td>7.55</td>\n",
              "      <td>2.38</td>\n",
              "      <td>32.88</td>\n",
              "      <td>22.88</td>\n",
              "    </tr>\n",
              "    <tr>\n",
              "      <th>13</th>\n",
              "      <td>poison</td>\n",
              "      <td>7.33</td>\n",
              "      <td>1.25</td>\n",
              "      <td>2.58</td>\n",
              "      <td>6.25</td>\n",
              "      <td>10.58</td>\n",
              "      <td>6.00</td>\n",
              "    </tr>\n",
              "    <tr>\n",
              "      <th>14</th>\n",
              "      <td>psychic</td>\n",
              "      <td>5.84</td>\n",
              "      <td>12.76</td>\n",
              "      <td>22.59</td>\n",
              "      <td>1.76</td>\n",
              "      <td>3.59</td>\n",
              "      <td>6.51</td>\n",
              "    </tr>\n",
              "    <tr>\n",
              "      <th>15</th>\n",
              "      <td>rock</td>\n",
              "      <td>1.00</td>\n",
              "      <td>5.50</td>\n",
              "      <td>1.00</td>\n",
              "      <td>19.00</td>\n",
              "      <td>17.50</td>\n",
              "      <td>2.00</td>\n",
              "    </tr>\n",
              "    <tr>\n",
              "      <th>16</th>\n",
              "      <td>steel</td>\n",
              "      <td>0.17</td>\n",
              "      <td>2.17</td>\n",
              "      <td>3.17</td>\n",
              "      <td>16.67</td>\n",
              "      <td>1.67</td>\n",
              "      <td>0.17</td>\n",
              "    </tr>\n",
              "    <tr>\n",
              "      <th>17</th>\n",
              "      <td>water</td>\n",
              "      <td>21.67</td>\n",
              "      <td>21.59</td>\n",
              "      <td>18.42</td>\n",
              "      <td>14.59</td>\n",
              "      <td>18.42</td>\n",
              "      <td>19.34</td>\n",
              "    </tr>\n",
              "  </tbody>\n",
              "</table>\n",
              "</div>"
            ],
            "text/plain": [
              "       Type1   wSPD  wSPDEF  wSPATK   wDEF   wATK    wHP\n",
              "0        bug  15.00    7.00    8.50  21.50  18.00   2.00\n",
              "1       dark   5.00    1.50    6.50   2.00  12.00   2.00\n",
              "2     dragon   0.00    5.00    3.00   5.00  14.00   0.00\n",
              "3   electric  21.00    0.00   12.00   0.00   7.00   0.00\n",
              "4      fairy   0.00    7.50    2.00   2.50   2.50   3.50\n",
              "5   fighting   3.67    2.17    1.17   0.17  18.67   3.17\n",
              "6       fire  16.00    2.00   21.00   3.00   9.50   1.50\n",
              "7     flying   2.00    0.00    1.00   0.00   0.00   0.00\n",
              "8      ghost   0.66    3.66    6.66   8.00   5.00   3.00\n",
              "9      grass  13.34    9.67   15.84  12.17  17.84   9.17\n",
              "10    ground   3.00    2.00    0.00   9.50  15.50   2.00\n",
              "11       ice   2.67    3.34    6.34   2.34   4.17   4.17\n",
              "12    normal  33.85    5.55    7.55   2.38  32.88  22.88\n",
              "13    poison   7.33    1.25    2.58   6.25  10.58   6.00\n",
              "14   psychic   5.84   12.76   22.59   1.76   3.59   6.51\n",
              "15      rock   1.00    5.50    1.00  19.00  17.50   2.00\n",
              "16     steel   0.17    2.17    3.17  16.67   1.67   0.17\n",
              "17     water  21.67   21.59   18.42  14.59  18.42  19.34"
            ]
          },
          "metadata": {
            "tags": []
          },
          "execution_count": 7
        }
      ]
    },
    {
      "cell_type": "markdown",
      "metadata": {
        "id": "I7Fa9XNV4qcc",
        "colab_type": "text"
      },
      "source": [
        "#### 2c. Plot data:\n",
        ">- Use bar charts to give a better visual display of differences in values.\n",
        "- Subplots can be used to create a bar graph for each type in the new aggregated DataFrame.\n",
        "- Give graphs for each type the same tick size.\n"
      ]
    },
    {
      "cell_type": "code",
      "metadata": {
        "id": "oY0YXxPf42ZT",
        "colab_type": "code",
        "outputId": "c3156fd7-f3f2-4547-e386-285fdfe763b4",
        "colab": {
          "base_uri": "https://localhost:8080/",
          "height": 386
        }
      },
      "source": [
        "# Saving all types and all stats to increase readability:\n",
        "types = type1_stat_df.Type1\n",
        "stats = type1_stat_df.columns[1:]\n",
        "\n",
        "# HTML colors for each type:\n",
        "type_colors = {'bug': '#A6B91A', 'dark': '#705746', 'dragon': '#6F35FC', 'electric': '#F7D02C', 'fairy': '#D685AD', 'fighting': '#C22E28'\n",
        ", 'fire': '#EE8130', 'flying': '#A98FF3', 'ghost': '#735797', 'grass': '#7AC74C', 'ground': '#E2BF65', 'ice': '#96D9D6'\n",
        ", 'normal': '#A8A77A', 'poison': '#A33EA1', 'psychic': '#F95587', 'rock': '#B6A136', 'steel': '#B7B7CE', 'water': '#6390F0'}\n",
        "\n",
        "# Saving the xticks and yticks locations:\n",
        "x = range(len(stats))\n",
        "y = range(0, round(max(list(type1_stat_df[['wSPD','wSPDEF','wSPATK','wDEF','wATK','wHP']].max(axis = 1))))+ 2, 2)\n",
        "\n",
        "# Create function to pull type subplots based on parameters:\n",
        "ntypes = {t : i for i, t in enumerate(types)}\n",
        "\n",
        "def format_fig(pokemon_types):\n",
        "  n = len(pokemon_types)\n",
        "  fig, ax = plt.subplots(1, n, figsize = (n * 2.2, 5))\n",
        "  type_to_index = [ntypes[type1] for type1 in pokemon_types]\n",
        "  if n == 1: # One subplot cannot be index with ax[0]:\n",
        "    t = ntypes[''.join(pokemon_types)]\n",
        "    ax.bar(x, type1_stat_df.iloc[t][1:], color = list(type_colors.values())[t])\n",
        "    ax.set_xticks(x)\n",
        "    ax.set_xticklabels(stats, rotation = 90)\n",
        "    ax.set_yticks(y)\n",
        "    ax.set_title(types[t].capitalize())\n",
        "  else:\n",
        "    for i, t in enumerate(type_to_index):\n",
        "      ax[i].bar(x, type1_stat_df.iloc[t][1:], color = list(type_colors.values())[t])\n",
        "      ax[i].set_xticks(x)\n",
        "      ax[i].set_xticklabels(stats, rotation = 90)\n",
        "      ax[i].set_yticks(y)\n",
        "      ax[i].set_title(types[t].capitalize())\n",
        "  plt.show()\n",
        "\n",
        "format_fig(types)"
      ],
      "execution_count": 8,
      "outputs": [
        {
          "output_type": "display_data",
          "data": {
            "image/png": "[encoded data removed]",
            "text/plain": [
              "<Figure size 2851.2x360 with 18 Axes>"
            ]
          },
          "metadata": {
            "tags": []
          }
        }
      ]
    },
    {
      "cell_type": "markdown",
      "metadata": {
        "id": "VXnyJ8u88RX9",
        "colab_type": "text"
      },
      "source": [
        "## 3. Analysis and Conclusion\n"
      ]
    },
    {
      "cell_type": "markdown",
      "metadata": {
        "id": "W2h4M7da9Ycu",
        "colab_type": "text"
      },
      "source": [
        "#### Things to keep in mind:\n",
        ">- These are weighted counts of each Pokemon's highest base stat. It is possible for many Pokemon to have their second highest base stat right under their highest; but since binary logic was used to make the calculations simpler, the second highest base stat is ignored.\n",
        "- Secondary types are not included: these are assumptions made only on the Pokemon's primary type and their base stats."
      ]
    },
    {
      "cell_type": "markdown",
      "metadata": {
        "id": "-21I3YqS_w19",
        "colab_type": "text"
      },
      "source": [
        "#### 3a. Single stat count is the clear highest:"
      ]
    },
    {
      "cell_type": "code",
      "metadata": {
        "id": "hY2huibnAJOW",
        "colab_type": "code",
        "colab": {
          "base_uri": "https://localhost:8080/",
          "height": 366
        },
        "outputId": "ec8e2274-acca-4ed8-aefd-80594c08b794"
      },
      "source": [
        "format_fig(['dragon', 'dark', 'electric', 'fighting', 'psychic', 'steel'])"
      ],
      "execution_count": 9,
      "outputs": [
        {
          "output_type": "display_data",
          "data": {
            "image/png": "[encoded data removed]",
            "text/plain": [
              "<Figure size 950.4x360 with 6 Axes>"
            ]
          },
          "metadata": {
            "tags": []
          }
        }
      ]
    },
    {
      "cell_type": "markdown",
      "metadata": {
        "id": "2azB3mD7VW3j",
        "colab_type": "text"
      },
      "source": [
        "**Dragon**\n",
        "> Attack is the clear highest here, but maybe not because dragons are always known in fantasies for being hostile in nature towards medieval knights. It is more likely for gameplay purposes. There are almost no special-attack dragon moves. The only ones available to most dragons are Draco Meteor and Dragon Pulse, while physical attack dragons have a wide variety of options; including Dragon Dance to buff attack as icing on the cake.\n",
        "\n",
        "**Dark**\n",
        "> This is similar to Dragon type, the high attack count is likely due to gameplay purposes. Dark types were originally created to trump Psychic types (psychic type moves do not affect Dark types), which are Pokemon with a generally low physical defense stat.\n",
        "\n",
        "**Electric**\n",
        "> As many would think, many electric Pokemon have speed as their highest stat. Thunder/Electricity is naturally extremely fast in the real world and this property is reflected in Pokemon. An interesting thing to note is that attack and special-attack are the only other highest base stats. This is likely to utilize electric pokemon's high speed for offensive gameplay.\n",
        "\n",
        "**Fighting**\n",
        "> As hypothesized, Pokemon whose primary type is fighting generally have attack as their highest base stat. They are consistent with a meaning that \"fighting\" implies: being hard-hitters and having powerful physical damage.\n",
        "\n",
        "**Psychic**\n",
        "> Psychic types are the mages, or magic users of the Pokemon universe. Therefore, it makes sense that their special attack is high. Special attacks consist of damage that's generally done supernaturally or elementally; basically not kicking, punching, or throwing things.\n",
        "\n",
        "**Steel**\n",
        "> Similar to electric types, this is likely inspired from the real world. Steel is generally regarded to as a hard, strong element that makes up much of our industrial world."
      ]
    },
    {
      "cell_type": "code",
      "metadata": {
        "id": "lX0ferE7Vw1i",
        "colab_type": "code",
        "colab": {}
      },
      "source": [
        "pokemon_df[(pokemon_df['Type1'] == 'dark') & (pokemon_df['bin_atk'] != 0)]"
      ],
      "execution_count": 0,
      "outputs": []
    }
  ]
}