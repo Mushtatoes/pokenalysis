{
  "nbformat": 4,
  "nbformat_minor": 0,
  "metadata": {
    "colab": {
      "name": "Pokemon - Type 1 to Highest Base Stat",
      "provenance": [],
      "collapsed_sections": [],
      "authorship_tag": "ABX9TyNHjbGOPf+nj7HhoDLPN0Jl",
      "include_colab_link": true
    },
    "kernelspec": {
      "name": "python3",
      "display_name": "Python 3"
    }
  },
  "cells": [
    {
      "cell_type": "markdown",
      "metadata": {
        "id": "view-in-github",
        "colab_type": "text"
      },
      "source": [
        "<a href=\"https://colab.research.google.com/github/Mushtatoes/proj/blob/master/Pokemon_Type_1_to_Highest_Base_Stat.ipynb\" target=\"_parent\"><img src=\"https://colab.research.google.com/assets/colab-badge.svg\" alt=\"Open In Colab\"/></a>"
      ]
    },
    {
      "cell_type": "markdown",
      "metadata": {
        "id": "l5Mt-W0Kzp0e",
        "colab_type": "text"
      },
      "source": [
        "# Pokemon - Base Stats and Types\n",
        "**Description:** Is there a correlation between a pokemon's primary type and its highest stat? \n",
        "\n",
        "\n",
        "**Goal:** Find a pattern in the minds of pokemon designer and learn more about pandas and matplotlib.\n",
        "<center>\n",
        "<img src='https://cdn.clipart.email/cb04f2d0395acc25e2abe9da2b289a5a_pikachu-transparent-background-png-mart_1254-1254.png' height='300'> \n",
        "</center>\n",
        "\n",
        ">For example, rock pokemon might generally have defense as their highest stat.\n",
        "Maybe Psychic pokemon might have generally high special attack. \n",
        "Are there any outlier pokemon that may be a bit different from others of the same type?\n",
        "\n",
        "\n"
      ]
    },
    {
      "cell_type": "code",
      "metadata": {
        "id": "J4ijNq7i1RQQ",
        "colab_type": "code",
        "colab": {}
      },
      "source": [
        "import pandas as pd\n",
        "import matplotlib.pyplot as plt\n",
        "import requests\n",
        "import re"
      ],
      "execution_count": 0,
      "outputs": []
    },
    {
      "cell_type": "markdown",
      "metadata": {
        "id": "VOcg3Os01ac-",
        "colab_type": "text"
      },
      "source": [
        "## 1. Obtain data for all existing Pokemon:\n",
        "\n",
        "\n",
        ">- No mega-evolutions, alternate forms, etc.\n",
        "- Pulling from PokeAPI\n",
        "- Manually parse and add data into Dataframe without using read_json\n",
        "- At time of writing, there are currently 807 unique Pokemon in the API (Up to Gen 7)\n",
        "\n",
        "\n"
      ]
    },
    {
      "cell_type": "code",
      "metadata": {
        "id": "dnCNleAA14u9",
        "colab_type": "code",
        "colab": {}
      },
      "source": [
        "pokemon_json = requests.get('https://pokeapi.co/api/v2/pokemon?&limit=5000').json()\n",
        "# print(pokemon_json)"
      ],
      "execution_count": 0,
      "outputs": []
    },
    {
      "cell_type": "markdown",
      "metadata": {
        "id": "EBkWAI4L4a-A",
        "colab_type": "text"
      },
      "source": [
        "#### 1a. Filter out non-standard Pokemon by id:\n",
        ">- Create a list of urls that can be used to pull data on each Pokemon.\n",
        "- PokeAPI uses id <= 10000 to identify standard Pokemon and their traits.\n",
        "- Use regular expressions to isolate the id from the url and compare."
      ]
    },
    {
      "cell_type": "code",
      "metadata": {
        "id": "YMLVkWkg26Ux",
        "colab_type": "code",
        "colab": {}
      },
      "source": [
        "name_url_raw = pokemon_json['results']\n",
        "\n",
        "# Filter out non-standard Pokemon using regex on url:\n",
        "def pokemon_filter(pokemon_object):\n",
        "  pokemon_search = re.search('^https://pokeapi\\.co/api/v2/pokemon/(\\d+)/$', pokemon_object['url'])\n",
        "  if not pokemon_search:\n",
        "    return False\n",
        "  return int(pokemon_search.group(1)) <= 10000\n",
        "\n",
        "name_url = list(filter(pokemon_filter, name_url_raw))\n",
        "\n",
        "pokemon_urls = [x['url'] for x in name_url]\n"
      ],
      "execution_count": 0,
      "outputs": []
    },
    {
      "cell_type": "markdown",
      "metadata": {
        "id": "9pY2JgZI6RPU",
        "colab_type": "text"
      },
      "source": [
        "#### 1b. Map the required data:\n",
        ">- Each Pokemon's base stats can only be found on their own page, which means a request for each Pokemon.\n",
        "- Storing into a flat file or SQL table would be preferable if the data is  required for reuse in the future."
      ]
    },
    {
      "cell_type": "code",
      "metadata": {
        "id": "Jd5O13kG6qzs",
        "colab_type": "code",
        "colab": {}
      },
      "source": [
        "# Return each pokemon's name, type1, and base stats:\n",
        "def pokemon_map(url):\n",
        "  pokemon = requests.get(url).json()\n",
        "  data = {'name': pokemon['name']\n",
        "          ,'type1': ''.join([t['type']['name'] for t in pokemon['types'] if t['slot'] == 1])\n",
        "          ,'stats': {s['stat']['name']: s['base_stat']for s in pokemon['stats']}}\n",
        "  return data\n",
        "  \n",
        "pokemon_data = list(map(pokemon_map, pokemon_urls))\n",
        "\n",
        "# print(pokemon_data)"
      ],
      "execution_count": 0,
      "outputs": []
    },
    {
      "cell_type": "markdown",
      "metadata": {
        "id": "1lUIVqCK7N29",
        "colab_type": "text"
      },
      "source": [
        "#### 1c. Push the data into a pandas DataFrame:\n",
        "> - Names and types can be extracted into separate lists.\n",
        "- Each pokemon has 6 base stats:\n",
        "  - hp\n",
        "  - attack\n",
        "  - special-attack\n",
        "  - defense\n",
        "  - special-defense\n",
        "  - speed\n",
        "- These will have to each be placed into separate lists to push into the DataFrame."
      ]
    },
    {
      "cell_type": "code",
      "metadata": {
        "id": "5uwsz6E67Wcr",
        "colab_type": "code",
        "colab": {
          "base_uri": "https://localhost:8080/",
          "height": 204
        },
        "outputId": "f5d52166-ae01-4fcd-a4bc-5b142df38645"
      },
      "source": [
        "# Format data into dictionaries for DataFrame:\n",
        "# {Header: [data]}\n",
        "\n",
        "def pivot_data(category, subcategory = None):\n",
        "  if not subcategory:\n",
        "    return [pokemon[category] for pokemon in pokemon_data]\n",
        "  else:\n",
        "    return [pokemon[category][subcategory] for pokemon in pokemon_data]\n",
        "\n",
        "pokemon_name = pivot_data('name')\n",
        "pokemon_type1 = pivot_data('type1')\n",
        "pokemon_spd = pivot_data('stats', 'speed')\n",
        "pokemon_spdef = pivot_data('stats', 'special-defense')\n",
        "pokemon_spatk = pivot_data('stats', 'special-attack')\n",
        "pokemon_def = pivot_data('stats', 'defense')\n",
        "pokemon_atk = pivot_data('stats', 'attack')\n",
        "pokemon_hp = pivot_data('stats', 'hp')\n",
        "\n",
        "pokemon_df = pd.DataFrame({'name': pokemon_name\n",
        "                           ,'type1': pokemon_type1\n",
        "                           ,'spd': pokemon_spd\n",
        "                           ,'spdef': pokemon_spdef\n",
        "                           ,'spatk': pokemon_atk\n",
        "                           ,'def': pokemon_def\n",
        "                           ,'atk': pokemon_atk\n",
        "                           ,'hp': pokemon_hp})\n",
        "\n",
        "# Display top rows from DataFrame for preview:\n",
        "\n",
        "pokemon_df.head()"
      ],
      "execution_count": 5,
      "outputs": [
        {
          "output_type": "execute_result",
          "data": {
            "text/html": [
              "<div>\n",
              "<style scoped>\n",
              "    .dataframe tbody tr th:only-of-type {\n",
              "        vertical-align: middle;\n",
              "    }\n",
              "\n",
              "    .dataframe tbody tr th {\n",
              "        vertical-align: top;\n",
              "    }\n",
              "\n",
              "    .dataframe thead th {\n",
              "        text-align: right;\n",
              "    }\n",
              "</style>\n",
              "<table border=\"1\" class=\"dataframe\">\n",
              "  <thead>\n",
              "    <tr style=\"text-align: right;\">\n",
              "      <th></th>\n",
              "      <th>name</th>\n",
              "      <th>type1</th>\n",
              "      <th>spd</th>\n",
              "      <th>spdef</th>\n",
              "      <th>spatk</th>\n",
              "      <th>def</th>\n",
              "      <th>atk</th>\n",
              "      <th>hp</th>\n",
              "    </tr>\n",
              "  </thead>\n",
              "  <tbody>\n",
              "    <tr>\n",
              "      <th>0</th>\n",
              "      <td>bulbasaur</td>\n",
              "      <td>grass</td>\n",
              "      <td>45</td>\n",
              "      <td>65</td>\n",
              "      <td>49</td>\n",
              "      <td>49</td>\n",
              "      <td>49</td>\n",
              "      <td>45</td>\n",
              "    </tr>\n",
              "    <tr>\n",
              "      <th>1</th>\n",
              "      <td>ivysaur</td>\n",
              "      <td>grass</td>\n",
              "      <td>60</td>\n",
              "      <td>80</td>\n",
              "      <td>62</td>\n",
              "      <td>63</td>\n",
              "      <td>62</td>\n",
              "      <td>60</td>\n",
              "    </tr>\n",
              "    <tr>\n",
              "      <th>2</th>\n",
              "      <td>venusaur</td>\n",
              "      <td>grass</td>\n",
              "      <td>80</td>\n",
              "      <td>100</td>\n",
              "      <td>82</td>\n",
              "      <td>83</td>\n",
              "      <td>82</td>\n",
              "      <td>80</td>\n",
              "    </tr>\n",
              "    <tr>\n",
              "      <th>3</th>\n",
              "      <td>charmander</td>\n",
              "      <td>fire</td>\n",
              "      <td>65</td>\n",
              "      <td>50</td>\n",
              "      <td>52</td>\n",
              "      <td>43</td>\n",
              "      <td>52</td>\n",
              "      <td>39</td>\n",
              "    </tr>\n",
              "    <tr>\n",
              "      <th>4</th>\n",
              "      <td>charmeleon</td>\n",
              "      <td>fire</td>\n",
              "      <td>80</td>\n",
              "      <td>65</td>\n",
              "      <td>64</td>\n",
              "      <td>58</td>\n",
              "      <td>64</td>\n",
              "      <td>58</td>\n",
              "    </tr>\n",
              "  </tbody>\n",
              "</table>\n",
              "</div>"
            ],
            "text/plain": [
              "         name  type1  spd  spdef  spatk  def  atk  hp\n",
              "0   bulbasaur  grass   45     65     49   49   49  45\n",
              "1     ivysaur  grass   60     80     62   63   62  60\n",
              "2    venusaur  grass   80    100     82   83   82  80\n",
              "3  charmander   fire   65     50     52   43   52  39\n",
              "4  charmeleon   fire   80     65     64   58   64  58"
            ]
          },
          "metadata": {
            "tags": []
          },
          "execution_count": 5
        }
      ]
    },
    {
      "cell_type": "markdown",
      "metadata": {
        "id": "dW8YmUeOw4Og",
        "colab_type": "text"
      },
      "source": [
        "## 2. Analysis on highest base stat per type:\n",
        "\n",
        "\n",
        ">- Now that the data is in, any operations can be performed.\n",
        "- idxmax can return the column name to get the highest stat for each row.\n"
      ]
    },
    {
      "cell_type": "code",
      "metadata": {
        "id": "zYhIB1QNxqZx",
        "colab_type": "code",
        "colab": {
          "base_uri": "https://localhost:8080/",
          "height": 204
        },
        "outputId": "895142c3-12ea-403c-820b-42030997e472"
      },
      "source": [
        "pokemon_df['hi_stat'] = pokemon_df[['spd','spdef','spatk','def','atk','hp']].idxmax(axis=1)\n",
        "\n",
        "pokemon_df.head()"
      ],
      "execution_count": 6,
      "outputs": [
        {
          "output_type": "execute_result",
          "data": {
            "text/html": [
              "<div>\n",
              "<style scoped>\n",
              "    .dataframe tbody tr th:only-of-type {\n",
              "        vertical-align: middle;\n",
              "    }\n",
              "\n",
              "    .dataframe tbody tr th {\n",
              "        vertical-align: top;\n",
              "    }\n",
              "\n",
              "    .dataframe thead th {\n",
              "        text-align: right;\n",
              "    }\n",
              "</style>\n",
              "<table border=\"1\" class=\"dataframe\">\n",
              "  <thead>\n",
              "    <tr style=\"text-align: right;\">\n",
              "      <th></th>\n",
              "      <th>name</th>\n",
              "      <th>type1</th>\n",
              "      <th>spd</th>\n",
              "      <th>spdef</th>\n",
              "      <th>spatk</th>\n",
              "      <th>def</th>\n",
              "      <th>atk</th>\n",
              "      <th>hp</th>\n",
              "      <th>hi_stat</th>\n",
              "    </tr>\n",
              "  </thead>\n",
              "  <tbody>\n",
              "    <tr>\n",
              "      <th>0</th>\n",
              "      <td>bulbasaur</td>\n",
              "      <td>grass</td>\n",
              "      <td>45</td>\n",
              "      <td>65</td>\n",
              "      <td>49</td>\n",
              "      <td>49</td>\n",
              "      <td>49</td>\n",
              "      <td>45</td>\n",
              "      <td>spdef</td>\n",
              "    </tr>\n",
              "    <tr>\n",
              "      <th>1</th>\n",
              "      <td>ivysaur</td>\n",
              "      <td>grass</td>\n",
              "      <td>60</td>\n",
              "      <td>80</td>\n",
              "      <td>62</td>\n",
              "      <td>63</td>\n",
              "      <td>62</td>\n",
              "      <td>60</td>\n",
              "      <td>spdef</td>\n",
              "    </tr>\n",
              "    <tr>\n",
              "      <th>2</th>\n",
              "      <td>venusaur</td>\n",
              "      <td>grass</td>\n",
              "      <td>80</td>\n",
              "      <td>100</td>\n",
              "      <td>82</td>\n",
              "      <td>83</td>\n",
              "      <td>82</td>\n",
              "      <td>80</td>\n",
              "      <td>spdef</td>\n",
              "    </tr>\n",
              "    <tr>\n",
              "      <th>3</th>\n",
              "      <td>charmander</td>\n",
              "      <td>fire</td>\n",
              "      <td>65</td>\n",
              "      <td>50</td>\n",
              "      <td>52</td>\n",
              "      <td>43</td>\n",
              "      <td>52</td>\n",
              "      <td>39</td>\n",
              "      <td>spd</td>\n",
              "    </tr>\n",
              "    <tr>\n",
              "      <th>4</th>\n",
              "      <td>charmeleon</td>\n",
              "      <td>fire</td>\n",
              "      <td>80</td>\n",
              "      <td>65</td>\n",
              "      <td>64</td>\n",
              "      <td>58</td>\n",
              "      <td>64</td>\n",
              "      <td>58</td>\n",
              "      <td>spd</td>\n",
              "    </tr>\n",
              "  </tbody>\n",
              "</table>\n",
              "</div>"
            ],
            "text/plain": [
              "         name  type1  spd  spdef  spatk  def  atk  hp hi_stat\n",
              "0   bulbasaur  grass   45     65     49   49   49  45   spdef\n",
              "1     ivysaur  grass   60     80     62   63   62  60   spdef\n",
              "2    venusaur  grass   80    100     82   83   82  80   spdef\n",
              "3  charmander   fire   65     50     52   43   52  39     spd\n",
              "4  charmeleon   fire   80     65     64   58   64  58     spd"
            ]
          },
          "metadata": {
            "tags": []
          },
          "execution_count": 6
        }
      ]
    },
    {
      "cell_type": "markdown",
      "metadata": {
        "id": "LZhRideV2gpY",
        "colab_type": "text"
      },
      "source": [
        "#### 2a. Aggregate data:\n",
        "> - Count the number of highest base stats per type and display.\n",
        "- Move each type into their individual DataFrames.\n"
      ]
    },
    {
      "cell_type": "code",
      "metadata": {
        "id": "BAptkLeL4wAU",
        "colab_type": "code",
        "colab": {
          "base_uri": "https://localhost:8080/",
          "height": 419
        },
        "outputId": "acb351fd-acae-49c9-bdd0-64887f433a74"
      },
      "source": [
        "df_types = pokemon_df.type1.unique()\n",
        "\n",
        "grass_df = pokemon_df.loc[pokemon_df['type1'] == 'grass']\n",
        "\n",
        "grass_df\n"
      ],
      "execution_count": 7,
      "outputs": [
        {
          "output_type": "execute_result",
          "data": {
            "text/html": [
              "<div>\n",
              "<style scoped>\n",
              "    .dataframe tbody tr th:only-of-type {\n",
              "        vertical-align: middle;\n",
              "    }\n",
              "\n",
              "    .dataframe tbody tr th {\n",
              "        vertical-align: top;\n",
              "    }\n",
              "\n",
              "    .dataframe thead th {\n",
              "        text-align: right;\n",
              "    }\n",
              "</style>\n",
              "<table border=\"1\" class=\"dataframe\">\n",
              "  <thead>\n",
              "    <tr style=\"text-align: right;\">\n",
              "      <th></th>\n",
              "      <th>name</th>\n",
              "      <th>type1</th>\n",
              "      <th>spd</th>\n",
              "      <th>spdef</th>\n",
              "      <th>spatk</th>\n",
              "      <th>def</th>\n",
              "      <th>atk</th>\n",
              "      <th>hp</th>\n",
              "      <th>hi_stat</th>\n",
              "    </tr>\n",
              "  </thead>\n",
              "  <tbody>\n",
              "    <tr>\n",
              "      <th>0</th>\n",
              "      <td>bulbasaur</td>\n",
              "      <td>grass</td>\n",
              "      <td>45</td>\n",
              "      <td>65</td>\n",
              "      <td>49</td>\n",
              "      <td>49</td>\n",
              "      <td>49</td>\n",
              "      <td>45</td>\n",
              "      <td>spdef</td>\n",
              "    </tr>\n",
              "    <tr>\n",
              "      <th>1</th>\n",
              "      <td>ivysaur</td>\n",
              "      <td>grass</td>\n",
              "      <td>60</td>\n",
              "      <td>80</td>\n",
              "      <td>62</td>\n",
              "      <td>63</td>\n",
              "      <td>62</td>\n",
              "      <td>60</td>\n",
              "      <td>spdef</td>\n",
              "    </tr>\n",
              "    <tr>\n",
              "      <th>2</th>\n",
              "      <td>venusaur</td>\n",
              "      <td>grass</td>\n",
              "      <td>80</td>\n",
              "      <td>100</td>\n",
              "      <td>82</td>\n",
              "      <td>83</td>\n",
              "      <td>82</td>\n",
              "      <td>80</td>\n",
              "      <td>spdef</td>\n",
              "    </tr>\n",
              "    <tr>\n",
              "      <th>42</th>\n",
              "      <td>oddish</td>\n",
              "      <td>grass</td>\n",
              "      <td>30</td>\n",
              "      <td>65</td>\n",
              "      <td>50</td>\n",
              "      <td>55</td>\n",
              "      <td>50</td>\n",
              "      <td>45</td>\n",
              "      <td>spdef</td>\n",
              "    </tr>\n",
              "    <tr>\n",
              "      <th>43</th>\n",
              "      <td>gloom</td>\n",
              "      <td>grass</td>\n",
              "      <td>40</td>\n",
              "      <td>75</td>\n",
              "      <td>65</td>\n",
              "      <td>70</td>\n",
              "      <td>65</td>\n",
              "      <td>60</td>\n",
              "      <td>spdef</td>\n",
              "    </tr>\n",
              "    <tr>\n",
              "      <th>...</th>\n",
              "      <td>...</td>\n",
              "      <td>...</td>\n",
              "      <td>...</td>\n",
              "      <td>...</td>\n",
              "      <td>...</td>\n",
              "      <td>...</td>\n",
              "      <td>...</td>\n",
              "      <td>...</td>\n",
              "      <td>...</td>\n",
              "    </tr>\n",
              "    <tr>\n",
              "      <th>760</th>\n",
              "      <td>bounsweet</td>\n",
              "      <td>grass</td>\n",
              "      <td>32</td>\n",
              "      <td>38</td>\n",
              "      <td>30</td>\n",
              "      <td>38</td>\n",
              "      <td>30</td>\n",
              "      <td>42</td>\n",
              "      <td>hp</td>\n",
              "    </tr>\n",
              "    <tr>\n",
              "      <th>761</th>\n",
              "      <td>steenee</td>\n",
              "      <td>grass</td>\n",
              "      <td>62</td>\n",
              "      <td>48</td>\n",
              "      <td>40</td>\n",
              "      <td>48</td>\n",
              "      <td>40</td>\n",
              "      <td>52</td>\n",
              "      <td>spd</td>\n",
              "    </tr>\n",
              "    <tr>\n",
              "      <th>762</th>\n",
              "      <td>tsareena</td>\n",
              "      <td>grass</td>\n",
              "      <td>72</td>\n",
              "      <td>98</td>\n",
              "      <td>120</td>\n",
              "      <td>98</td>\n",
              "      <td>120</td>\n",
              "      <td>72</td>\n",
              "      <td>spatk</td>\n",
              "    </tr>\n",
              "    <tr>\n",
              "      <th>786</th>\n",
              "      <td>tapu-bulu</td>\n",
              "      <td>grass</td>\n",
              "      <td>75</td>\n",
              "      <td>95</td>\n",
              "      <td>130</td>\n",
              "      <td>115</td>\n",
              "      <td>130</td>\n",
              "      <td>70</td>\n",
              "      <td>spatk</td>\n",
              "    </tr>\n",
              "    <tr>\n",
              "      <th>797</th>\n",
              "      <td>kartana</td>\n",
              "      <td>grass</td>\n",
              "      <td>109</td>\n",
              "      <td>31</td>\n",
              "      <td>181</td>\n",
              "      <td>131</td>\n",
              "      <td>181</td>\n",
              "      <td>59</td>\n",
              "      <td>spatk</td>\n",
              "    </tr>\n",
              "  </tbody>\n",
              "</table>\n",
              "<p>78 rows × 9 columns</p>\n",
              "</div>"
            ],
            "text/plain": [
              "          name  type1  spd  spdef  spatk  def  atk  hp hi_stat\n",
              "0    bulbasaur  grass   45     65     49   49   49  45   spdef\n",
              "1      ivysaur  grass   60     80     62   63   62  60   spdef\n",
              "2     venusaur  grass   80    100     82   83   82  80   spdef\n",
              "42      oddish  grass   30     65     50   55   50  45   spdef\n",
              "43       gloom  grass   40     75     65   70   65  60   spdef\n",
              "..         ...    ...  ...    ...    ...  ...  ...  ..     ...\n",
              "760  bounsweet  grass   32     38     30   38   30  42      hp\n",
              "761    steenee  grass   62     48     40   48   40  52     spd\n",
              "762   tsareena  grass   72     98    120   98  120  72   spatk\n",
              "786  tapu-bulu  grass   75     95    130  115  130  70   spatk\n",
              "797    kartana  grass  109     31    181  131  181  59   spatk\n",
              "\n",
              "[78 rows x 9 columns]"
            ]
          },
          "metadata": {
            "tags": []
          },
          "execution_count": 7
        }
      ]
    }
  ]
}