{
  "nbformat": 4,
  "nbformat_minor": 0,
  "metadata": {
    "colab": {
      "name": "Pokemon - Type 1 to Highest Base Stat",
      "provenance": [],
      "collapsed_sections": [],
      "authorship_tag": "ABX9TyOBy7scQwHoFxaAS3IyyueZ",
      "include_colab_link": true
    },
    "kernelspec": {
      "name": "python3",
      "display_name": "Python 3"
    }
  },
  "cells": [
    {
      "cell_type": "markdown",
      "metadata": {
        "id": "view-in-github",
        "colab_type": "text"
      },
      "source": [
        "<a href=\"https://colab.research.google.com/github/Mushtatoes/proj/blob/master/Pokemon_Type_1_to_Highest_Base_Stat.ipynb\" target=\"_parent\"><img src=\"https://colab.research.google.com/assets/colab-badge.svg\" alt=\"Open In Colab\"/></a>"
      ]
    },
    {
      "cell_type": "markdown",
      "metadata": {
        "id": "l5Mt-W0Kzp0e",
        "colab_type": "text"
      },
      "source": [
        "# Pokemon - Base Stats and Types\n",
        "**Description:** Is there a correlation between a pokemon's primary type and its highest stat? \n",
        "\n",
        "\n",
        "**Goal:** Find a pattern in the minds of pokemon designer and learn more about pandas and matplotlib.\n",
        "<center>\n",
        "<img src='https://cdn.clipart.email/cb04f2d0395acc25e2abe9da2b289a5a_pikachu-transparent-background-png-mart_1254-1254.png' height='300'> \n",
        "</center>\n",
        "\n",
        ">For example, rock pokemon might generally have defense as their highest stat.\n",
        "Maybe Psychic pokemon might have generally high special attack. \n",
        "Are there any outlier pokemon that may be a bit different from others of the same type?\n",
        "\n",
        "\n"
      ]
    },
    {
      "cell_type": "code",
      "metadata": {
        "id": "J4ijNq7i1RQQ",
        "colab_type": "code",
        "colab": {}
      },
      "source": [
        "import pandas as pd\n",
        "import matplotlib.pyplot as plt\n",
        "import requests\n",
        "import re"
      ],
      "execution_count": 0,
      "outputs": []
    },
    {
      "cell_type": "markdown",
      "metadata": {
        "id": "VOcg3Os01ac-",
        "colab_type": "text"
      },
      "source": [
        "## 1. Obtain data for all existing Pokemon:\n",
        "\n",
        "\n",
        ">- No mega-evolutions, alternate forms, etc.\n",
        "- Pulling from PokeAPI\n",
        "- Manually parse and add data into Dataframe without using read_json\n",
        "- At time of writing, there are currently 807 unique Pokemon in the API (Up to Gen 7)\n",
        "\n",
        "\n"
      ]
    },
    {
      "cell_type": "code",
      "metadata": {
        "id": "dnCNleAA14u9",
        "colab_type": "code",
        "colab": {}
      },
      "source": [
        "pokemon_json = requests.get('https://pokeapi.co/api/v2/pokemon?&limit=5000').json()\n",
        "# print(pokemon_json)"
      ],
      "execution_count": 0,
      "outputs": []
    },
    {
      "cell_type": "markdown",
      "metadata": {
        "id": "EBkWAI4L4a-A",
        "colab_type": "text"
      },
      "source": [
        "#### 1a. Filter out non-standard Pokemon by id:\n",
        ">- Create a list of urls that can be used to pull data on each Pokemon.\n",
        "- PokeAPI uses id <= 10000 to identify standard Pokemon and their traits.\n",
        "- Use regular expressions to isolate the id from the url and compare."
      ]
    },
    {
      "cell_type": "code",
      "metadata": {
        "id": "YMLVkWkg26Ux",
        "colab_type": "code",
        "colab": {}
      },
      "source": [
        "name_url_raw = pokemon_json['results']\n",
        "\n",
        "# Filter out non-standard Pokemon using regex on url:\n",
        "def pokemon_filter(pokemon_object):\n",
        "  pokemon_search = re.search('^https://pokeapi\\.co/api/v2/pokemon/(\\d+)/$', pokemon_object['url'])\n",
        "  if not pokemon_search:\n",
        "    return False\n",
        "  return int(pokemon_search.group(1)) <= 10000\n",
        "\n",
        "name_url = list(filter(pokemon_filter, name_url_raw))\n",
        "\n",
        "pokemon_urls = [x['url'] for x in name_url]\n"
      ],
      "execution_count": 0,
      "outputs": []
    },
    {
      "cell_type": "markdown",
      "metadata": {
        "id": "9pY2JgZI6RPU",
        "colab_type": "text"
      },
      "source": [
        "#### 1b. Map the required data:\n",
        ">- Each Pokemon's base stats can only be found on their own page, which means a request for each Pokemon.\n",
        "- Storing into a flat file or SQL table would be preferable if the data is  required for reuse in the future."
      ]
    },
    {
      "cell_type": "code",
      "metadata": {
        "id": "Jd5O13kG6qzs",
        "colab_type": "code",
        "colab": {
          "base_uri": "https://localhost:8080/",
          "height": 55
        },
        "outputId": "33a7b4c0-4462-42ed-a50e-713ec308b224"
      },
      "source": [
        "# Return each pokemon's name, type1, and base stats:\n",
        "def pokemon_map(url):\n",
        "  pokemon = requests.get(url).json()\n",
        "  data = {'name': pokemon['name']\n",
        "          ,'type1': ''.join([t['type']['name'] for t in pokemon['types'] if t['slot'] == 1])\n",
        "          ,'stats': {s['stat']['name']: s['base_stat']for s in pokemon['stats']}}\n",
        "  return data\n",
        "  \n",
        "pokemon_data = list(map(pokemon_map, pokemon_urls))\n",
        "\n",
        "print(pokemon_data)"
      ],
      "execution_count": 4,
      "outputs": [
        {
          "output_type": "stream",
          "text": [
            "[{'name': 'bulbasaur', 'type1': 'grass', 'stats': {'speed': 45, 'special-defense': 65, 'special-attack': 65, 'defense': 49, 'attack': 49, 'hp': 45}}, {'name': 'ivysaur', 'type1': 'grass', 'stats': {'speed': 60, 'special-defense': 80, 'special-attack': 80, 'defense': 63, 'attack': 62, 'hp': 60}}, {'name': 'venusaur', 'type1': 'grass', 'stats': {'speed': 80, 'special-defense': 100, 'special-attack': 100, 'defense': 83, 'attack': 82, 'hp': 80}}, {'name': 'charmander', 'type1': 'fire', 'stats': {'speed': 65, 'special-defense': 50, 'special-attack': 60, 'defense': 43, 'attack': 52, 'hp': 39}}, {'name': 'charmeleon', 'type1': 'fire', 'stats': {'speed': 80, 'special-defense': 65, 'special-attack': 80, 'defense': 58, 'attack': 64, 'hp': 58}}, {'name': 'charizard', 'type1': 'fire', 'stats': {'speed': 100, 'special-defense': 85, 'special-attack': 109, 'defense': 78, 'attack': 84, 'hp': 78}}, {'name': 'squirtle', 'type1': 'water', 'stats': {'speed': 43, 'special-defense': 64, 'special-attack': 50, 'defense': 65, 'attack': 48, 'hp': 44}}, {'name': 'wartortle', 'type1': 'water', 'stats': {'speed': 58, 'special-defense': 80, 'special-attack': 65, 'defense': 80, 'attack': 63, 'hp': 59}}, {'name': 'blastoise', 'type1': 'water', 'stats': {'speed': 78, 'special-defense': 105, 'special-attack': 85, 'defense': 100, 'attack': 83, 'hp': 79}}, {'name': 'caterpie', 'type1': 'bug', 'stats': {'speed': 45, 'special-defense': 20, 'special-attack': 20, 'defense': 35, 'attack': 30, 'hp': 45}}, {'name': 'metapod', 'type1': 'bug', 'stats': {'speed': 30, 'special-defense': 25, 'special-attack': 25, 'defense': 55, 'attack': 20, 'hp': 50}}, {'name': 'butterfree', 'type1': 'bug', 'stats': {'speed': 70, 'special-defense': 80, 'special-attack': 90, 'defense': 50, 'attack': 45, 'hp': 60}}, {'name': 'weedle', 'type1': 'bug', 'stats': {'speed': 50, 'special-defense': 20, 'special-attack': 20, 'defense': 30, 'attack': 35, 'hp': 40}}, {'name': 'kakuna', 'type1': 'bug', 'stats': {'speed': 35, 'special-defense': 25, 'special-attack': 25, 'defense': 50, 'attack': 25, 'hp': 45}}, {'name': 'beedrill', 'type1': 'bug', 'stats': {'speed': 75, 'special-defense': 80, 'special-attack': 45, 'defense': 40, 'attack': 90, 'hp': 65}}, {'name': 'pidgey', 'type1': 'normal', 'stats': {'speed': 56, 'special-defense': 35, 'special-attack': 35, 'defense': 40, 'attack': 45, 'hp': 40}}, {'name': 'pidgeotto', 'type1': 'normal', 'stats': {'speed': 71, 'special-defense': 50, 'special-attack': 50, 'defense': 55, 'attack': 60, 'hp': 63}}, {'name': 'pidgeot', 'type1': 'normal', 'stats': {'speed': 101, 'special-defense': 70, 'special-attack': 70, 'defense': 75, 'attack': 80, 'hp': 83}}, {'name': 'rattata', 'type1': 'normal', 'stats': {'speed': 72, 'special-defense': 35, 'special-attack': 25, 'defense': 35, 'attack': 56, 'hp': 30}}, {'name': 'raticate', 'type1': 'normal', 'stats': {'speed': 97, 'special-defense': 70, 'special-attack': 50, 'defense': 60, 'attack': 81, 'hp': 55}}, {'name': 'spearow', 'type1': 'normal', 'stats': {'speed': 70, 'special-defense': 31, 'special-attack': 31, 'defense': 30, 'attack': 60, 'hp': 40}}, {'name': 'fearow', 'type1': 'normal', 'stats': {'speed': 100, 'special-defense': 61, 'special-attack': 61, 'defense': 65, 'attack': 90, 'hp': 65}}, {'name': 'ekans', 'type1': 'poison', 'stats': {'speed': 55, 'special-defense': 54, 'special-attack': 40, 'defense': 44, 'attack': 60, 'hp': 35}}, {'name': 'arbok', 'type1': 'poison', 'stats': {'speed': 80, 'special-defense': 79, 'special-attack': 65, 'defense': 69, 'attack': 95, 'hp': 60}}, {'name': 'pikachu', 'type1': 'electric', 'stats': {'speed': 90, 'special-defense': 50, 'special-attack': 50, 'defense': 40, 'attack': 55, 'hp': 35}}, {'name': 'raichu', 'type1': 'electric', 'stats': {'speed': 110, 'special-defense': 80, 'special-attack': 90, 'defense': 55, 'attack': 90, 'hp': 60}}, {'name': 'sandshrew', 'type1': 'ground', 'stats': {'speed': 40, 'special-defense': 30, 'special-attack': 20, 'defense': 85, 'attack': 75, 'hp': 50}}, {'name': 'sandslash', 'type1': 'ground', 'stats': {'speed': 65, 'special-defense': 55, 'special-attack': 45, 'defense': 110, 'attack': 100, 'hp': 75}}, {'name': 'nidoran-f', 'type1': 'poison', 'stats': {'speed': 41, 'special-defense': 40, 'special-attack': 40, 'defense': 52, 'attack': 47, 'hp': 55}}, {'name': 'nidorina', 'type1': 'poison', 'stats': {'speed': 56, 'special-defense': 55, 'special-attack': 55, 'defense': 67, 'attack': 62, 'hp': 70}}, {'name': 'nidoqueen', 'type1': 'poison', 'stats': {'speed': 76, 'special-defense': 85, 'special-attack': 75, 'defense': 87, 'attack': 92, 'hp': 90}}, {'name': 'nidoran-m', 'type1': 'poison', 'stats': {'speed': 50, 'special-defense': 40, 'special-attack': 40, 'defense': 40, 'attack': 57, 'hp': 46}}, {'name': 'nidorino', 'type1': 'poison', 'stats': {'speed': 65, 'special-defense': 55, 'special-attack': 55, 'defense': 57, 'attack': 72, 'hp': 61}}, {'name': 'nidoking', 'type1': 'poison', 'stats': {'speed': 85, 'special-defense': 75, 'special-attack': 85, 'defense': 77, 'attack': 102, 'hp': 81}}, {'name': 'clefairy', 'type1': 'fairy', 'stats': {'speed': 35, 'special-defense': 65, 'special-attack': 60, 'defense': 48, 'attack': 45, 'hp': 70}}, {'name': 'clefable', 'type1': 'fairy', 'stats': {'speed': 60, 'special-defense': 90, 'special-attack': 95, 'defense': 73, 'attack': 70, 'hp': 95}}, {'name': 'vulpix', 'type1': 'fire', 'stats': {'speed': 65, 'special-defense': 65, 'special-attack': 50, 'defense': 40, 'attack': 41, 'hp': 38}}, {'name': 'ninetales', 'type1': 'fire', 'stats': {'speed': 100, 'special-defense': 100, 'special-attack': 81, 'defense': 75, 'attack': 76, 'hp': 73}}, {'name': 'jigglypuff', 'type1': 'normal', 'stats': {'speed': 20, 'special-defense': 25, 'special-attack': 45, 'defense': 20, 'attack': 45, 'hp': 115}}, {'name': 'wigglytuff', 'type1': 'normal', 'stats': {'speed': 45, 'special-defense': 50, 'special-attack': 85, 'defense': 45, 'attack': 70, 'hp': 140}}, {'name': 'zubat', 'type1': 'poison', 'stats': {'speed': 55, 'special-defense': 40, 'special-attack': 30, 'defense': 35, 'attack': 45, 'hp': 40}}, {'name': 'golbat', 'type1': 'poison', 'stats': {'speed': 90, 'special-defense': 75, 'special-attack': 65, 'defense': 70, 'attack': 80, 'hp': 75}}, {'name': 'oddish', 'type1': 'grass', 'stats': {'speed': 30, 'special-defense': 65, 'special-attack': 75, 'defense': 55, 'attack': 50, 'hp': 45}}, {'name': 'gloom', 'type1': 'grass', 'stats': {'speed': 40, 'special-defense': 75, 'special-attack': 85, 'defense': 70, 'attack': 65, 'hp': 60}}, {'name': 'vileplume', 'type1': 'grass', 'stats': {'speed': 50, 'special-defense': 90, 'special-attack': 110, 'defense': 85, 'attack': 80, 'hp': 75}}, {'name': 'paras', 'type1': 'bug', 'stats': {'speed': 25, 'special-defense': 55, 'special-attack': 45, 'defense': 55, 'attack': 70, 'hp': 35}}, {'name': 'parasect', 'type1': 'bug', 'stats': {'speed': 30, 'special-defense': 80, 'special-attack': 60, 'defense': 80, 'attack': 95, 'hp': 60}}, {'name': 'venonat', 'type1': 'bug', 'stats': {'speed': 45, 'special-defense': 55, 'special-attack': 40, 'defense': 50, 'attack': 55, 'hp': 60}}, {'name': 'venomoth', 'type1': 'bug', 'stats': {'speed': 90, 'special-defense': 75, 'special-attack': 90, 'defense': 60, 'attack': 65, 'hp': 70}}, {'name': 'diglett', 'type1': 'ground', 'stats': {'speed': 95, 'special-defense': 45, 'special-attack': 35, 'defense': 25, 'attack': 55, 'hp': 10}}, {'name': 'dugtrio', 'type1': 'ground', 'stats': {'speed': 120, 'special-defense': 70, 'special-attack': 50, 'defense': 50, 'attack': 100, 'hp': 35}}, {'name': 'meowth', 'type1': 'normal', 'stats': {'speed': 90, 'special-defense': 40, 'special-attack': 40, 'defense': 35, 'attack': 45, 'hp': 40}}, {'name': 'persian', 'type1': 'normal', 'stats': {'speed': 115, 'special-defense': 65, 'special-attack': 65, 'defense': 60, 'attack': 70, 'hp': 65}}, {'name': 'psyduck', 'type1': 'water', 'stats': {'speed': 55, 'special-defense': 50, 'special-attack': 65, 'defense': 48, 'attack': 52, 'hp': 50}}, {'name': 'golduck', 'type1': 'water', 'stats': {'speed': 85, 'special-defense': 80, 'special-attack': 95, 'defense': 78, 'attack': 82, 'hp': 80}}, {'name': 'mankey', 'type1': 'fighting', 'stats': {'speed': 70, 'special-defense': 45, 'special-attack': 35, 'defense': 35, 'attack': 80, 'hp': 40}}, {'name': 'primeape', 'type1': 'fighting', 'stats': {'speed': 95, 'special-defense': 70, 'special-attack': 60, 'defense': 60, 'attack': 105, 'hp': 65}}, {'name': 'growlithe', 'type1': 'fire', 'stats': {'speed': 60, 'special-defense': 50, 'special-attack': 70, 'defense': 45, 'attack': 70, 'hp': 55}}, {'name': 'arcanine', 'type1': 'fire', 'stats': {'speed': 95, 'special-defense': 80, 'special-attack': 100, 'defense': 80, 'attack': 110, 'hp': 90}}, {'name': 'poliwag', 'type1': 'water', 'stats': {'speed': 90, 'special-defense': 40, 'special-attack': 40, 'defense': 40, 'attack': 50, 'hp': 40}}, {'name': 'poliwhirl', 'type1': 'water', 'stats': {'speed': 90, 'special-defense': 50, 'special-attack': 50, 'defense': 65, 'attack': 65, 'hp': 65}}, {'name': 'poliwrath', 'type1': 'water', 'stats': {'speed': 70, 'special-defense': 90, 'special-attack': 70, 'defense': 95, 'attack': 95, 'hp': 90}}, {'name': 'abra', 'type1': 'psychic', 'stats': {'speed': 90, 'special-defense': 55, 'special-attack': 105, 'defense': 15, 'attack': 20, 'hp': 25}}, {'name': 'kadabra', 'type1': 'psychic', 'stats': {'speed': 105, 'special-defense': 70, 'special-attack': 120, 'defense': 30, 'attack': 35, 'hp': 40}}, {'name': 'alakazam', 'type1': 'psychic', 'stats': {'speed': 120, 'special-defense': 95, 'special-attack': 135, 'defense': 45, 'attack': 50, 'hp': 55}}, {'name': 'machop', 'type1': 'fighting', 'stats': {'speed': 35, 'special-defense': 35, 'special-attack': 35, 'defense': 50, 'attack': 80, 'hp': 70}}, {'name': 'machoke', 'type1': 'fighting', 'stats': {'speed': 45, 'special-defense': 60, 'special-attack': 50, 'defense': 70, 'attack': 100, 'hp': 80}}, {'name': 'machamp', 'type1': 'fighting', 'stats': {'speed': 55, 'special-defense': 85, 'special-attack': 65, 'defense': 80, 'attack': 130, 'hp': 90}}, {'name': 'bellsprout', 'type1': 'grass', 'stats': {'speed': 40, 'special-defense': 30, 'special-attack': 70, 'defense': 35, 'attack': 75, 'hp': 50}}, {'name': 'weepinbell', 'type1': 'grass', 'stats': {'speed': 55, 'special-defense': 45, 'special-attack': 85, 'defense': 50, 'attack': 90, 'hp': 65}}, {'name': 'victreebel', 'type1': 'grass', 'stats': {'speed': 70, 'special-defense': 70, 'special-attack': 100, 'defense': 65, 'attack': 105, 'hp': 80}}, {'name': 'tentacool', 'type1': 'water', 'stats': {'speed': 70, 'special-defense': 100, 'special-attack': 50, 'defense': 35, 'attack': 40, 'hp': 40}}, {'name': 'tentacruel', 'type1': 'water', 'stats': {'speed': 100, 'special-defense': 120, 'special-attack': 80, 'defense': 65, 'attack': 70, 'hp': 80}}, {'name': 'geodude', 'type1': 'rock', 'stats': {'speed': 20, 'special-defense': 30, 'special-attack': 30, 'defense': 100, 'attack': 80, 'hp': 40}}, {'name': 'graveler', 'type1': 'rock', 'stats': {'speed': 35, 'special-defense': 45, 'special-attack': 45, 'defense': 115, 'attack': 95, 'hp': 55}}, {'name': 'golem', 'type1': 'rock', 'stats': {'speed': 45, 'special-defense': 65, 'special-attack': 55, 'defense': 130, 'attack': 120, 'hp': 80}}, {'name': 'ponyta', 'type1': 'fire', 'stats': {'speed': 90, 'special-defense': 65, 'special-attack': 65, 'defense': 55, 'attack': 85, 'hp': 50}}, {'name': 'rapidash', 'type1': 'fire', 'stats': {'speed': 105, 'special-defense': 80, 'special-attack': 80, 'defense': 70, 'attack': 100, 'hp': 65}}, {'name': 'slowpoke', 'type1': 'water', 'stats': {'speed': 15, 'special-defense': 40, 'special-attack': 40, 'defense': 65, 'attack': 65, 'hp': 90}}, {'name': 'slowbro', 'type1': 'water', 'stats': {'speed': 30, 'special-defense': 80, 'special-attack': 100, 'defense': 110, 'attack': 75, 'hp': 95}}, {'name': 'magnemite', 'type1': 'electric', 'stats': {'speed': 45, 'special-defense': 55, 'special-attack': 95, 'defense': 70, 'attack': 35, 'hp': 25}}, {'name': 'magneton', 'type1': 'electric', 'stats': {'speed': 70, 'special-defense': 70, 'special-attack': 120, 'defense': 95, 'attack': 60, 'hp': 50}}, {'name': 'farfetchd', 'type1': 'normal', 'stats': {'speed': 60, 'special-defense': 62, 'special-attack': 58, 'defense': 55, 'attack': 90, 'hp': 52}}, {'name': 'doduo', 'type1': 'normal', 'stats': {'speed': 75, 'special-defense': 35, 'special-attack': 35, 'defense': 45, 'attack': 85, 'hp': 35}}, {'name': 'dodrio', 'type1': 'normal', 'stats': {'speed': 110, 'special-defense': 60, 'special-attack': 60, 'defense': 70, 'attack': 110, 'hp': 60}}, {'name': 'seel', 'type1': 'water', 'stats': {'speed': 45, 'special-defense': 70, 'special-attack': 45, 'defense': 55, 'attack': 45, 'hp': 65}}, {'name': 'dewgong', 'type1': 'water', 'stats': {'speed': 70, 'special-defense': 95, 'special-attack': 70, 'defense': 80, 'attack': 70, 'hp': 90}}, {'name': 'grimer', 'type1': 'poison', 'stats': {'speed': 25, 'special-defense': 50, 'special-attack': 40, 'defense': 50, 'attack': 80, 'hp': 80}}, {'name': 'muk', 'type1': 'poison', 'stats': {'speed': 50, 'special-defense': 100, 'special-attack': 65, 'defense': 75, 'attack': 105, 'hp': 105}}, {'name': 'shellder', 'type1': 'water', 'stats': {'speed': 40, 'special-defense': 25, 'special-attack': 45, 'defense': 100, 'attack': 65, 'hp': 30}}, {'name': 'cloyster', 'type1': 'water', 'stats': {'speed': 70, 'special-defense': 45, 'special-attack': 85, 'defense': 180, 'attack': 95, 'hp': 50}}, {'name': 'gastly', 'type1': 'ghost', 'stats': {'speed': 80, 'special-defense': 35, 'special-attack': 100, 'defense': 30, 'attack': 35, 'hp': 30}}, {'name': 'haunter', 'type1': 'ghost', 'stats': {'speed': 95, 'special-defense': 55, 'special-attack': 115, 'defense': 45, 'attack': 50, 'hp': 45}}, {'name': 'gengar', 'type1': 'ghost', 'stats': {'speed': 110, 'special-defense': 75, 'special-attack': 130, 'defense': 60, 'attack': 65, 'hp': 60}}, {'name': 'onix', 'type1': 'rock', 'stats': {'speed': 70, 'special-defense': 45, 'special-attack': 30, 'defense': 160, 'attack': 45, 'hp': 35}}, {'name': 'drowzee', 'type1': 'psychic', 'stats': {'speed': 42, 'special-defense': 90, 'special-attack': 43, 'defense': 45, 'attack': 48, 'hp': 60}}, {'name': 'hypno', 'type1': 'psychic', 'stats': {'speed': 67, 'special-defense': 115, 'special-attack': 73, 'defense': 70, 'attack': 73, 'hp': 85}}, {'name': 'krabby', 'type1': 'water', 'stats': {'speed': 50, 'special-defense': 25, 'special-attack': 25, 'defense': 90, 'attack': 105, 'hp': 30}}, {'name': 'kingler', 'type1': 'water', 'stats': {'speed': 75, 'special-defense': 50, 'special-attack': 50, 'defense': 115, 'attack': 130, 'hp': 55}}, {'name': 'voltorb', 'type1': 'electric', 'stats': {'speed': 100, 'special-defense': 55, 'special-attack': 55, 'defense': 50, 'attack': 30, 'hp': 40}}, {'name': 'electrode', 'type1': 'electric', 'stats': {'speed': 150, 'special-defense': 80, 'special-attack': 80, 'defense': 70, 'attack': 50, 'hp': 60}}, {'name': 'exeggcute', 'type1': 'grass', 'stats': {'speed': 40, 'special-defense': 45, 'special-attack': 60, 'defense': 80, 'attack': 40, 'hp': 60}}, {'name': 'exeggutor', 'type1': 'grass', 'stats': {'speed': 55, 'special-defense': 75, 'special-attack': 125, 'defense': 85, 'attack': 95, 'hp': 95}}, {'name': 'cubone', 'type1': 'ground', 'stats': {'speed': 35, 'special-defense': 50, 'special-attack': 40, 'defense': 95, 'attack': 50, 'hp': 50}}, {'name': 'marowak', 'type1': 'ground', 'stats': {'speed': 45, 'special-defense': 80, 'special-attack': 50, 'defense': 110, 'attack': 80, 'hp': 60}}, {'name': 'hitmonlee', 'type1': 'fighting', 'stats': {'speed': 87, 'special-defense': 110, 'special-attack': 35, 'defense': 53, 'attack': 120, 'hp': 50}}, {'name': 'hitmonchan', 'type1': 'fighting', 'stats': {'speed': 76, 'special-defense': 110, 'special-attack': 35, 'defense': 79, 'attack': 105, 'hp': 50}}, {'name': 'lickitung', 'type1': 'normal', 'stats': {'speed': 30, 'special-defense': 75, 'special-attack': 60, 'defense': 75, 'attack': 55, 'hp': 90}}, {'name': 'koffing', 'type1': 'poison', 'stats': {'speed': 35, 'special-defense': 45, 'special-attack': 60, 'defense': 95, 'attack': 65, 'hp': 40}}, {'name': 'weezing', 'type1': 'poison', 'stats': {'speed': 60, 'special-defense': 70, 'special-attack': 85, 'defense': 120, 'attack': 90, 'hp': 65}}, {'name': 'rhyhorn', 'type1': 'ground', 'stats': {'speed': 25, 'special-defense': 30, 'special-attack': 30, 'defense': 95, 'attack': 85, 'hp': 80}}, {'name': 'rhydon', 'type1': 'ground', 'stats': {'speed': 40, 'special-defense': 45, 'special-attack': 45, 'defense': 120, 'attack': 130, 'hp': 105}}, {'name': 'chansey', 'type1': 'normal', 'stats': {'speed': 50, 'special-defense': 105, 'special-attack': 35, 'defense': 5, 'attack': 5, 'hp': 250}}, {'name': 'tangela', 'type1': 'grass', 'stats': {'speed': 60, 'special-defense': 40, 'special-attack': 100, 'defense': 115, 'attack': 55, 'hp': 65}}, {'name': 'kangaskhan', 'type1': 'normal', 'stats': {'speed': 90, 'special-defense': 80, 'special-attack': 40, 'defense': 80, 'attack': 95, 'hp': 105}}, {'name': 'horsea', 'type1': 'water', 'stats': {'speed': 60, 'special-defense': 25, 'special-attack': 70, 'defense': 70, 'attack': 40, 'hp': 30}}, {'name': 'seadra', 'type1': 'water', 'stats': {'speed': 85, 'special-defense': 45, 'special-attack': 95, 'defense': 95, 'attack': 65, 'hp': 55}}, {'name': 'goldeen', 'type1': 'water', 'stats': {'speed': 63, 'special-defense': 50, 'special-attack': 35, 'defense': 60, 'attack': 67, 'hp': 45}}, {'name': 'seaking', 'type1': 'water', 'stats': {'speed': 68, 'special-defense': 80, 'special-attack': 65, 'defense': 65, 'attack': 92, 'hp': 80}}, {'name': 'staryu', 'type1': 'water', 'stats': {'speed': 85, 'special-defense': 55, 'special-attack': 70, 'defense': 55, 'attack': 45, 'hp': 30}}, {'name': 'starmie', 'type1': 'water', 'stats': {'speed': 115, 'special-defense': 85, 'special-attack': 100, 'defense': 85, 'attack': 75, 'hp': 60}}, {'name': 'mr-mime', 'type1': 'psychic', 'stats': {'speed': 90, 'special-defense': 120, 'special-attack': 100, 'defense': 65, 'attack': 45, 'hp': 40}}, {'name': 'scyther', 'type1': 'bug', 'stats': {'speed': 105, 'special-defense': 80, 'special-attack': 55, 'defense': 80, 'attack': 110, 'hp': 70}}, {'name': 'jynx', 'type1': 'ice', 'stats': {'speed': 95, 'special-defense': 95, 'special-attack': 115, 'defense': 35, 'attack': 50, 'hp': 65}}, {'name': 'electabuzz', 'type1': 'electric', 'stats': {'speed': 105, 'special-defense': 85, 'special-attack': 95, 'defense': 57, 'attack': 83, 'hp': 65}}, {'name': 'magmar', 'type1': 'fire', 'stats': {'speed': 93, 'special-defense': 85, 'special-attack': 100, 'defense': 57, 'attack': 95, 'hp': 65}}, {'name': 'pinsir', 'type1': 'bug', 'stats': {'speed': 85, 'special-defense': 70, 'special-attack': 55, 'defense': 100, 'attack': 125, 'hp': 65}}, {'name': 'tauros', 'type1': 'normal', 'stats': {'speed': 110, 'special-defense': 70, 'special-attack': 40, 'defense': 95, 'attack': 100, 'hp': 75}}, {'name': 'magikarp', 'type1': 'water', 'stats': {'speed': 80, 'special-defense': 20, 'special-attack': 15, 'defense': 55, 'attack': 10, 'hp': 20}}, {'name': 'gyarados', 'type1': 'water', 'stats': {'speed': 81, 'special-defense': 100, 'special-attack': 60, 'defense': 79, 'attack': 125, 'hp': 95}}, {'name': 'lapras', 'type1': 'water', 'stats': {'speed': 60, 'special-defense': 95, 'special-attack': 85, 'defense': 80, 'attack': 85, 'hp': 130}}, {'name': 'ditto', 'type1': 'normal', 'stats': {'speed': 48, 'special-defense': 48, 'special-attack': 48, 'defense': 48, 'attack': 48, 'hp': 48}}, {'name': 'eevee', 'type1': 'normal', 'stats': {'speed': 55, 'special-defense': 65, 'special-attack': 45, 'defense': 50, 'attack': 55, 'hp': 55}}, {'name': 'vaporeon', 'type1': 'water', 'stats': {'speed': 65, 'special-defense': 95, 'special-attack': 110, 'defense': 60, 'attack': 65, 'hp': 130}}, {'name': 'jolteon', 'type1': 'electric', 'stats': {'speed': 130, 'special-defense': 95, 'special-attack': 110, 'defense': 60, 'attack': 65, 'hp': 65}}, {'name': 'flareon', 'type1': 'fire', 'stats': {'speed': 65, 'special-defense': 110, 'special-attack': 95, 'defense': 60, 'attack': 130, 'hp': 65}}, {'name': 'porygon', 'type1': 'normal', 'stats': {'speed': 40, 'special-defense': 75, 'special-attack': 85, 'defense': 70, 'attack': 60, 'hp': 65}}, {'name': 'omanyte', 'type1': 'rock', 'stats': {'speed': 35, 'special-defense': 55, 'special-attack': 90, 'defense': 100, 'attack': 40, 'hp': 35}}, {'name': 'omastar', 'type1': 'rock', 'stats': {'speed': 55, 'special-defense': 70, 'special-attack': 115, 'defense': 125, 'attack': 60, 'hp': 70}}, {'name': 'kabuto', 'type1': 'rock', 'stats': {'speed': 55, 'special-defense': 45, 'special-attack': 55, 'defense': 90, 'attack': 80, 'hp': 30}}, {'name': 'kabutops', 'type1': 'rock', 'stats': {'speed': 80, 'special-defense': 70, 'special-attack': 65, 'defense': 105, 'attack': 115, 'hp': 60}}, {'name': 'aerodactyl', 'type1': 'rock', 'stats': {'speed': 130, 'special-defense': 75, 'special-attack': 60, 'defense': 65, 'attack': 105, 'hp': 80}}, {'name': 'snorlax', 'type1': 'normal', 'stats': {'speed': 30, 'special-defense': 110, 'special-attack': 65, 'defense': 65, 'attack': 110, 'hp': 160}}, {'name': 'articuno', 'type1': 'ice', 'stats': {'speed': 85, 'special-defense': 125, 'special-attack': 95, 'defense': 100, 'attack': 85, 'hp': 90}}, {'name': 'zapdos', 'type1': 'electric', 'stats': {'speed': 100, 'special-defense': 90, 'special-attack': 125, 'defense': 85, 'attack': 90, 'hp': 90}}, {'name': 'moltres', 'type1': 'fire', 'stats': {'speed': 90, 'special-defense': 85, 'special-attack': 125, 'defense': 90, 'attack': 100, 'hp': 90}}, {'name': 'dratini', 'type1': 'dragon', 'stats': {'speed': 50, 'special-defense': 50, 'special-attack': 50, 'defense': 45, 'attack': 64, 'hp': 41}}, {'name': 'dragonair', 'type1': 'dragon', 'stats': {'speed': 70, 'special-defense': 70, 'special-attack': 70, 'defense': 65, 'attack': 84, 'hp': 61}}, {'name': 'dragonite', 'type1': 'dragon', 'stats': {'speed': 80, 'special-defense': 100, 'special-attack': 100, 'defense': 95, 'attack': 134, 'hp': 91}}, {'name': 'mewtwo', 'type1': 'psychic', 'stats': {'speed': 130, 'special-defense': 90, 'special-attack': 154, 'defense': 90, 'attack': 110, 'hp': 106}}, {'name': 'mew', 'type1': 'psychic', 'stats': {'speed': 100, 'special-defense': 100, 'special-attack': 100, 'defense': 100, 'attack': 100, 'hp': 100}}, {'name': 'chikorita', 'type1': 'grass', 'stats': {'speed': 45, 'special-defense': 65, 'special-attack': 49, 'defense': 65, 'attack': 49, 'hp': 45}}, {'name': 'bayleef', 'type1': 'grass', 'stats': {'speed': 60, 'special-defense': 80, 'special-attack': 63, 'defense': 80, 'attack': 62, 'hp': 60}}, {'name': 'meganium', 'type1': 'grass', 'stats': {'speed': 80, 'special-defense': 100, 'special-attack': 83, 'defense': 100, 'attack': 82, 'hp': 80}}, {'name': 'cyndaquil', 'type1': 'fire', 'stats': {'speed': 65, 'special-defense': 50, 'special-attack': 60, 'defense': 43, 'attack': 52, 'hp': 39}}, {'name': 'quilava', 'type1': 'fire', 'stats': {'speed': 80, 'special-defense': 65, 'special-attack': 80, 'defense': 58, 'attack': 64, 'hp': 58}}, {'name': 'typhlosion', 'type1': 'fire', 'stats': {'speed': 100, 'special-defense': 85, 'special-attack': 109, 'defense': 78, 'attack': 84, 'hp': 78}}, {'name': 'totodile', 'type1': 'water', 'stats': {'speed': 43, 'special-defense': 48, 'special-attack': 44, 'defense': 64, 'attack': 65, 'hp': 50}}, {'name': 'croconaw', 'type1': 'water', 'stats': {'speed': 58, 'special-defense': 63, 'special-attack': 59, 'defense': 80, 'attack': 80, 'hp': 65}}, {'name': 'feraligatr', 'type1': 'water', 'stats': {'speed': 78, 'special-defense': 83, 'special-attack': 79, 'defense': 100, 'attack': 105, 'hp': 85}}, {'name': 'sentret', 'type1': 'normal', 'stats': {'speed': 20, 'special-defense': 45, 'special-attack': 35, 'defense': 34, 'attack': 46, 'hp': 35}}, {'name': 'furret', 'type1': 'normal', 'stats': {'speed': 90, 'special-defense': 55, 'special-attack': 45, 'defense': 64, 'attack': 76, 'hp': 85}}, {'name': 'hoothoot', 'type1': 'normal', 'stats': {'speed': 50, 'special-defense': 56, 'special-attack': 36, 'defense': 30, 'attack': 30, 'hp': 60}}, {'name': 'noctowl', 'type1': 'normal', 'stats': {'speed': 70, 'special-defense': 96, 'special-attack': 86, 'defense': 50, 'attack': 50, 'hp': 100}}, {'name': 'ledyba', 'type1': 'bug', 'stats': {'speed': 55, 'special-defense': 80, 'special-attack': 40, 'defense': 30, 'attack': 20, 'hp': 40}}, {'name': 'ledian', 'type1': 'bug', 'stats': {'speed': 85, 'special-defense': 110, 'special-attack': 55, 'defense': 50, 'attack': 35, 'hp': 55}}, {'name': 'spinarak', 'type1': 'bug', 'stats': {'speed': 30, 'special-defense': 40, 'special-attack': 40, 'defense': 40, 'attack': 60, 'hp': 40}}, {'name': 'ariados', 'type1': 'bug', 'stats': {'speed': 40, 'special-defense': 70, 'special-attack': 60, 'defense': 70, 'attack': 90, 'hp': 70}}, {'name': 'crobat', 'type1': 'poison', 'stats': {'speed': 130, 'special-defense': 80, 'special-attack': 70, 'defense': 80, 'attack': 90, 'hp': 85}}, {'name': 'chinchou', 'type1': 'water', 'stats': {'speed': 67, 'special-defense': 56, 'special-attack': 56, 'defense': 38, 'attack': 38, 'hp': 75}}, {'name': 'lanturn', 'type1': 'water', 'stats': {'speed': 67, 'special-defense': 76, 'special-attack': 76, 'defense': 58, 'attack': 58, 'hp': 125}}, {'name': 'pichu', 'type1': 'electric', 'stats': {'speed': 60, 'special-defense': 35, 'special-attack': 35, 'defense': 15, 'attack': 40, 'hp': 20}}, {'name': 'cleffa', 'type1': 'fairy', 'stats': {'speed': 15, 'special-defense': 55, 'special-attack': 45, 'defense': 28, 'attack': 25, 'hp': 50}}, {'name': 'igglybuff', 'type1': 'normal', 'stats': {'speed': 15, 'special-defense': 20, 'special-attack': 40, 'defense': 15, 'attack': 30, 'hp': 90}}, {'name': 'togepi', 'type1': 'fairy', 'stats': {'speed': 20, 'special-defense': 65, 'special-attack': 40, 'defense': 65, 'attack': 20, 'hp': 35}}, {'name': 'togetic', 'type1': 'fairy', 'stats': {'speed': 40, 'special-defense': 105, 'special-attack': 80, 'defense': 85, 'attack': 40, 'hp': 55}}, {'name': 'natu', 'type1': 'psychic', 'stats': {'speed': 70, 'special-defense': 45, 'special-attack': 70, 'defense': 45, 'attack': 50, 'hp': 40}}, {'name': 'xatu', 'type1': 'psychic', 'stats': {'speed': 95, 'special-defense': 70, 'special-attack': 95, 'defense': 70, 'attack': 75, 'hp': 65}}, {'name': 'mareep', 'type1': 'electric', 'stats': {'speed': 35, 'special-defense': 45, 'special-attack': 65, 'defense': 40, 'attack': 40, 'hp': 55}}, {'name': 'flaaffy', 'type1': 'electric', 'stats': {'speed': 45, 'special-defense': 60, 'special-attack': 80, 'defense': 55, 'attack': 55, 'hp': 70}}, {'name': 'ampharos', 'type1': 'electric', 'stats': {'speed': 55, 'special-defense': 90, 'special-attack': 115, 'defense': 85, 'attack': 75, 'hp': 90}}, {'name': 'bellossom', 'type1': 'grass', 'stats': {'speed': 50, 'special-defense': 100, 'special-attack': 90, 'defense': 95, 'attack': 80, 'hp': 75}}, {'name': 'marill', 'type1': 'water', 'stats': {'speed': 40, 'special-defense': 50, 'special-attack': 20, 'defense': 50, 'attack': 20, 'hp': 70}}, {'name': 'azumarill', 'type1': 'water', 'stats': {'speed': 50, 'special-defense': 80, 'special-attack': 60, 'defense': 80, 'attack': 50, 'hp': 100}}, {'name': 'sudowoodo', 'type1': 'rock', 'stats': {'speed': 30, 'special-defense': 65, 'special-attack': 30, 'defense': 115, 'attack': 100, 'hp': 70}}, {'name': 'politoed', 'type1': 'water', 'stats': {'speed': 70, 'special-defense': 100, 'special-attack': 90, 'defense': 75, 'attack': 75, 'hp': 90}}, {'name': 'hoppip', 'type1': 'grass', 'stats': {'speed': 50, 'special-defense': 55, 'special-attack': 35, 'defense': 40, 'attack': 35, 'hp': 35}}, {'name': 'skiploom', 'type1': 'grass', 'stats': {'speed': 80, 'special-defense': 65, 'special-attack': 45, 'defense': 50, 'attack': 45, 'hp': 55}}, {'name': 'jumpluff', 'type1': 'grass', 'stats': {'speed': 110, 'special-defense': 95, 'special-attack': 55, 'defense': 70, 'attack': 55, 'hp': 75}}, {'name': 'aipom', 'type1': 'normal', 'stats': {'speed': 85, 'special-defense': 55, 'special-attack': 40, 'defense': 55, 'attack': 70, 'hp': 55}}, {'name': 'sunkern', 'type1': 'grass', 'stats': {'speed': 30, 'special-defense': 30, 'special-attack': 30, 'defense': 30, 'attack': 30, 'hp': 30}}, {'name': 'sunflora', 'type1': 'grass', 'stats': {'speed': 30, 'special-defense': 85, 'special-attack': 105, 'defense': 55, 'attack': 75, 'hp': 75}}, {'name': 'yanma', 'type1': 'bug', 'stats': {'speed': 95, 'special-defense': 45, 'special-attack': 75, 'defense': 45, 'attack': 65, 'hp': 65}}, {'name': 'wooper', 'type1': 'water', 'stats': {'speed': 15, 'special-defense': 25, 'special-attack': 25, 'defense': 45, 'attack': 45, 'hp': 55}}, {'name': 'quagsire', 'type1': 'water', 'stats': {'speed': 35, 'special-defense': 65, 'special-attack': 65, 'defense': 85, 'attack': 85, 'hp': 95}}, {'name': 'espeon', 'type1': 'psychic', 'stats': {'speed': 110, 'special-defense': 95, 'special-attack': 130, 'defense': 60, 'attack': 65, 'hp': 65}}, {'name': 'umbreon', 'type1': 'dark', 'stats': {'speed': 65, 'special-defense': 130, 'special-attack': 60, 'defense': 110, 'attack': 65, 'hp': 95}}, {'name': 'murkrow', 'type1': 'dark', 'stats': {'speed': 91, 'special-defense': 42, 'special-attack': 85, 'defense': 42, 'attack': 85, 'hp': 60}}, {'name': 'slowking', 'type1': 'water', 'stats': {'speed': 30, 'special-defense': 110, 'special-attack': 100, 'defense': 80, 'attack': 75, 'hp': 95}}, {'name': 'misdreavus', 'type1': 'ghost', 'stats': {'speed': 85, 'special-defense': 85, 'special-attack': 85, 'defense': 60, 'attack': 60, 'hp': 60}}, {'name': 'unown', 'type1': 'psychic', 'stats': {'speed': 48, 'special-defense': 48, 'special-attack': 72, 'defense': 48, 'attack': 72, 'hp': 48}}, {'name': 'wobbuffet', 'type1': 'psychic', 'stats': {'speed': 33, 'special-defense': 58, 'special-attack': 33, 'defense': 58, 'attack': 33, 'hp': 190}}, {'name': 'girafarig', 'type1': 'normal', 'stats': {'speed': 85, 'special-defense': 65, 'special-attack': 90, 'defense': 65, 'attack': 80, 'hp': 70}}, {'name': 'pineco', 'type1': 'bug', 'stats': {'speed': 15, 'special-defense': 35, 'special-attack': 35, 'defense': 90, 'attack': 65, 'hp': 50}}, {'name': 'forretress', 'type1': 'bug', 'stats': {'speed': 40, 'special-defense': 60, 'special-attack': 60, 'defense': 140, 'attack': 90, 'hp': 75}}, {'name': 'dunsparce', 'type1': 'normal', 'stats': {'speed': 45, 'special-defense': 65, 'special-attack': 65, 'defense': 70, 'attack': 70, 'hp': 100}}, {'name': 'gligar', 'type1': 'ground', 'stats': {'speed': 85, 'special-defense': 65, 'special-attack': 35, 'defense': 105, 'attack': 75, 'hp': 65}}, {'name': 'steelix', 'type1': 'steel', 'stats': {'speed': 30, 'special-defense': 65, 'special-attack': 55, 'defense': 200, 'attack': 85, 'hp': 75}}, {'name': 'snubbull', 'type1': 'fairy', 'stats': {'speed': 30, 'special-defense': 40, 'special-attack': 40, 'defense': 50, 'attack': 80, 'hp': 60}}, {'name': 'granbull', 'type1': 'fairy', 'stats': {'speed': 45, 'special-defense': 60, 'special-attack': 60, 'defense': 75, 'attack': 120, 'hp': 90}}, {'name': 'qwilfish', 'type1': 'water', 'stats': {'speed': 85, 'special-defense': 55, 'special-attack': 55, 'defense': 85, 'attack': 95, 'hp': 65}}, {'name': 'scizor', 'type1': 'bug', 'stats': {'speed': 65, 'special-defense': 80, 'special-attack': 55, 'defense': 100, 'attack': 130, 'hp': 70}}, {'name': 'shuckle', 'type1': 'bug', 'stats': {'speed': 5, 'special-defense': 230, 'special-attack': 10, 'defense': 230, 'attack': 10, 'hp': 20}}, {'name': 'heracross', 'type1': 'bug', 'stats': {'speed': 85, 'special-defense': 95, 'special-attack': 40, 'defense': 75, 'attack': 125, 'hp': 80}}, {'name': 'sneasel', 'type1': 'dark', 'stats': {'speed': 115, 'special-defense': 75, 'special-attack': 35, 'defense': 55, 'attack': 95, 'hp': 55}}, {'name': 'teddiursa', 'type1': 'normal', 'stats': {'speed': 40, 'special-defense': 50, 'special-attack': 50, 'defense': 50, 'attack': 80, 'hp': 60}}, {'name': 'ursaring', 'type1': 'normal', 'stats': {'speed': 55, 'special-defense': 75, 'special-attack': 75, 'defense': 75, 'attack': 130, 'hp': 90}}, {'name': 'slugma', 'type1': 'fire', 'stats': {'speed': 20, 'special-defense': 40, 'special-attack': 70, 'defense': 40, 'attack': 40, 'hp': 40}}, {'name': 'magcargo', 'type1': 'fire', 'stats': {'speed': 30, 'special-defense': 80, 'special-attack': 90, 'defense': 120, 'attack': 50, 'hp': 60}}, {'name': 'swinub', 'type1': 'ice', 'stats': {'speed': 50, 'special-defense': 30, 'special-attack': 30, 'defense': 40, 'attack': 50, 'hp': 50}}, {'name': 'piloswine', 'type1': 'ice', 'stats': {'speed': 50, 'special-defense': 60, 'special-attack': 60, 'defense': 80, 'attack': 100, 'hp': 100}}, {'name': 'corsola', 'type1': 'water', 'stats': {'speed': 35, 'special-defense': 95, 'special-attack': 65, 'defense': 95, 'attack': 55, 'hp': 65}}, {'name': 'remoraid', 'type1': 'water', 'stats': {'speed': 65, 'special-defense': 35, 'special-attack': 65, 'defense': 35, 'attack': 65, 'hp': 35}}, {'name': 'octillery', 'type1': 'water', 'stats': {'speed': 45, 'special-defense': 75, 'special-attack': 105, 'defense': 75, 'attack': 105, 'hp': 75}}, {'name': 'delibird', 'type1': 'ice', 'stats': {'speed': 75, 'special-defense': 45, 'special-attack': 65, 'defense': 45, 'attack': 55, 'hp': 45}}, {'name': 'mantine', 'type1': 'water', 'stats': {'speed': 70, 'special-defense': 140, 'special-attack': 80, 'defense': 70, 'attack': 40, 'hp': 85}}, {'name': 'skarmory', 'type1': 'steel', 'stats': {'speed': 70, 'special-defense': 70, 'special-attack': 40, 'defense': 140, 'attack': 80, 'hp': 65}}, {'name': 'houndour', 'type1': 'dark', 'stats': {'speed': 65, 'special-defense': 50, 'special-attack': 80, 'defense': 30, 'attack': 60, 'hp': 45}}, {'name': 'houndoom', 'type1': 'dark', 'stats': {'speed': 95, 'special-defense': 80, 'special-attack': 110, 'defense': 50, 'attack': 90, 'hp': 75}}, {'name': 'kingdra', 'type1': 'water', 'stats': {'speed': 85, 'special-defense': 95, 'special-attack': 95, 'defense': 95, 'attack': 95, 'hp': 75}}, {'name': 'phanpy', 'type1': 'ground', 'stats': {'speed': 40, 'special-defense': 40, 'special-attack': 40, 'defense': 60, 'attack': 60, 'hp': 90}}, {'name': 'donphan', 'type1': 'ground', 'stats': {'speed': 50, 'special-defense': 60, 'special-attack': 60, 'defense': 120, 'attack': 120, 'hp': 90}}, {'name': 'porygon2', 'type1': 'normal', 'stats': {'speed': 60, 'special-defense': 95, 'special-attack': 105, 'defense': 90, 'attack': 80, 'hp': 85}}, {'name': 'stantler', 'type1': 'normal', 'stats': {'speed': 85, 'special-defense': 65, 'special-attack': 85, 'defense': 62, 'attack': 95, 'hp': 73}}, {'name': 'smeargle', 'type1': 'normal', 'stats': {'speed': 75, 'special-defense': 45, 'special-attack': 20, 'defense': 35, 'attack': 20, 'hp': 55}}, {'name': 'tyrogue', 'type1': 'fighting', 'stats': {'speed': 35, 'special-defense': 35, 'special-attack': 35, 'defense': 35, 'attack': 35, 'hp': 35}}, {'name': 'hitmontop', 'type1': 'fighting', 'stats': {'speed': 70, 'special-defense': 110, 'special-attack': 35, 'defense': 95, 'attack': 95, 'hp': 50}}, {'name': 'smoochum', 'type1': 'ice', 'stats': {'speed': 65, 'special-defense': 65, 'special-attack': 85, 'defense': 15, 'attack': 30, 'hp': 45}}, {'name': 'elekid', 'type1': 'electric', 'stats': {'speed': 95, 'special-defense': 55, 'special-attack': 65, 'defense': 37, 'attack': 63, 'hp': 45}}, {'name': 'magby', 'type1': 'fire', 'stats': {'speed': 83, 'special-defense': 55, 'special-attack': 70, 'defense': 37, 'attack': 75, 'hp': 45}}, {'name': 'miltank', 'type1': 'normal', 'stats': {'speed': 100, 'special-defense': 70, 'special-attack': 40, 'defense': 105, 'attack': 80, 'hp': 95}}, {'name': 'blissey', 'type1': 'normal', 'stats': {'speed': 55, 'special-defense': 135, 'special-attack': 75, 'defense': 10, 'attack': 10, 'hp': 255}}, {'name': 'raikou', 'type1': 'electric', 'stats': {'speed': 115, 'special-defense': 100, 'special-attack': 115, 'defense': 75, 'attack': 85, 'hp': 90}}, {'name': 'entei', 'type1': 'fire', 'stats': {'speed': 100, 'special-defense': 75, 'special-attack': 90, 'defense': 85, 'attack': 115, 'hp': 115}}, {'name': 'suicune', 'type1': 'water', 'stats': {'speed': 85, 'special-defense': 115, 'special-attack': 90, 'defense': 115, 'attack': 75, 'hp': 100}}, {'name': 'larvitar', 'type1': 'rock', 'stats': {'speed': 41, 'special-defense': 50, 'special-attack': 45, 'defense': 50, 'attack': 64, 'hp': 50}}, {'name': 'pupitar', 'type1': 'rock', 'stats': {'speed': 51, 'special-defense': 70, 'special-attack': 65, 'defense': 70, 'attack': 84, 'hp': 70}}, {'name': 'tyranitar', 'type1': 'rock', 'stats': {'speed': 61, 'special-defense': 100, 'special-attack': 95, 'defense': 110, 'attack': 134, 'hp': 100}}, {'name': 'lugia', 'type1': 'psychic', 'stats': {'speed': 110, 'special-defense': 154, 'special-attack': 90, 'defense': 130, 'attack': 90, 'hp': 106}}, {'name': 'ho-oh', 'type1': 'fire', 'stats': {'speed': 90, 'special-defense': 154, 'special-attack': 110, 'defense': 90, 'attack': 130, 'hp': 106}}, {'name': 'celebi', 'type1': 'psychic', 'stats': {'speed': 100, 'special-defense': 100, 'special-attack': 100, 'defense': 100, 'attack': 100, 'hp': 100}}, {'name': 'treecko', 'type1': 'grass', 'stats': {'speed': 70, 'special-defense': 55, 'special-attack': 65, 'defense': 35, 'attack': 45, 'hp': 40}}, {'name': 'grovyle', 'type1': 'grass', 'stats': {'speed': 95, 'special-defense': 65, 'special-attack': 85, 'defense': 45, 'attack': 65, 'hp': 50}}, {'name': 'sceptile', 'type1': 'grass', 'stats': {'speed': 120, 'special-defense': 85, 'special-attack': 105, 'defense': 65, 'attack': 85, 'hp': 70}}, {'name': 'torchic', 'type1': 'fire', 'stats': {'speed': 45, 'special-defense': 50, 'special-attack': 70, 'defense': 40, 'attack': 60, 'hp': 45}}, {'name': 'combusken', 'type1': 'fire', 'stats': {'speed': 55, 'special-defense': 60, 'special-attack': 85, 'defense': 60, 'attack': 85, 'hp': 60}}, {'name': 'blaziken', 'type1': 'fire', 'stats': {'speed': 80, 'special-defense': 70, 'special-attack': 110, 'defense': 70, 'attack': 120, 'hp': 80}}, {'name': 'mudkip', 'type1': 'water', 'stats': {'speed': 40, 'special-defense': 50, 'special-attack': 50, 'defense': 50, 'attack': 70, 'hp': 50}}, {'name': 'marshtomp', 'type1': 'water', 'stats': {'speed': 50, 'special-defense': 70, 'special-attack': 60, 'defense': 70, 'attack': 85, 'hp': 70}}, {'name': 'swampert', 'type1': 'water', 'stats': {'speed': 60, 'special-defense': 90, 'special-attack': 85, 'defense': 90, 'attack': 110, 'hp': 100}}, {'name': 'poochyena', 'type1': 'dark', 'stats': {'speed': 35, 'special-defense': 30, 'special-attack': 30, 'defense': 35, 'attack': 55, 'hp': 35}}, {'name': 'mightyena', 'type1': 'dark', 'stats': {'speed': 70, 'special-defense': 60, 'special-attack': 60, 'defense': 70, 'attack': 90, 'hp': 70}}, {'name': 'zigzagoon', 'type1': 'normal', 'stats': {'speed': 60, 'special-defense': 41, 'special-attack': 30, 'defense': 41, 'attack': 30, 'hp': 38}}, {'name': 'linoone', 'type1': 'normal', 'stats': {'speed': 100, 'special-defense': 61, 'special-attack': 50, 'defense': 61, 'attack': 70, 'hp': 78}}, {'name': 'wurmple', 'type1': 'bug', 'stats': {'speed': 20, 'special-defense': 30, 'special-attack': 20, 'defense': 35, 'attack': 45, 'hp': 45}}, {'name': 'silcoon', 'type1': 'bug', 'stats': {'speed': 15, 'special-defense': 25, 'special-attack': 25, 'defense': 55, 'attack': 35, 'hp': 50}}, {'name': 'beautifly', 'type1': 'bug', 'stats': {'speed': 65, 'special-defense': 50, 'special-attack': 100, 'defense': 50, 'attack': 70, 'hp': 60}}, {'name': 'cascoon', 'type1': 'bug', 'stats': {'speed': 15, 'special-defense': 25, 'special-attack': 25, 'defense': 55, 'attack': 35, 'hp': 50}}, {'name': 'dustox', 'type1': 'bug', 'stats': {'speed': 65, 'special-defense': 90, 'special-attack': 50, 'defense': 70, 'attack': 50, 'hp': 60}}, {'name': 'lotad', 'type1': 'water', 'stats': {'speed': 30, 'special-defense': 50, 'special-attack': 40, 'defense': 30, 'attack': 30, 'hp': 40}}, {'name': 'lombre', 'type1': 'water', 'stats': {'speed': 50, 'special-defense': 70, 'special-attack': 60, 'defense': 50, 'attack': 50, 'hp': 60}}, {'name': 'ludicolo', 'type1': 'water', 'stats': {'speed': 70, 'special-defense': 100, 'special-attack': 90, 'defense': 70, 'attack': 70, 'hp': 80}}, {'name': 'seedot', 'type1': 'grass', 'stats': {'speed': 30, 'special-defense': 30, 'special-attack': 30, 'defense': 50, 'attack': 40, 'hp': 40}}, {'name': 'nuzleaf', 'type1': 'grass', 'stats': {'speed': 60, 'special-defense': 40, 'special-attack': 60, 'defense': 40, 'attack': 70, 'hp': 70}}, {'name': 'shiftry', 'type1': 'grass', 'stats': {'speed': 80, 'special-defense': 60, 'special-attack': 90, 'defense': 60, 'attack': 100, 'hp': 90}}, {'name': 'taillow', 'type1': 'normal', 'stats': {'speed': 85, 'special-defense': 30, 'special-attack': 30, 'defense': 30, 'attack': 55, 'hp': 40}}, {'name': 'swellow', 'type1': 'normal', 'stats': {'speed': 125, 'special-defense': 50, 'special-attack': 75, 'defense': 60, 'attack': 85, 'hp': 60}}, {'name': 'wingull', 'type1': 'water', 'stats': {'speed': 85, 'special-defense': 30, 'special-attack': 55, 'defense': 30, 'attack': 30, 'hp': 40}}, {'name': 'pelipper', 'type1': 'water', 'stats': {'speed': 65, 'special-defense': 70, 'special-attack': 95, 'defense': 100, 'attack': 50, 'hp': 60}}, {'name': 'ralts', 'type1': 'psychic', 'stats': {'speed': 40, 'special-defense': 35, 'special-attack': 45, 'defense': 25, 'attack': 25, 'hp': 28}}, {'name': 'kirlia', 'type1': 'psychic', 'stats': {'speed': 50, 'special-defense': 55, 'special-attack': 65, 'defense': 35, 'attack': 35, 'hp': 38}}, {'name': 'gardevoir', 'type1': 'psychic', 'stats': {'speed': 80, 'special-defense': 115, 'special-attack': 125, 'defense': 65, 'attack': 65, 'hp': 68}}, {'name': 'surskit', 'type1': 'bug', 'stats': {'speed': 65, 'special-defense': 52, 'special-attack': 50, 'defense': 32, 'attack': 30, 'hp': 40}}, {'name': 'masquerain', 'type1': 'bug', 'stats': {'speed': 80, 'special-defense': 82, 'special-attack': 100, 'defense': 62, 'attack': 60, 'hp': 70}}, {'name': 'shroomish', 'type1': 'grass', 'stats': {'speed': 35, 'special-defense': 60, 'special-attack': 40, 'defense': 60, 'attack': 40, 'hp': 60}}, {'name': 'breloom', 'type1': 'grass', 'stats': {'speed': 70, 'special-defense': 60, 'special-attack': 60, 'defense': 80, 'attack': 130, 'hp': 60}}, {'name': 'slakoth', 'type1': 'normal', 'stats': {'speed': 30, 'special-defense': 35, 'special-attack': 35, 'defense': 60, 'attack': 60, 'hp': 60}}, {'name': 'vigoroth', 'type1': 'normal', 'stats': {'speed': 90, 'special-defense': 55, 'special-attack': 55, 'defense': 80, 'attack': 80, 'hp': 80}}, {'name': 'slaking', 'type1': 'normal', 'stats': {'speed': 100, 'special-defense': 65, 'special-attack': 95, 'defense': 100, 'attack': 160, 'hp': 150}}, {'name': 'nincada', 'type1': 'bug', 'stats': {'speed': 40, 'special-defense': 30, 'special-attack': 30, 'defense': 90, 'attack': 45, 'hp': 31}}, {'name': 'ninjask', 'type1': 'bug', 'stats': {'speed': 160, 'special-defense': 50, 'special-attack': 50, 'defense': 45, 'attack': 90, 'hp': 61}}, {'name': 'shedinja', 'type1': 'bug', 'stats': {'speed': 40, 'special-defense': 30, 'special-attack': 30, 'defense': 45, 'attack': 90, 'hp': 1}}, {'name': 'whismur', 'type1': 'normal', 'stats': {'speed': 28, 'special-defense': 23, 'special-attack': 51, 'defense': 23, 'attack': 51, 'hp': 64}}, {'name': 'loudred', 'type1': 'normal', 'stats': {'speed': 48, 'special-defense': 43, 'special-attack': 71, 'defense': 43, 'attack': 71, 'hp': 84}}, {'name': 'exploud', 'type1': 'normal', 'stats': {'speed': 68, 'special-defense': 73, 'special-attack': 91, 'defense': 63, 'attack': 91, 'hp': 104}}, {'name': 'makuhita', 'type1': 'fighting', 'stats': {'speed': 25, 'special-defense': 30, 'special-attack': 20, 'defense': 30, 'attack': 60, 'hp': 72}}, {'name': 'hariyama', 'type1': 'fighting', 'stats': {'speed': 50, 'special-defense': 60, 'special-attack': 40, 'defense': 60, 'attack': 120, 'hp': 144}}, {'name': 'azurill', 'type1': 'normal', 'stats': {'speed': 20, 'special-defense': 40, 'special-attack': 20, 'defense': 40, 'attack': 20, 'hp': 50}}, {'name': 'nosepass', 'type1': 'rock', 'stats': {'speed': 30, 'special-defense': 90, 'special-attack': 45, 'defense': 135, 'attack': 45, 'hp': 30}}, {'name': 'skitty', 'type1': 'normal', 'stats': {'speed': 50, 'special-defense': 35, 'special-attack': 35, 'defense': 45, 'attack': 45, 'hp': 50}}, {'name': 'delcatty', 'type1': 'normal', 'stats': {'speed': 90, 'special-defense': 55, 'special-attack': 55, 'defense': 65, 'attack': 65, 'hp': 70}}, {'name': 'sableye', 'type1': 'dark', 'stats': {'speed': 50, 'special-defense': 65, 'special-attack': 65, 'defense': 75, 'attack': 75, 'hp': 50}}, {'name': 'mawile', 'type1': 'steel', 'stats': {'speed': 50, 'special-defense': 55, 'special-attack': 55, 'defense': 85, 'attack': 85, 'hp': 50}}, {'name': 'aron', 'type1': 'steel', 'stats': {'speed': 30, 'special-defense': 40, 'special-attack': 40, 'defense': 100, 'attack': 70, 'hp': 50}}, {'name': 'lairon', 'type1': 'steel', 'stats': {'speed': 40, 'special-defense': 50, 'special-attack': 50, 'defense': 140, 'attack': 90, 'hp': 60}}, {'name': 'aggron', 'type1': 'steel', 'stats': {'speed': 50, 'special-defense': 60, 'special-attack': 60, 'defense': 180, 'attack': 110, 'hp': 70}}, {'name': 'meditite', 'type1': 'fighting', 'stats': {'speed': 60, 'special-defense': 55, 'special-attack': 40, 'defense': 55, 'attack': 40, 'hp': 30}}, {'name': 'medicham', 'type1': 'fighting', 'stats': {'speed': 80, 'special-defense': 75, 'special-attack': 60, 'defense': 75, 'attack': 60, 'hp': 60}}, {'name': 'electrike', 'type1': 'electric', 'stats': {'speed': 65, 'special-defense': 40, 'special-attack': 65, 'defense': 40, 'attack': 45, 'hp': 40}}, {'name': 'manectric', 'type1': 'electric', 'stats': {'speed': 105, 'special-defense': 60, 'special-attack': 105, 'defense': 60, 'attack': 75, 'hp': 70}}, {'name': 'plusle', 'type1': 'electric', 'stats': {'speed': 95, 'special-defense': 75, 'special-attack': 85, 'defense': 40, 'attack': 50, 'hp': 60}}, {'name': 'minun', 'type1': 'electric', 'stats': {'speed': 95, 'special-defense': 85, 'special-attack': 75, 'defense': 50, 'attack': 40, 'hp': 60}}, {'name': 'volbeat', 'type1': 'bug', 'stats': {'speed': 85, 'special-defense': 85, 'special-attack': 47, 'defense': 75, 'attack': 73, 'hp': 65}}, {'name': 'illumise', 'type1': 'bug', 'stats': {'speed': 85, 'special-defense': 85, 'special-attack': 73, 'defense': 75, 'attack': 47, 'hp': 65}}, {'name': 'roselia', 'type1': 'grass', 'stats': {'speed': 65, 'special-defense': 80, 'special-attack': 100, 'defense': 45, 'attack': 60, 'hp': 50}}, {'name': 'gulpin', 'type1': 'poison', 'stats': {'speed': 40, 'special-defense': 53, 'special-attack': 43, 'defense': 53, 'attack': 43, 'hp': 70}}, {'name': 'swalot', 'type1': 'poison', 'stats': {'speed': 55, 'special-defense': 83, 'special-attack': 73, 'defense': 83, 'attack': 73, 'hp': 100}}, {'name': 'carvanha', 'type1': 'water', 'stats': {'speed': 65, 'special-defense': 20, 'special-attack': 65, 'defense': 20, 'attack': 90, 'hp': 45}}, {'name': 'sharpedo', 'type1': 'water', 'stats': {'speed': 95, 'special-defense': 40, 'special-attack': 95, 'defense': 40, 'attack': 120, 'hp': 70}}, {'name': 'wailmer', 'type1': 'water', 'stats': {'speed': 60, 'special-defense': 35, 'special-attack': 70, 'defense': 35, 'attack': 70, 'hp': 130}}, {'name': 'wailord', 'type1': 'water', 'stats': {'speed': 60, 'special-defense': 45, 'special-attack': 90, 'defense': 45, 'attack': 90, 'hp': 170}}, {'name': 'numel', 'type1': 'fire', 'stats': {'speed': 35, 'special-defense': 45, 'special-attack': 65, 'defense': 40, 'attack': 60, 'hp': 60}}, {'name': 'camerupt', 'type1': 'fire', 'stats': {'speed': 40, 'special-defense': 75, 'special-attack': 105, 'defense': 70, 'attack': 100, 'hp': 70}}, {'name': 'torkoal', 'type1': 'fire', 'stats': {'speed': 20, 'special-defense': 70, 'special-attack': 85, 'defense': 140, 'attack': 85, 'hp': 70}}, {'name': 'spoink', 'type1': 'psychic', 'stats': {'speed': 60, 'special-defense': 80, 'special-attack': 70, 'defense': 35, 'attack': 25, 'hp': 60}}, {'name': 'grumpig', 'type1': 'psychic', 'stats': {'speed': 80, 'special-defense': 110, 'special-attack': 90, 'defense': 65, 'attack': 45, 'hp': 80}}, {'name': 'spinda', 'type1': 'normal', 'stats': {'speed': 60, 'special-defense': 60, 'special-attack': 60, 'defense': 60, 'attack': 60, 'hp': 60}}, {'name': 'trapinch', 'type1': 'ground', 'stats': {'speed': 10, 'special-defense': 45, 'special-attack': 45, 'defense': 45, 'attack': 100, 'hp': 45}}, {'name': 'vibrava', 'type1': 'ground', 'stats': {'speed': 70, 'special-defense': 50, 'special-attack': 50, 'defense': 50, 'attack': 70, 'hp': 50}}, {'name': 'flygon', 'type1': 'ground', 'stats': {'speed': 100, 'special-defense': 80, 'special-attack': 80, 'defense': 80, 'attack': 100, 'hp': 80}}, {'name': 'cacnea', 'type1': 'grass', 'stats': {'speed': 35, 'special-defense': 40, 'special-attack': 85, 'defense': 40, 'attack': 85, 'hp': 50}}, {'name': 'cacturne', 'type1': 'grass', 'stats': {'speed': 55, 'special-defense': 60, 'special-attack': 115, 'defense': 60, 'attack': 115, 'hp': 70}}, {'name': 'swablu', 'type1': 'normal', 'stats': {'speed': 50, 'special-defense': 75, 'special-attack': 40, 'defense': 60, 'attack': 40, 'hp': 45}}, {'name': 'altaria', 'type1': 'dragon', 'stats': {'speed': 80, 'special-defense': 105, 'special-attack': 70, 'defense': 90, 'attack': 70, 'hp': 75}}, {'name': 'zangoose', 'type1': 'normal', 'stats': {'speed': 90, 'special-defense': 60, 'special-attack': 60, 'defense': 60, 'attack': 115, 'hp': 73}}, {'name': 'seviper', 'type1': 'poison', 'stats': {'speed': 65, 'special-defense': 60, 'special-attack': 100, 'defense': 60, 'attack': 100, 'hp': 73}}, {'name': 'lunatone', 'type1': 'rock', 'stats': {'speed': 70, 'special-defense': 85, 'special-attack': 95, 'defense': 65, 'attack': 55, 'hp': 90}}, {'name': 'solrock', 'type1': 'rock', 'stats': {'speed': 70, 'special-defense': 65, 'special-attack': 55, 'defense': 85, 'attack': 95, 'hp': 90}}, {'name': 'barboach', 'type1': 'water', 'stats': {'speed': 60, 'special-defense': 41, 'special-attack': 46, 'defense': 43, 'attack': 48, 'hp': 50}}, {'name': 'whiscash', 'type1': 'water', 'stats': {'speed': 60, 'special-defense': 71, 'special-attack': 76, 'defense': 73, 'attack': 78, 'hp': 110}}, {'name': 'corphish', 'type1': 'water', 'stats': {'speed': 35, 'special-defense': 35, 'special-attack': 50, 'defense': 65, 'attack': 80, 'hp': 43}}, {'name': 'crawdaunt', 'type1': 'water', 'stats': {'speed': 55, 'special-defense': 55, 'special-attack': 90, 'defense': 85, 'attack': 120, 'hp': 63}}, {'name': 'baltoy', 'type1': 'ground', 'stats': {'speed': 55, 'special-defense': 70, 'special-attack': 40, 'defense': 55, 'attack': 40, 'hp': 40}}, {'name': 'claydol', 'type1': 'ground', 'stats': {'speed': 75, 'special-defense': 120, 'special-attack': 70, 'defense': 105, 'attack': 70, 'hp': 60}}, {'name': 'lileep', 'type1': 'rock', 'stats': {'speed': 23, 'special-defense': 87, 'special-attack': 61, 'defense': 77, 'attack': 41, 'hp': 66}}, {'name': 'cradily', 'type1': 'rock', 'stats': {'speed': 43, 'special-defense': 107, 'special-attack': 81, 'defense': 97, 'attack': 81, 'hp': 86}}, {'name': 'anorith', 'type1': 'rock', 'stats': {'speed': 75, 'special-defense': 50, 'special-attack': 40, 'defense': 50, 'attack': 95, 'hp': 45}}, {'name': 'armaldo', 'type1': 'rock', 'stats': {'speed': 45, 'special-defense': 80, 'special-attack': 70, 'defense': 100, 'attack': 125, 'hp': 75}}, {'name': 'feebas', 'type1': 'water', 'stats': {'speed': 80, 'special-defense': 55, 'special-attack': 10, 'defense': 20, 'attack': 15, 'hp': 20}}, {'name': 'milotic', 'type1': 'water', 'stats': {'speed': 81, 'special-defense': 125, 'special-attack': 100, 'defense': 79, 'attack': 60, 'hp': 95}}, {'name': 'castform', 'type1': 'normal', 'stats': {'speed': 70, 'special-defense': 70, 'special-attack': 70, 'defense': 70, 'attack': 70, 'hp': 70}}, {'name': 'kecleon', 'type1': 'normal', 'stats': {'speed': 40, 'special-defense': 120, 'special-attack': 60, 'defense': 70, 'attack': 90, 'hp': 60}}, {'name': 'shuppet', 'type1': 'ghost', 'stats': {'speed': 45, 'special-defense': 33, 'special-attack': 63, 'defense': 35, 'attack': 75, 'hp': 44}}, {'name': 'banette', 'type1': 'ghost', 'stats': {'speed': 65, 'special-defense': 63, 'special-attack': 83, 'defense': 65, 'attack': 115, 'hp': 64}}, {'name': 'duskull', 'type1': 'ghost', 'stats': {'speed': 25, 'special-defense': 90, 'special-attack': 30, 'defense': 90, 'attack': 40, 'hp': 20}}, {'name': 'dusclops', 'type1': 'ghost', 'stats': {'speed': 25, 'special-defense': 130, 'special-attack': 60, 'defense': 130, 'attack': 70, 'hp': 40}}, {'name': 'tropius', 'type1': 'grass', 'stats': {'speed': 51, 'special-defense': 87, 'special-attack': 72, 'defense': 83, 'attack': 68, 'hp': 99}}, {'name': 'chimecho', 'type1': 'psychic', 'stats': {'speed': 65, 'special-defense': 90, 'special-attack': 95, 'defense': 80, 'attack': 50, 'hp': 75}}, {'name': 'absol', 'type1': 'dark', 'stats': {'speed': 75, 'special-defense': 60, 'special-attack': 75, 'defense': 60, 'attack': 130, 'hp': 65}}, {'name': 'wynaut', 'type1': 'psychic', 'stats': {'speed': 23, 'special-defense': 48, 'special-attack': 23, 'defense': 48, 'attack': 23, 'hp': 95}}, {'name': 'snorunt', 'type1': 'ice', 'stats': {'speed': 50, 'special-defense': 50, 'special-attack': 50, 'defense': 50, 'attack': 50, 'hp': 50}}, {'name': 'glalie', 'type1': 'ice', 'stats': {'speed': 80, 'special-defense': 80, 'special-attack': 80, 'defense': 80, 'attack': 80, 'hp': 80}}, {'name': 'spheal', 'type1': 'ice', 'stats': {'speed': 25, 'special-defense': 50, 'special-attack': 55, 'defense': 50, 'attack': 40, 'hp': 70}}, {'name': 'sealeo', 'type1': 'ice', 'stats': {'speed': 45, 'special-defense': 70, 'special-attack': 75, 'defense': 70, 'attack': 60, 'hp': 90}}, {'name': 'walrein', 'type1': 'ice', 'stats': {'speed': 65, 'special-defense': 90, 'special-attack': 95, 'defense': 90, 'attack': 80, 'hp': 110}}, {'name': 'clamperl', 'type1': 'water', 'stats': {'speed': 32, 'special-defense': 55, 'special-attack': 74, 'defense': 85, 'attack': 64, 'hp': 35}}, {'name': 'huntail', 'type1': 'water', 'stats': {'speed': 52, 'special-defense': 75, 'special-attack': 94, 'defense': 105, 'attack': 104, 'hp': 55}}, {'name': 'gorebyss', 'type1': 'water', 'stats': {'speed': 52, 'special-defense': 75, 'special-attack': 114, 'defense': 105, 'attack': 84, 'hp': 55}}, {'name': 'relicanth', 'type1': 'water', 'stats': {'speed': 55, 'special-defense': 65, 'special-attack': 45, 'defense': 130, 'attack': 90, 'hp': 100}}, {'name': 'luvdisc', 'type1': 'water', 'stats': {'speed': 97, 'special-defense': 65, 'special-attack': 40, 'defense': 55, 'attack': 30, 'hp': 43}}, {'name': 'bagon', 'type1': 'dragon', 'stats': {'speed': 50, 'special-defense': 30, 'special-attack': 40, 'defense': 60, 'attack': 75, 'hp': 45}}, {'name': 'shelgon', 'type1': 'dragon', 'stats': {'speed': 50, 'special-defense': 50, 'special-attack': 60, 'defense': 100, 'attack': 95, 'hp': 65}}, {'name': 'salamence', 'type1': 'dragon', 'stats': {'speed': 100, 'special-defense': 80, 'special-attack': 110, 'defense': 80, 'attack': 135, 'hp': 95}}, {'name': 'beldum', 'type1': 'steel', 'stats': {'speed': 30, 'special-defense': 60, 'special-attack': 35, 'defense': 80, 'attack': 55, 'hp': 40}}, {'name': 'metang', 'type1': 'steel', 'stats': {'speed': 50, 'special-defense': 80, 'special-attack': 55, 'defense': 100, 'attack': 75, 'hp': 60}}, {'name': 'metagross', 'type1': 'steel', 'stats': {'speed': 70, 'special-defense': 90, 'special-attack': 95, 'defense': 130, 'attack': 135, 'hp': 80}}, {'name': 'regirock', 'type1': 'rock', 'stats': {'speed': 50, 'special-defense': 100, 'special-attack': 50, 'defense': 200, 'attack': 100, 'hp': 80}}, {'name': 'regice', 'type1': 'ice', 'stats': {'speed': 50, 'special-defense': 200, 'special-attack': 100, 'defense': 100, 'attack': 50, 'hp': 80}}, {'name': 'registeel', 'type1': 'steel', 'stats': {'speed': 50, 'special-defense': 150, 'special-attack': 75, 'defense': 150, 'attack': 75, 'hp': 80}}, {'name': 'latias', 'type1': 'dragon', 'stats': {'speed': 110, 'special-defense': 130, 'special-attack': 110, 'defense': 90, 'attack': 80, 'hp': 80}}, {'name': 'latios', 'type1': 'dragon', 'stats': {'speed': 110, 'special-defense': 110, 'special-attack': 130, 'defense': 80, 'attack': 90, 'hp': 80}}, {'name': 'kyogre', 'type1': 'water', 'stats': {'speed': 90, 'special-defense': 140, 'special-attack': 150, 'defense': 90, 'attack': 100, 'hp': 100}}, {'name': 'groudon', 'type1': 'ground', 'stats': {'speed': 90, 'special-defense': 90, 'special-attack': 100, 'defense': 140, 'attack': 150, 'hp': 100}}, {'name': 'rayquaza', 'type1': 'dragon', 'stats': {'speed': 95, 'special-defense': 90, 'special-attack': 150, 'defense': 90, 'attack': 150, 'hp': 105}}, {'name': 'jirachi', 'type1': 'steel', 'stats': {'speed': 100, 'special-defense': 100, 'special-attack': 100, 'defense': 100, 'attack': 100, 'hp': 100}}, {'name': 'deoxys-normal', 'type1': 'psychic', 'stats': {'speed': 150, 'special-defense': 50, 'special-attack': 150, 'defense': 50, 'attack': 150, 'hp': 50}}, {'name': 'turtwig', 'type1': 'grass', 'stats': {'speed': 31, 'special-defense': 55, 'special-attack': 45, 'defense': 64, 'attack': 68, 'hp': 55}}, {'name': 'grotle', 'type1': 'grass', 'stats': {'speed': 36, 'special-defense': 65, 'special-attack': 55, 'defense': 85, 'attack': 89, 'hp': 75}}, {'name': 'torterra', 'type1': 'grass', 'stats': {'speed': 56, 'special-defense': 85, 'special-attack': 75, 'defense': 105, 'attack': 109, 'hp': 95}}, {'name': 'chimchar', 'type1': 'fire', 'stats': {'speed': 61, 'special-defense': 44, 'special-attack': 58, 'defense': 44, 'attack': 58, 'hp': 44}}, {'name': 'monferno', 'type1': 'fire', 'stats': {'speed': 81, 'special-defense': 52, 'special-attack': 78, 'defense': 52, 'attack': 78, 'hp': 64}}, {'name': 'infernape', 'type1': 'fire', 'stats': {'speed': 108, 'special-defense': 71, 'special-attack': 104, 'defense': 71, 'attack': 104, 'hp': 76}}, {'name': 'piplup', 'type1': 'water', 'stats': {'speed': 40, 'special-defense': 56, 'special-attack': 61, 'defense': 53, 'attack': 51, 'hp': 53}}, {'name': 'prinplup', 'type1': 'water', 'stats': {'speed': 50, 'special-defense': 76, 'special-attack': 81, 'defense': 68, 'attack': 66, 'hp': 64}}, {'name': 'empoleon', 'type1': 'water', 'stats': {'speed': 60, 'special-defense': 101, 'special-attack': 111, 'defense': 88, 'attack': 86, 'hp': 84}}, {'name': 'starly', 'type1': 'normal', 'stats': {'speed': 60, 'special-defense': 30, 'special-attack': 30, 'defense': 30, 'attack': 55, 'hp': 40}}, {'name': 'staravia', 'type1': 'normal', 'stats': {'speed': 80, 'special-defense': 40, 'special-attack': 40, 'defense': 50, 'attack': 75, 'hp': 55}}, {'name': 'staraptor', 'type1': 'normal', 'stats': {'speed': 100, 'special-defense': 60, 'special-attack': 50, 'defense': 70, 'attack': 120, 'hp': 85}}, {'name': 'bidoof', 'type1': 'normal', 'stats': {'speed': 31, 'special-defense': 40, 'special-attack': 35, 'defense': 40, 'attack': 45, 'hp': 59}}, {'name': 'bibarel', 'type1': 'normal', 'stats': {'speed': 71, 'special-defense': 60, 'special-attack': 55, 'defense': 60, 'attack': 85, 'hp': 79}}, {'name': 'kricketot', 'type1': 'bug', 'stats': {'speed': 25, 'special-defense': 41, 'special-attack': 25, 'defense': 41, 'attack': 25, 'hp': 37}}, {'name': 'kricketune', 'type1': 'bug', 'stats': {'speed': 65, 'special-defense': 51, 'special-attack': 55, 'defense': 51, 'attack': 85, 'hp': 77}}, {'name': 'shinx', 'type1': 'electric', 'stats': {'speed': 45, 'special-defense': 34, 'special-attack': 40, 'defense': 34, 'attack': 65, 'hp': 45}}, {'name': 'luxio', 'type1': 'electric', 'stats': {'speed': 60, 'special-defense': 49, 'special-attack': 60, 'defense': 49, 'attack': 85, 'hp': 60}}, {'name': 'luxray', 'type1': 'electric', 'stats': {'speed': 70, 'special-defense': 79, 'special-attack': 95, 'defense': 79, 'attack': 120, 'hp': 80}}, {'name': 'budew', 'type1': 'grass', 'stats': {'speed': 55, 'special-defense': 70, 'special-attack': 50, 'defense': 35, 'attack': 30, 'hp': 40}}, {'name': 'roserade', 'type1': 'grass', 'stats': {'speed': 90, 'special-defense': 105, 'special-attack': 125, 'defense': 65, 'attack': 70, 'hp': 60}}, {'name': 'cranidos', 'type1': 'rock', 'stats': {'speed': 58, 'special-defense': 30, 'special-attack': 30, 'defense': 40, 'attack': 125, 'hp': 67}}, {'name': 'rampardos', 'type1': 'rock', 'stats': {'speed': 58, 'special-defense': 50, 'special-attack': 65, 'defense': 60, 'attack': 165, 'hp': 97}}, {'name': 'shieldon', 'type1': 'rock', 'stats': {'speed': 30, 'special-defense': 88, 'special-attack': 42, 'defense': 118, 'attack': 42, 'hp': 30}}, {'name': 'bastiodon', 'type1': 'rock', 'stats': {'speed': 30, 'special-defense': 138, 'special-attack': 47, 'defense': 168, 'attack': 52, 'hp': 60}}, {'name': 'burmy', 'type1': 'bug', 'stats': {'speed': 36, 'special-defense': 45, 'special-attack': 29, 'defense': 45, 'attack': 29, 'hp': 40}}, {'name': 'wormadam-plant', 'type1': 'bug', 'stats': {'speed': 36, 'special-defense': 105, 'special-attack': 79, 'defense': 85, 'attack': 59, 'hp': 60}}, {'name': 'mothim', 'type1': 'bug', 'stats': {'speed': 66, 'special-defense': 50, 'special-attack': 94, 'defense': 50, 'attack': 94, 'hp': 70}}, {'name': 'combee', 'type1': 'bug', 'stats': {'speed': 70, 'special-defense': 42, 'special-attack': 30, 'defense': 42, 'attack': 30, 'hp': 30}}, {'name': 'vespiquen', 'type1': 'bug', 'stats': {'speed': 40, 'special-defense': 102, 'special-attack': 80, 'defense': 102, 'attack': 80, 'hp': 70}}, {'name': 'pachirisu', 'type1': 'electric', 'stats': {'speed': 95, 'special-defense': 90, 'special-attack': 45, 'defense': 70, 'attack': 45, 'hp': 60}}, {'name': 'buizel', 'type1': 'water', 'stats': {'speed': 85, 'special-defense': 30, 'special-attack': 60, 'defense': 35, 'attack': 65, 'hp': 55}}, {'name': 'floatzel', 'type1': 'water', 'stats': {'speed': 115, 'special-defense': 50, 'special-attack': 85, 'defense': 55, 'attack': 105, 'hp': 85}}, {'name': 'cherubi', 'type1': 'grass', 'stats': {'speed': 35, 'special-defense': 53, 'special-attack': 62, 'defense': 45, 'attack': 35, 'hp': 45}}, {'name': 'cherrim', 'type1': 'grass', 'stats': {'speed': 85, 'special-defense': 78, 'special-attack': 87, 'defense': 70, 'attack': 60, 'hp': 70}}, {'name': 'shellos', 'type1': 'water', 'stats': {'speed': 34, 'special-defense': 62, 'special-attack': 57, 'defense': 48, 'attack': 48, 'hp': 76}}, {'name': 'gastrodon', 'type1': 'water', 'stats': {'speed': 39, 'special-defense': 82, 'special-attack': 92, 'defense': 68, 'attack': 83, 'hp': 111}}, {'name': 'ambipom', 'type1': 'normal', 'stats': {'speed': 115, 'special-defense': 66, 'special-attack': 60, 'defense': 66, 'attack': 100, 'hp': 75}}, {'name': 'drifloon', 'type1': 'ghost', 'stats': {'speed': 70, 'special-defense': 44, 'special-attack': 60, 'defense': 34, 'attack': 50, 'hp': 90}}, {'name': 'drifblim', 'type1': 'ghost', 'stats': {'speed': 80, 'special-defense': 54, 'special-attack': 90, 'defense': 44, 'attack': 80, 'hp': 150}}, {'name': 'buneary', 'type1': 'normal', 'stats': {'speed': 85, 'special-defense': 56, 'special-attack': 44, 'defense': 44, 'attack': 66, 'hp': 55}}, {'name': 'lopunny', 'type1': 'normal', 'stats': {'speed': 105, 'special-defense': 96, 'special-attack': 54, 'defense': 84, 'attack': 76, 'hp': 65}}, {'name': 'mismagius', 'type1': 'ghost', 'stats': {'speed': 105, 'special-defense': 105, 'special-attack': 105, 'defense': 60, 'attack': 60, 'hp': 60}}, {'name': 'honchkrow', 'type1': 'dark', 'stats': {'speed': 71, 'special-defense': 52, 'special-attack': 105, 'defense': 52, 'attack': 125, 'hp': 100}}, {'name': 'glameow', 'type1': 'normal', 'stats': {'speed': 85, 'special-defense': 37, 'special-attack': 42, 'defense': 42, 'attack': 55, 'hp': 49}}, {'name': 'purugly', 'type1': 'normal', 'stats': {'speed': 112, 'special-defense': 59, 'special-attack': 64, 'defense': 64, 'attack': 82, 'hp': 71}}, {'name': 'chingling', 'type1': 'psychic', 'stats': {'speed': 45, 'special-defense': 50, 'special-attack': 65, 'defense': 50, 'attack': 30, 'hp': 45}}, {'name': 'stunky', 'type1': 'poison', 'stats': {'speed': 74, 'special-defense': 41, 'special-attack': 41, 'defense': 47, 'attack': 63, 'hp': 63}}, {'name': 'skuntank', 'type1': 'poison', 'stats': {'speed': 84, 'special-defense': 61, 'special-attack': 71, 'defense': 67, 'attack': 93, 'hp': 103}}, {'name': 'bronzor', 'type1': 'steel', 'stats': {'speed': 23, 'special-defense': 86, 'special-attack': 24, 'defense': 86, 'attack': 24, 'hp': 57}}, {'name': 'bronzong', 'type1': 'steel', 'stats': {'speed': 33, 'special-defense': 116, 'special-attack': 79, 'defense': 116, 'attack': 89, 'hp': 67}}, {'name': 'bonsly', 'type1': 'rock', 'stats': {'speed': 10, 'special-defense': 45, 'special-attack': 10, 'defense': 95, 'attack': 80, 'hp': 50}}, {'name': 'mime-jr', 'type1': 'psychic', 'stats': {'speed': 60, 'special-defense': 90, 'special-attack': 70, 'defense': 45, 'attack': 25, 'hp': 20}}, {'name': 'happiny', 'type1': 'normal', 'stats': {'speed': 30, 'special-defense': 65, 'special-attack': 15, 'defense': 5, 'attack': 5, 'hp': 100}}, {'name': 'chatot', 'type1': 'normal', 'stats': {'speed': 91, 'special-defense': 42, 'special-attack': 92, 'defense': 45, 'attack': 65, 'hp': 76}}, {'name': 'spiritomb', 'type1': 'ghost', 'stats': {'speed': 35, 'special-defense': 108, 'special-attack': 92, 'defense': 108, 'attack': 92, 'hp': 50}}, {'name': 'gible', 'type1': 'dragon', 'stats': {'speed': 42, 'special-defense': 45, 'special-attack': 40, 'defense': 45, 'attack': 70, 'hp': 58}}, {'name': 'gabite', 'type1': 'dragon', 'stats': {'speed': 82, 'special-defense': 55, 'special-attack': 50, 'defense': 65, 'attack': 90, 'hp': 68}}, {'name': 'garchomp', 'type1': 'dragon', 'stats': {'speed': 102, 'special-defense': 85, 'special-attack': 80, 'defense': 95, 'attack': 130, 'hp': 108}}, {'name': 'munchlax', 'type1': 'normal', 'stats': {'speed': 5, 'special-defense': 85, 'special-attack': 40, 'defense': 40, 'attack': 85, 'hp': 135}}, {'name': 'riolu', 'type1': 'fighting', 'stats': {'speed': 60, 'special-defense': 40, 'special-attack': 35, 'defense': 40, 'attack': 70, 'hp': 40}}, {'name': 'lucario', 'type1': 'fighting', 'stats': {'speed': 90, 'special-defense': 70, 'special-attack': 115, 'defense': 70, 'attack': 110, 'hp': 70}}, {'name': 'hippopotas', 'type1': 'ground', 'stats': {'speed': 32, 'special-defense': 42, 'special-attack': 38, 'defense': 78, 'attack': 72, 'hp': 68}}, {'name': 'hippowdon', 'type1': 'ground', 'stats': {'speed': 47, 'special-defense': 72, 'special-attack': 68, 'defense': 118, 'attack': 112, 'hp': 108}}, {'name': 'skorupi', 'type1': 'poison', 'stats': {'speed': 65, 'special-defense': 55, 'special-attack': 30, 'defense': 90, 'attack': 50, 'hp': 40}}, {'name': 'drapion', 'type1': 'poison', 'stats': {'speed': 95, 'special-defense': 75, 'special-attack': 60, 'defense': 110, 'attack': 90, 'hp': 70}}, {'name': 'croagunk', 'type1': 'poison', 'stats': {'speed': 50, 'special-defense': 40, 'special-attack': 61, 'defense': 40, 'attack': 61, 'hp': 48}}, {'name': 'toxicroak', 'type1': 'poison', 'stats': {'speed': 85, 'special-defense': 65, 'special-attack': 86, 'defense': 65, 'attack': 106, 'hp': 83}}, {'name': 'carnivine', 'type1': 'grass', 'stats': {'speed': 46, 'special-defense': 72, 'special-attack': 90, 'defense': 72, 'attack': 100, 'hp': 74}}, {'name': 'finneon', 'type1': 'water', 'stats': {'speed': 66, 'special-defense': 61, 'special-attack': 49, 'defense': 56, 'attack': 49, 'hp': 49}}, {'name': 'lumineon', 'type1': 'water', 'stats': {'speed': 91, 'special-defense': 86, 'special-attack': 69, 'defense': 76, 'attack': 69, 'hp': 69}}, {'name': 'mantyke', 'type1': 'water', 'stats': {'speed': 50, 'special-defense': 120, 'special-attack': 60, 'defense': 50, 'attack': 20, 'hp': 45}}, {'name': 'snover', 'type1': 'grass', 'stats': {'speed': 40, 'special-defense': 60, 'special-attack': 62, 'defense': 50, 'attack': 62, 'hp': 60}}, {'name': 'abomasnow', 'type1': 'grass', 'stats': {'speed': 60, 'special-defense': 85, 'special-attack': 92, 'defense': 75, 'attack': 92, 'hp': 90}}, {'name': 'weavile', 'type1': 'dark', 'stats': {'speed': 125, 'special-defense': 85, 'special-attack': 45, 'defense': 65, 'attack': 120, 'hp': 70}}, {'name': 'magnezone', 'type1': 'electric', 'stats': {'speed': 60, 'special-defense': 90, 'special-attack': 130, 'defense': 115, 'attack': 70, 'hp': 70}}, {'name': 'lickilicky', 'type1': 'normal', 'stats': {'speed': 50, 'special-defense': 95, 'special-attack': 80, 'defense': 95, 'attack': 85, 'hp': 110}}, {'name': 'rhyperior', 'type1': 'ground', 'stats': {'speed': 40, 'special-defense': 55, 'special-attack': 55, 'defense': 130, 'attack': 140, 'hp': 115}}, {'name': 'tangrowth', 'type1': 'grass', 'stats': {'speed': 50, 'special-defense': 50, 'special-attack': 110, 'defense': 125, 'attack': 100, 'hp': 100}}, {'name': 'electivire', 'type1': 'electric', 'stats': {'speed': 95, 'special-defense': 85, 'special-attack': 95, 'defense': 67, 'attack': 123, 'hp': 75}}, {'name': 'magmortar', 'type1': 'fire', 'stats': {'speed': 83, 'special-defense': 95, 'special-attack': 125, 'defense': 67, 'attack': 95, 'hp': 75}}, {'name': 'togekiss', 'type1': 'fairy', 'stats': {'speed': 80, 'special-defense': 115, 'special-attack': 120, 'defense': 95, 'attack': 50, 'hp': 85}}, {'name': 'yanmega', 'type1': 'bug', 'stats': {'speed': 95, 'special-defense': 56, 'special-attack': 116, 'defense': 86, 'attack': 76, 'hp': 86}}, {'name': 'leafeon', 'type1': 'grass', 'stats': {'speed': 95, 'special-defense': 65, 'special-attack': 60, 'defense': 130, 'attack': 110, 'hp': 65}}, {'name': 'glaceon', 'type1': 'ice', 'stats': {'speed': 65, 'special-defense': 95, 'special-attack': 130, 'defense': 110, 'attack': 60, 'hp': 65}}, {'name': 'gliscor', 'type1': 'ground', 'stats': {'speed': 95, 'special-defense': 75, 'special-attack': 45, 'defense': 125, 'attack': 95, 'hp': 75}}, {'name': 'mamoswine', 'type1': 'ice', 'stats': {'speed': 80, 'special-defense': 60, 'special-attack': 70, 'defense': 80, 'attack': 130, 'hp': 110}}, {'name': 'porygon-z', 'type1': 'normal', 'stats': {'speed': 90, 'special-defense': 75, 'special-attack': 135, 'defense': 70, 'attack': 80, 'hp': 85}}, {'name': 'gallade', 'type1': 'psychic', 'stats': {'speed': 80, 'special-defense': 115, 'special-attack': 65, 'defense': 65, 'attack': 125, 'hp': 68}}, {'name': 'probopass', 'type1': 'rock', 'stats': {'speed': 40, 'special-defense': 150, 'special-attack': 75, 'defense': 145, 'attack': 55, 'hp': 60}}, {'name': 'dusknoir', 'type1': 'ghost', 'stats': {'speed': 45, 'special-defense': 135, 'special-attack': 65, 'defense': 135, 'attack': 100, 'hp': 45}}, {'name': 'froslass', 'type1': 'ice', 'stats': {'speed': 110, 'special-defense': 70, 'special-attack': 80, 'defense': 70, 'attack': 80, 'hp': 70}}, {'name': 'rotom', 'type1': 'electric', 'stats': {'speed': 91, 'special-defense': 77, 'special-attack': 95, 'defense': 77, 'attack': 50, 'hp': 50}}, {'name': 'uxie', 'type1': 'psychic', 'stats': {'speed': 95, 'special-defense': 130, 'special-attack': 75, 'defense': 130, 'attack': 75, 'hp': 75}}, {'name': 'mesprit', 'type1': 'psychic', 'stats': {'speed': 80, 'special-defense': 105, 'special-attack': 105, 'defense': 105, 'attack': 105, 'hp': 80}}, {'name': 'azelf', 'type1': 'psychic', 'stats': {'speed': 115, 'special-defense': 70, 'special-attack': 125, 'defense': 70, 'attack': 125, 'hp': 75}}, {'name': 'dialga', 'type1': 'steel', 'stats': {'speed': 90, 'special-defense': 100, 'special-attack': 150, 'defense': 120, 'attack': 120, 'hp': 100}}, {'name': 'palkia', 'type1': 'water', 'stats': {'speed': 100, 'special-defense': 120, 'special-attack': 150, 'defense': 100, 'attack': 120, 'hp': 90}}, {'name': 'heatran', 'type1': 'fire', 'stats': {'speed': 77, 'special-defense': 106, 'special-attack': 130, 'defense': 106, 'attack': 90, 'hp': 91}}, {'name': 'regigigas', 'type1': 'normal', 'stats': {'speed': 100, 'special-defense': 110, 'special-attack': 80, 'defense': 110, 'attack': 160, 'hp': 110}}, {'name': 'giratina-altered', 'type1': 'ghost', 'stats': {'speed': 90, 'special-defense': 120, 'special-attack': 100, 'defense': 120, 'attack': 100, 'hp': 150}}, {'name': 'cresselia', 'type1': 'psychic', 'stats': {'speed': 85, 'special-defense': 130, 'special-attack': 75, 'defense': 120, 'attack': 70, 'hp': 120}}, {'name': 'phione', 'type1': 'water', 'stats': {'speed': 80, 'special-defense': 80, 'special-attack': 80, 'defense': 80, 'attack': 80, 'hp': 80}}, {'name': 'manaphy', 'type1': 'water', 'stats': {'speed': 100, 'special-defense': 100, 'special-attack': 100, 'defense': 100, 'attack': 100, 'hp': 100}}, {'name': 'darkrai', 'type1': 'dark', 'stats': {'speed': 125, 'special-defense': 90, 'special-attack': 135, 'defense': 90, 'attack': 90, 'hp': 70}}, {'name': 'shaymin-land', 'type1': 'grass', 'stats': {'speed': 100, 'special-defense': 100, 'special-attack': 100, 'defense': 100, 'attack': 100, 'hp': 100}}, {'name': 'arceus', 'type1': 'normal', 'stats': {'speed': 120, 'special-defense': 120, 'special-attack': 120, 'defense': 120, 'attack': 120, 'hp': 120}}, {'name': 'victini', 'type1': 'psychic', 'stats': {'speed': 100, 'special-defense': 100, 'special-attack': 100, 'defense': 100, 'attack': 100, 'hp': 100}}, {'name': 'snivy', 'type1': 'grass', 'stats': {'speed': 63, 'special-defense': 55, 'special-attack': 45, 'defense': 55, 'attack': 45, 'hp': 45}}, {'name': 'servine', 'type1': 'grass', 'stats': {'speed': 83, 'special-defense': 75, 'special-attack': 60, 'defense': 75, 'attack': 60, 'hp': 60}}, {'name': 'serperior', 'type1': 'grass', 'stats': {'speed': 113, 'special-defense': 95, 'special-attack': 75, 'defense': 95, 'attack': 75, 'hp': 75}}, {'name': 'tepig', 'type1': 'fire', 'stats': {'speed': 45, 'special-defense': 45, 'special-attack': 45, 'defense': 45, 'attack': 63, 'hp': 65}}, {'name': 'pignite', 'type1': 'fire', 'stats': {'speed': 55, 'special-defense': 55, 'special-attack': 70, 'defense': 55, 'attack': 93, 'hp': 90}}, {'name': 'emboar', 'type1': 'fire', 'stats': {'speed': 65, 'special-defense': 65, 'special-attack': 100, 'defense': 65, 'attack': 123, 'hp': 110}}, {'name': 'oshawott', 'type1': 'water', 'stats': {'speed': 45, 'special-defense': 45, 'special-attack': 63, 'defense': 45, 'attack': 55, 'hp': 55}}, {'name': 'dewott', 'type1': 'water', 'stats': {'speed': 60, 'special-defense': 60, 'special-attack': 83, 'defense': 60, 'attack': 75, 'hp': 75}}, {'name': 'samurott', 'type1': 'water', 'stats': {'speed': 70, 'special-defense': 70, 'special-attack': 108, 'defense': 85, 'attack': 100, 'hp': 95}}, {'name': 'patrat', 'type1': 'normal', 'stats': {'speed': 42, 'special-defense': 39, 'special-attack': 35, 'defense': 39, 'attack': 55, 'hp': 45}}, {'name': 'watchog', 'type1': 'normal', 'stats': {'speed': 77, 'special-defense': 69, 'special-attack': 60, 'defense': 69, 'attack': 85, 'hp': 60}}, {'name': 'lillipup', 'type1': 'normal', 'stats': {'speed': 55, 'special-defense': 45, 'special-attack': 25, 'defense': 45, 'attack': 60, 'hp': 45}}, {'name': 'herdier', 'type1': 'normal', 'stats': {'speed': 60, 'special-defense': 65, 'special-attack': 35, 'defense': 65, 'attack': 80, 'hp': 65}}, {'name': 'stoutland', 'type1': 'normal', 'stats': {'speed': 80, 'special-defense': 90, 'special-attack': 45, 'defense': 90, 'attack': 110, 'hp': 85}}, {'name': 'purrloin', 'type1': 'dark', 'stats': {'speed': 66, 'special-defense': 37, 'special-attack': 50, 'defense': 37, 'attack': 50, 'hp': 41}}, {'name': 'liepard', 'type1': 'dark', 'stats': {'speed': 106, 'special-defense': 50, 'special-attack': 88, 'defense': 50, 'attack': 88, 'hp': 64}}, {'name': 'pansage', 'type1': 'grass', 'stats': {'speed': 64, 'special-defense': 48, 'special-attack': 53, 'defense': 48, 'attack': 53, 'hp': 50}}, {'name': 'simisage', 'type1': 'grass', 'stats': {'speed': 101, 'special-defense': 63, 'special-attack': 98, 'defense': 63, 'attack': 98, 'hp': 75}}, {'name': 'pansear', 'type1': 'fire', 'stats': {'speed': 64, 'special-defense': 48, 'special-attack': 53, 'defense': 48, 'attack': 53, 'hp': 50}}, {'name': 'simisear', 'type1': 'fire', 'stats': {'speed': 101, 'special-defense': 63, 'special-attack': 98, 'defense': 63, 'attack': 98, 'hp': 75}}, {'name': 'panpour', 'type1': 'water', 'stats': {'speed': 64, 'special-defense': 48, 'special-attack': 53, 'defense': 48, 'attack': 53, 'hp': 50}}, {'name': 'simipour', 'type1': 'water', 'stats': {'speed': 101, 'special-defense': 63, 'special-attack': 98, 'defense': 63, 'attack': 98, 'hp': 75}}, {'name': 'munna', 'type1': 'psychic', 'stats': {'speed': 24, 'special-defense': 55, 'special-attack': 67, 'defense': 45, 'attack': 25, 'hp': 76}}, {'name': 'musharna', 'type1': 'psychic', 'stats': {'speed': 29, 'special-defense': 95, 'special-attack': 107, 'defense': 85, 'attack': 55, 'hp': 116}}, {'name': 'pidove', 'type1': 'normal', 'stats': {'speed': 43, 'special-defense': 30, 'special-attack': 36, 'defense': 50, 'attack': 55, 'hp': 50}}, {'name': 'tranquill', 'type1': 'normal', 'stats': {'speed': 65, 'special-defense': 42, 'special-attack': 50, 'defense': 62, 'attack': 77, 'hp': 62}}, {'name': 'unfezant', 'type1': 'normal', 'stats': {'speed': 93, 'special-defense': 55, 'special-attack': 65, 'defense': 80, 'attack': 115, 'hp': 80}}, {'name': 'blitzle', 'type1': 'electric', 'stats': {'speed': 76, 'special-defense': 32, 'special-attack': 50, 'defense': 32, 'attack': 60, 'hp': 45}}, {'name': 'zebstrika', 'type1': 'electric', 'stats': {'speed': 116, 'special-defense': 63, 'special-attack': 80, 'defense': 63, 'attack': 100, 'hp': 75}}, {'name': 'roggenrola', 'type1': 'rock', 'stats': {'speed': 15, 'special-defense': 25, 'special-attack': 25, 'defense': 85, 'attack': 75, 'hp': 55}}, {'name': 'boldore', 'type1': 'rock', 'stats': {'speed': 20, 'special-defense': 40, 'special-attack': 50, 'defense': 105, 'attack': 105, 'hp': 70}}, {'name': 'gigalith', 'type1': 'rock', 'stats': {'speed': 25, 'special-defense': 80, 'special-attack': 60, 'defense': 130, 'attack': 135, 'hp': 85}}, {'name': 'woobat', 'type1': 'psychic', 'stats': {'speed': 72, 'special-defense': 43, 'special-attack': 55, 'defense': 43, 'attack': 45, 'hp': 65}}, {'name': 'swoobat', 'type1': 'psychic', 'stats': {'speed': 114, 'special-defense': 55, 'special-attack': 77, 'defense': 55, 'attack': 57, 'hp': 67}}, {'name': 'drilbur', 'type1': 'ground', 'stats': {'speed': 68, 'special-defense': 45, 'special-attack': 30, 'defense': 40, 'attack': 85, 'hp': 60}}, {'name': 'excadrill', 'type1': 'ground', 'stats': {'speed': 88, 'special-defense': 65, 'special-attack': 50, 'defense': 60, 'attack': 135, 'hp': 110}}, {'name': 'audino', 'type1': 'normal', 'stats': {'speed': 50, 'special-defense': 86, 'special-attack': 60, 'defense': 86, 'attack': 60, 'hp': 103}}, {'name': 'timburr', 'type1': 'fighting', 'stats': {'speed': 35, 'special-defense': 35, 'special-attack': 25, 'defense': 55, 'attack': 80, 'hp': 75}}, {'name': 'gurdurr', 'type1': 'fighting', 'stats': {'speed': 40, 'special-defense': 50, 'special-attack': 40, 'defense': 85, 'attack': 105, 'hp': 85}}, {'name': 'conkeldurr', 'type1': 'fighting', 'stats': {'speed': 45, 'special-defense': 65, 'special-attack': 55, 'defense': 95, 'attack': 140, 'hp': 105}}, {'name': 'tympole', 'type1': 'water', 'stats': {'speed': 64, 'special-defense': 40, 'special-attack': 50, 'defense': 40, 'attack': 50, 'hp': 50}}, {'name': 'palpitoad', 'type1': 'water', 'stats': {'speed': 69, 'special-defense': 55, 'special-attack': 65, 'defense': 55, 'attack': 65, 'hp': 75}}, {'name': 'seismitoad', 'type1': 'water', 'stats': {'speed': 74, 'special-defense': 75, 'special-attack': 85, 'defense': 75, 'attack': 95, 'hp': 105}}, {'name': 'throh', 'type1': 'fighting', 'stats': {'speed': 45, 'special-defense': 85, 'special-attack': 30, 'defense': 85, 'attack': 100, 'hp': 120}}, {'name': 'sawk', 'type1': 'fighting', 'stats': {'speed': 85, 'special-defense': 75, 'special-attack': 30, 'defense': 75, 'attack': 125, 'hp': 75}}, {'name': 'sewaddle', 'type1': 'bug', 'stats': {'speed': 42, 'special-defense': 60, 'special-attack': 40, 'defense': 70, 'attack': 53, 'hp': 45}}, {'name': 'swadloon', 'type1': 'bug', 'stats': {'speed': 42, 'special-defense': 80, 'special-attack': 50, 'defense': 90, 'attack': 63, 'hp': 55}}, {'name': 'leavanny', 'type1': 'bug', 'stats': {'speed': 92, 'special-defense': 80, 'special-attack': 70, 'defense': 80, 'attack': 103, 'hp': 75}}, {'name': 'venipede', 'type1': 'bug', 'stats': {'speed': 57, 'special-defense': 39, 'special-attack': 30, 'defense': 59, 'attack': 45, 'hp': 30}}, {'name': 'whirlipede', 'type1': 'bug', 'stats': {'speed': 47, 'special-defense': 79, 'special-attack': 40, 'defense': 99, 'attack': 55, 'hp': 40}}, {'name': 'scolipede', 'type1': 'bug', 'stats': {'speed': 112, 'special-defense': 69, 'special-attack': 55, 'defense': 89, 'attack': 100, 'hp': 60}}, {'name': 'cottonee', 'type1': 'grass', 'stats': {'speed': 66, 'special-defense': 50, 'special-attack': 37, 'defense': 60, 'attack': 27, 'hp': 40}}, {'name': 'whimsicott', 'type1': 'grass', 'stats': {'speed': 116, 'special-defense': 75, 'special-attack': 77, 'defense': 85, 'attack': 67, 'hp': 60}}, {'name': 'petilil', 'type1': 'grass', 'stats': {'speed': 30, 'special-defense': 50, 'special-attack': 70, 'defense': 50, 'attack': 35, 'hp': 45}}, {'name': 'lilligant', 'type1': 'grass', 'stats': {'speed': 90, 'special-defense': 75, 'special-attack': 110, 'defense': 75, 'attack': 60, 'hp': 70}}, {'name': 'basculin-red-striped', 'type1': 'water', 'stats': {'speed': 98, 'special-defense': 55, 'special-attack': 80, 'defense': 65, 'attack': 92, 'hp': 70}}, {'name': 'sandile', 'type1': 'ground', 'stats': {'speed': 65, 'special-defense': 35, 'special-attack': 35, 'defense': 35, 'attack': 72, 'hp': 50}}, {'name': 'krokorok', 'type1': 'ground', 'stats': {'speed': 74, 'special-defense': 45, 'special-attack': 45, 'defense': 45, 'attack': 82, 'hp': 60}}, {'name': 'krookodile', 'type1': 'ground', 'stats': {'speed': 92, 'special-defense': 70, 'special-attack': 65, 'defense': 80, 'attack': 117, 'hp': 95}}, {'name': 'darumaka', 'type1': 'fire', 'stats': {'speed': 50, 'special-defense': 45, 'special-attack': 15, 'defense': 45, 'attack': 90, 'hp': 70}}, {'name': 'darmanitan-standard', 'type1': 'fire', 'stats': {'speed': 95, 'special-defense': 55, 'special-attack': 30, 'defense': 55, 'attack': 140, 'hp': 105}}, {'name': 'maractus', 'type1': 'grass', 'stats': {'speed': 60, 'special-defense': 67, 'special-attack': 106, 'defense': 67, 'attack': 86, 'hp': 75}}, {'name': 'dwebble', 'type1': 'bug', 'stats': {'speed': 55, 'special-defense': 35, 'special-attack': 35, 'defense': 85, 'attack': 65, 'hp': 50}}, {'name': 'crustle', 'type1': 'bug', 'stats': {'speed': 45, 'special-defense': 75, 'special-attack': 65, 'defense': 125, 'attack': 105, 'hp': 70}}, {'name': 'scraggy', 'type1': 'dark', 'stats': {'speed': 48, 'special-defense': 70, 'special-attack': 35, 'defense': 70, 'attack': 75, 'hp': 50}}, {'name': 'scrafty', 'type1': 'dark', 'stats': {'speed': 58, 'special-defense': 115, 'special-attack': 45, 'defense': 115, 'attack': 90, 'hp': 65}}, {'name': 'sigilyph', 'type1': 'psychic', 'stats': {'speed': 97, 'special-defense': 80, 'special-attack': 103, 'defense': 80, 'attack': 58, 'hp': 72}}, {'name': 'yamask', 'type1': 'ghost', 'stats': {'speed': 30, 'special-defense': 65, 'special-attack': 55, 'defense': 85, 'attack': 30, 'hp': 38}}, {'name': 'cofagrigus', 'type1': 'ghost', 'stats': {'speed': 30, 'special-defense': 105, 'special-attack': 95, 'defense': 145, 'attack': 50, 'hp': 58}}, {'name': 'tirtouga', 'type1': 'water', 'stats': {'speed': 22, 'special-defense': 45, 'special-attack': 53, 'defense': 103, 'attack': 78, 'hp': 54}}, {'name': 'carracosta', 'type1': 'water', 'stats': {'speed': 32, 'special-defense': 65, 'special-attack': 83, 'defense': 133, 'attack': 108, 'hp': 74}}, {'name': 'archen', 'type1': 'rock', 'stats': {'speed': 70, 'special-defense': 45, 'special-attack': 74, 'defense': 45, 'attack': 112, 'hp': 55}}, {'name': 'archeops', 'type1': 'rock', 'stats': {'speed': 110, 'special-defense': 65, 'special-attack': 112, 'defense': 65, 'attack': 140, 'hp': 75}}, {'name': 'trubbish', 'type1': 'poison', 'stats': {'speed': 65, 'special-defense': 62, 'special-attack': 40, 'defense': 62, 'attack': 50, 'hp': 50}}, {'name': 'garbodor', 'type1': 'poison', 'stats': {'speed': 75, 'special-defense': 82, 'special-attack': 60, 'defense': 82, 'attack': 95, 'hp': 80}}, {'name': 'zorua', 'type1': 'dark', 'stats': {'speed': 65, 'special-defense': 40, 'special-attack': 80, 'defense': 40, 'attack': 65, 'hp': 40}}, {'name': 'zoroark', 'type1': 'dark', 'stats': {'speed': 105, 'special-defense': 60, 'special-attack': 120, 'defense': 60, 'attack': 105, 'hp': 60}}, {'name': 'minccino', 'type1': 'normal', 'stats': {'speed': 75, 'special-defense': 40, 'special-attack': 40, 'defense': 40, 'attack': 50, 'hp': 55}}, {'name': 'cinccino', 'type1': 'normal', 'stats': {'speed': 115, 'special-defense': 60, 'special-attack': 65, 'defense': 60, 'attack': 95, 'hp': 75}}, {'name': 'gothita', 'type1': 'psychic', 'stats': {'speed': 45, 'special-defense': 65, 'special-attack': 55, 'defense': 50, 'attack': 30, 'hp': 45}}, {'name': 'gothorita', 'type1': 'psychic', 'stats': {'speed': 55, 'special-defense': 85, 'special-attack': 75, 'defense': 70, 'attack': 45, 'hp': 60}}, {'name': 'gothitelle', 'type1': 'psychic', 'stats': {'speed': 65, 'special-defense': 110, 'special-attack': 95, 'defense': 95, 'attack': 55, 'hp': 70}}, {'name': 'solosis', 'type1': 'psychic', 'stats': {'speed': 20, 'special-defense': 50, 'special-attack': 105, 'defense': 40, 'attack': 30, 'hp': 45}}, {'name': 'duosion', 'type1': 'psychic', 'stats': {'speed': 30, 'special-defense': 60, 'special-attack': 125, 'defense': 50, 'attack': 40, 'hp': 65}}, {'name': 'reuniclus', 'type1': 'psychic', 'stats': {'speed': 30, 'special-defense': 85, 'special-attack': 125, 'defense': 75, 'attack': 65, 'hp': 110}}, {'name': 'ducklett', 'type1': 'water', 'stats': {'speed': 55, 'special-defense': 50, 'special-attack': 44, 'defense': 50, 'attack': 44, 'hp': 62}}, {'name': 'swanna', 'type1': 'water', 'stats': {'speed': 98, 'special-defense': 63, 'special-attack': 87, 'defense': 63, 'attack': 87, 'hp': 75}}, {'name': 'vanillite', 'type1': 'ice', 'stats': {'speed': 44, 'special-defense': 60, 'special-attack': 65, 'defense': 50, 'attack': 50, 'hp': 36}}, {'name': 'vanillish', 'type1': 'ice', 'stats': {'speed': 59, 'special-defense': 75, 'special-attack': 80, 'defense': 65, 'attack': 65, 'hp': 51}}, {'name': 'vanilluxe', 'type1': 'ice', 'stats': {'speed': 79, 'special-defense': 95, 'special-attack': 110, 'defense': 85, 'attack': 95, 'hp': 71}}, {'name': 'deerling', 'type1': 'normal', 'stats': {'speed': 75, 'special-defense': 50, 'special-attack': 40, 'defense': 50, 'attack': 60, 'hp': 60}}, {'name': 'sawsbuck', 'type1': 'normal', 'stats': {'speed': 95, 'special-defense': 70, 'special-attack': 60, 'defense': 70, 'attack': 100, 'hp': 80}}, {'name': 'emolga', 'type1': 'electric', 'stats': {'speed': 103, 'special-defense': 60, 'special-attack': 75, 'defense': 60, 'attack': 75, 'hp': 55}}, {'name': 'karrablast', 'type1': 'bug', 'stats': {'speed': 60, 'special-defense': 45, 'special-attack': 40, 'defense': 45, 'attack': 75, 'hp': 50}}, {'name': 'escavalier', 'type1': 'bug', 'stats': {'speed': 20, 'special-defense': 105, 'special-attack': 60, 'defense': 105, 'attack': 135, 'hp': 70}}, {'name': 'foongus', 'type1': 'grass', 'stats': {'speed': 15, 'special-defense': 55, 'special-attack': 55, 'defense': 45, 'attack': 55, 'hp': 69}}, {'name': 'amoonguss', 'type1': 'grass', 'stats': {'speed': 30, 'special-defense': 80, 'special-attack': 85, 'defense': 70, 'attack': 85, 'hp': 114}}, {'name': 'frillish', 'type1': 'water', 'stats': {'speed': 40, 'special-defense': 85, 'special-attack': 65, 'defense': 50, 'attack': 40, 'hp': 55}}, {'name': 'jellicent', 'type1': 'water', 'stats': {'speed': 60, 'special-defense': 105, 'special-attack': 85, 'defense': 70, 'attack': 60, 'hp': 100}}, {'name': 'alomomola', 'type1': 'water', 'stats': {'speed': 65, 'special-defense': 45, 'special-attack': 40, 'defense': 80, 'attack': 75, 'hp': 165}}, {'name': 'joltik', 'type1': 'bug', 'stats': {'speed': 65, 'special-defense': 50, 'special-attack': 57, 'defense': 50, 'attack': 47, 'hp': 50}}, {'name': 'galvantula', 'type1': 'bug', 'stats': {'speed': 108, 'special-defense': 60, 'special-attack': 97, 'defense': 60, 'attack': 77, 'hp': 70}}, {'name': 'ferroseed', 'type1': 'grass', 'stats': {'speed': 10, 'special-defense': 86, 'special-attack': 24, 'defense': 91, 'attack': 50, 'hp': 44}}, {'name': 'ferrothorn', 'type1': 'grass', 'stats': {'speed': 20, 'special-defense': 116, 'special-attack': 54, 'defense': 131, 'attack': 94, 'hp': 74}}, {'name': 'klink', 'type1': 'steel', 'stats': {'speed': 30, 'special-defense': 60, 'special-attack': 45, 'defense': 70, 'attack': 55, 'hp': 40}}, {'name': 'klang', 'type1': 'steel', 'stats': {'speed': 50, 'special-defense': 85, 'special-attack': 70, 'defense': 95, 'attack': 80, 'hp': 60}}, {'name': 'klinklang', 'type1': 'steel', 'stats': {'speed': 90, 'special-defense': 85, 'special-attack': 70, 'defense': 115, 'attack': 100, 'hp': 60}}, {'name': 'tynamo', 'type1': 'electric', 'stats': {'speed': 60, 'special-defense': 40, 'special-attack': 45, 'defense': 40, 'attack': 55, 'hp': 35}}, {'name': 'eelektrik', 'type1': 'electric', 'stats': {'speed': 40, 'special-defense': 70, 'special-attack': 75, 'defense': 70, 'attack': 85, 'hp': 65}}, {'name': 'eelektross', 'type1': 'electric', 'stats': {'speed': 50, 'special-defense': 80, 'special-attack': 105, 'defense': 80, 'attack': 115, 'hp': 85}}, {'name': 'elgyem', 'type1': 'psychic', 'stats': {'speed': 30, 'special-defense': 55, 'special-attack': 85, 'defense': 55, 'attack': 55, 'hp': 55}}, {'name': 'beheeyem', 'type1': 'psychic', 'stats': {'speed': 40, 'special-defense': 95, 'special-attack': 125, 'defense': 75, 'attack': 75, 'hp': 75}}, {'name': 'litwick', 'type1': 'ghost', 'stats': {'speed': 20, 'special-defense': 55, 'special-attack': 65, 'defense': 55, 'attack': 30, 'hp': 50}}, {'name': 'lampent', 'type1': 'ghost', 'stats': {'speed': 55, 'special-defense': 60, 'special-attack': 95, 'defense': 60, 'attack': 40, 'hp': 60}}, {'name': 'chandelure', 'type1': 'ghost', 'stats': {'speed': 80, 'special-defense': 90, 'special-attack': 145, 'defense': 90, 'attack': 55, 'hp': 60}}, {'name': 'axew', 'type1': 'dragon', 'stats': {'speed': 57, 'special-defense': 40, 'special-attack': 30, 'defense': 60, 'attack': 87, 'hp': 46}}, {'name': 'fraxure', 'type1': 'dragon', 'stats': {'speed': 67, 'special-defense': 50, 'special-attack': 40, 'defense': 70, 'attack': 117, 'hp': 66}}, {'name': 'haxorus', 'type1': 'dragon', 'stats': {'speed': 97, 'special-defense': 70, 'special-attack': 60, 'defense': 90, 'attack': 147, 'hp': 76}}, {'name': 'cubchoo', 'type1': 'ice', 'stats': {'speed': 40, 'special-defense': 40, 'special-attack': 60, 'defense': 40, 'attack': 70, 'hp': 55}}, {'name': 'beartic', 'type1': 'ice', 'stats': {'speed': 50, 'special-defense': 80, 'special-attack': 70, 'defense': 80, 'attack': 130, 'hp': 95}}, {'name': 'cryogonal', 'type1': 'ice', 'stats': {'speed': 105, 'special-defense': 135, 'special-attack': 95, 'defense': 50, 'attack': 50, 'hp': 80}}, {'name': 'shelmet', 'type1': 'bug', 'stats': {'speed': 25, 'special-defense': 65, 'special-attack': 40, 'defense': 85, 'attack': 40, 'hp': 50}}, {'name': 'accelgor', 'type1': 'bug', 'stats': {'speed': 145, 'special-defense': 60, 'special-attack': 100, 'defense': 40, 'attack': 70, 'hp': 80}}, {'name': 'stunfisk', 'type1': 'ground', 'stats': {'speed': 32, 'special-defense': 99, 'special-attack': 81, 'defense': 84, 'attack': 66, 'hp': 109}}, {'name': 'mienfoo', 'type1': 'fighting', 'stats': {'speed': 65, 'special-defense': 50, 'special-attack': 55, 'defense': 50, 'attack': 85, 'hp': 45}}, {'name': 'mienshao', 'type1': 'fighting', 'stats': {'speed': 105, 'special-defense': 60, 'special-attack': 95, 'defense': 60, 'attack': 125, 'hp': 65}}, {'name': 'druddigon', 'type1': 'dragon', 'stats': {'speed': 48, 'special-defense': 90, 'special-attack': 60, 'defense': 90, 'attack': 120, 'hp': 77}}, {'name': 'golett', 'type1': 'ground', 'stats': {'speed': 35, 'special-defense': 50, 'special-attack': 35, 'defense': 50, 'attack': 74, 'hp': 59}}, {'name': 'golurk', 'type1': 'ground', 'stats': {'speed': 55, 'special-defense': 80, 'special-attack': 55, 'defense': 80, 'attack': 124, 'hp': 89}}, {'name': 'pawniard', 'type1': 'dark', 'stats': {'speed': 60, 'special-defense': 40, 'special-attack': 40, 'defense': 70, 'attack': 85, 'hp': 45}}, {'name': 'bisharp', 'type1': 'dark', 'stats': {'speed': 70, 'special-defense': 70, 'special-attack': 60, 'defense': 100, 'attack': 125, 'hp': 65}}, {'name': 'bouffalant', 'type1': 'normal', 'stats': {'speed': 55, 'special-defense': 95, 'special-attack': 40, 'defense': 95, 'attack': 110, 'hp': 95}}, {'name': 'rufflet', 'type1': 'normal', 'stats': {'speed': 60, 'special-defense': 50, 'special-attack': 37, 'defense': 50, 'attack': 83, 'hp': 70}}, {'name': 'braviary', 'type1': 'normal', 'stats': {'speed': 80, 'special-defense': 75, 'special-attack': 57, 'defense': 75, 'attack': 123, 'hp': 100}}, {'name': 'vullaby', 'type1': 'dark', 'stats': {'speed': 60, 'special-defense': 65, 'special-attack': 45, 'defense': 75, 'attack': 55, 'hp': 70}}, {'name': 'mandibuzz', 'type1': 'dark', 'stats': {'speed': 80, 'special-defense': 95, 'special-attack': 55, 'defense': 105, 'attack': 65, 'hp': 110}}, {'name': 'heatmor', 'type1': 'fire', 'stats': {'speed': 65, 'special-defense': 66, 'special-attack': 105, 'defense': 66, 'attack': 97, 'hp': 85}}, {'name': 'durant', 'type1': 'bug', 'stats': {'speed': 109, 'special-defense': 48, 'special-attack': 48, 'defense': 112, 'attack': 109, 'hp': 58}}, {'name': 'deino', 'type1': 'dark', 'stats': {'speed': 38, 'special-defense': 50, 'special-attack': 45, 'defense': 50, 'attack': 65, 'hp': 52}}, {'name': 'zweilous', 'type1': 'dark', 'stats': {'speed': 58, 'special-defense': 70, 'special-attack': 65, 'defense': 70, 'attack': 85, 'hp': 72}}, {'name': 'hydreigon', 'type1': 'dark', 'stats': {'speed': 98, 'special-defense': 90, 'special-attack': 125, 'defense': 90, 'attack': 105, 'hp': 92}}, {'name': 'larvesta', 'type1': 'bug', 'stats': {'speed': 60, 'special-defense': 55, 'special-attack': 50, 'defense': 55, 'attack': 85, 'hp': 55}}, {'name': 'volcarona', 'type1': 'bug', 'stats': {'speed': 100, 'special-defense': 105, 'special-attack': 135, 'defense': 65, 'attack': 60, 'hp': 85}}, {'name': 'cobalion', 'type1': 'steel', 'stats': {'speed': 108, 'special-defense': 72, 'special-attack': 90, 'defense': 129, 'attack': 90, 'hp': 91}}, {'name': 'terrakion', 'type1': 'rock', 'stats': {'speed': 108, 'special-defense': 90, 'special-attack': 72, 'defense': 90, 'attack': 129, 'hp': 91}}, {'name': 'virizion', 'type1': 'grass', 'stats': {'speed': 108, 'special-defense': 129, 'special-attack': 90, 'defense': 72, 'attack': 90, 'hp': 91}}, {'name': 'tornadus-incarnate', 'type1': 'flying', 'stats': {'speed': 111, 'special-defense': 80, 'special-attack': 125, 'defense': 70, 'attack': 115, 'hp': 79}}, {'name': 'thundurus-incarnate', 'type1': 'electric', 'stats': {'speed': 111, 'special-defense': 80, 'special-attack': 125, 'defense': 70, 'attack': 115, 'hp': 79}}, {'name': 'reshiram', 'type1': 'dragon', 'stats': {'speed': 90, 'special-defense': 120, 'special-attack': 150, 'defense': 100, 'attack': 120, 'hp': 100}}, {'name': 'zekrom', 'type1': 'dragon', 'stats': {'speed': 90, 'special-defense': 100, 'special-attack': 120, 'defense': 120, 'attack': 150, 'hp': 100}}, {'name': 'landorus-incarnate', 'type1': 'ground', 'stats': {'speed': 101, 'special-defense': 80, 'special-attack': 115, 'defense': 90, 'attack': 125, 'hp': 89}}, {'name': 'kyurem', 'type1': 'dragon', 'stats': {'speed': 95, 'special-defense': 90, 'special-attack': 130, 'defense': 90, 'attack': 130, 'hp': 125}}, {'name': 'keldeo-ordinary', 'type1': 'water', 'stats': {'speed': 108, 'special-defense': 90, 'special-attack': 129, 'defense': 90, 'attack': 72, 'hp': 91}}, {'name': 'meloetta-aria', 'type1': 'normal', 'stats': {'speed': 90, 'special-defense': 128, 'special-attack': 128, 'defense': 77, 'attack': 77, 'hp': 100}}, {'name': 'genesect', 'type1': 'bug', 'stats': {'speed': 99, 'special-defense': 95, 'special-attack': 120, 'defense': 95, 'attack': 120, 'hp': 71}}, {'name': 'chespin', 'type1': 'grass', 'stats': {'speed': 38, 'special-defense': 45, 'special-attack': 48, 'defense': 65, 'attack': 61, 'hp': 56}}, {'name': 'quilladin', 'type1': 'grass', 'stats': {'speed': 57, 'special-defense': 58, 'special-attack': 56, 'defense': 95, 'attack': 78, 'hp': 61}}, {'name': 'chesnaught', 'type1': 'grass', 'stats': {'speed': 64, 'special-defense': 75, 'special-attack': 74, 'defense': 122, 'attack': 107, 'hp': 88}}, {'name': 'fennekin', 'type1': 'fire', 'stats': {'speed': 60, 'special-defense': 60, 'special-attack': 62, 'defense': 40, 'attack': 45, 'hp': 40}}, {'name': 'braixen', 'type1': 'fire', 'stats': {'speed': 73, 'special-defense': 70, 'special-attack': 90, 'defense': 58, 'attack': 59, 'hp': 59}}, {'name': 'delphox', 'type1': 'fire', 'stats': {'speed': 104, 'special-defense': 100, 'special-attack': 114, 'defense': 72, 'attack': 69, 'hp': 75}}, {'name': 'froakie', 'type1': 'water', 'stats': {'speed': 71, 'special-defense': 44, 'special-attack': 62, 'defense': 40, 'attack': 56, 'hp': 41}}, {'name': 'frogadier', 'type1': 'water', 'stats': {'speed': 97, 'special-defense': 56, 'special-attack': 83, 'defense': 52, 'attack': 63, 'hp': 54}}, {'name': 'greninja', 'type1': 'water', 'stats': {'speed': 122, 'special-defense': 71, 'special-attack': 103, 'defense': 67, 'attack': 95, 'hp': 72}}, {'name': 'bunnelby', 'type1': 'normal', 'stats': {'speed': 57, 'special-defense': 36, 'special-attack': 32, 'defense': 38, 'attack': 36, 'hp': 38}}, {'name': 'diggersby', 'type1': 'normal', 'stats': {'speed': 78, 'special-defense': 77, 'special-attack': 50, 'defense': 77, 'attack': 56, 'hp': 85}}, {'name': 'fletchling', 'type1': 'normal', 'stats': {'speed': 62, 'special-defense': 38, 'special-attack': 40, 'defense': 43, 'attack': 50, 'hp': 45}}, {'name': 'fletchinder', 'type1': 'fire', 'stats': {'speed': 84, 'special-defense': 52, 'special-attack': 56, 'defense': 55, 'attack': 73, 'hp': 62}}, {'name': 'talonflame', 'type1': 'fire', 'stats': {'speed': 126, 'special-defense': 69, 'special-attack': 74, 'defense': 71, 'attack': 81, 'hp': 78}}, {'name': 'scatterbug', 'type1': 'bug', 'stats': {'speed': 35, 'special-defense': 25, 'special-attack': 27, 'defense': 40, 'attack': 35, 'hp': 38}}, {'name': 'spewpa', 'type1': 'bug', 'stats': {'speed': 29, 'special-defense': 30, 'special-attack': 27, 'defense': 60, 'attack': 22, 'hp': 45}}, {'name': 'vivillon', 'type1': 'bug', 'stats': {'speed': 89, 'special-defense': 50, 'special-attack': 90, 'defense': 50, 'attack': 52, 'hp': 80}}, {'name': 'litleo', 'type1': 'fire', 'stats': {'speed': 72, 'special-defense': 54, 'special-attack': 73, 'defense': 58, 'attack': 50, 'hp': 62}}, {'name': 'pyroar', 'type1': 'fire', 'stats': {'speed': 106, 'special-defense': 66, 'special-attack': 109, 'defense': 72, 'attack': 68, 'hp': 86}}, {'name': 'flabebe', 'type1': 'fairy', 'stats': {'speed': 42, 'special-defense': 79, 'special-attack': 61, 'defense': 39, 'attack': 38, 'hp': 44}}, {'name': 'floette', 'type1': 'fairy', 'stats': {'speed': 52, 'special-defense': 98, 'special-attack': 75, 'defense': 47, 'attack': 45, 'hp': 54}}, {'name': 'florges', 'type1': 'fairy', 'stats': {'speed': 75, 'special-defense': 154, 'special-attack': 112, 'defense': 68, 'attack': 65, 'hp': 78}}, {'name': 'skiddo', 'type1': 'grass', 'stats': {'speed': 52, 'special-defense': 57, 'special-attack': 62, 'defense': 48, 'attack': 65, 'hp': 66}}, {'name': 'gogoat', 'type1': 'grass', 'stats': {'speed': 68, 'special-defense': 81, 'special-attack': 97, 'defense': 62, 'attack': 100, 'hp': 123}}, {'name': 'pancham', 'type1': 'fighting', 'stats': {'speed': 43, 'special-defense': 48, 'special-attack': 46, 'defense': 62, 'attack': 82, 'hp': 67}}, {'name': 'pangoro', 'type1': 'fighting', 'stats': {'speed': 58, 'special-defense': 71, 'special-attack': 69, 'defense': 78, 'attack': 124, 'hp': 95}}, {'name': 'furfrou', 'type1': 'normal', 'stats': {'speed': 102, 'special-defense': 90, 'special-attack': 65, 'defense': 60, 'attack': 80, 'hp': 75}}, {'name': 'espurr', 'type1': 'psychic', 'stats': {'speed': 68, 'special-defense': 60, 'special-attack': 63, 'defense': 54, 'attack': 48, 'hp': 62}}, {'name': 'meowstic-male', 'type1': 'psychic', 'stats': {'speed': 104, 'special-defense': 81, 'special-attack': 83, 'defense': 76, 'attack': 48, 'hp': 74}}, {'name': 'honedge', 'type1': 'steel', 'stats': {'speed': 28, 'special-defense': 37, 'special-attack': 35, 'defense': 100, 'attack': 80, 'hp': 45}}, {'name': 'doublade', 'type1': 'steel', 'stats': {'speed': 35, 'special-defense': 49, 'special-attack': 45, 'defense': 150, 'attack': 110, 'hp': 59}}, {'name': 'aegislash-shield', 'type1': 'steel', 'stats': {'speed': 60, 'special-defense': 150, 'special-attack': 50, 'defense': 150, 'attack': 50, 'hp': 60}}, {'name': 'spritzee', 'type1': 'fairy', 'stats': {'speed': 23, 'special-defense': 65, 'special-attack': 63, 'defense': 60, 'attack': 52, 'hp': 78}}, {'name': 'aromatisse', 'type1': 'fairy', 'stats': {'speed': 29, 'special-defense': 89, 'special-attack': 99, 'defense': 72, 'attack': 72, 'hp': 101}}, {'name': 'swirlix', 'type1': 'fairy', 'stats': {'speed': 49, 'special-defense': 57, 'special-attack': 59, 'defense': 66, 'attack': 48, 'hp': 62}}, {'name': 'slurpuff', 'type1': 'fairy', 'stats': {'speed': 72, 'special-defense': 75, 'special-attack': 85, 'defense': 86, 'attack': 80, 'hp': 82}}, {'name': 'inkay', 'type1': 'dark', 'stats': {'speed': 45, 'special-defense': 46, 'special-attack': 37, 'defense': 53, 'attack': 54, 'hp': 53}}, {'name': 'malamar', 'type1': 'dark', 'stats': {'speed': 73, 'special-defense': 75, 'special-attack': 68, 'defense': 88, 'attack': 92, 'hp': 86}}, {'name': 'binacle', 'type1': 'rock', 'stats': {'speed': 50, 'special-defense': 56, 'special-attack': 39, 'defense': 67, 'attack': 52, 'hp': 42}}, {'name': 'barbaracle', 'type1': 'rock', 'stats': {'speed': 68, 'special-defense': 86, 'special-attack': 54, 'defense': 115, 'attack': 105, 'hp': 72}}, {'name': 'skrelp', 'type1': 'poison', 'stats': {'speed': 30, 'special-defense': 60, 'special-attack': 60, 'defense': 60, 'attack': 60, 'hp': 50}}, {'name': 'dragalge', 'type1': 'poison', 'stats': {'speed': 44, 'special-defense': 123, 'special-attack': 97, 'defense': 90, 'attack': 75, 'hp': 65}}, {'name': 'clauncher', 'type1': 'water', 'stats': {'speed': 44, 'special-defense': 63, 'special-attack': 58, 'defense': 62, 'attack': 53, 'hp': 50}}, {'name': 'clawitzer', 'type1': 'water', 'stats': {'speed': 59, 'special-defense': 89, 'special-attack': 120, 'defense': 88, 'attack': 73, 'hp': 71}}, {'name': 'helioptile', 'type1': 'electric', 'stats': {'speed': 70, 'special-defense': 43, 'special-attack': 61, 'defense': 33, 'attack': 38, 'hp': 44}}, {'name': 'heliolisk', 'type1': 'electric', 'stats': {'speed': 109, 'special-defense': 94, 'special-attack': 109, 'defense': 52, 'attack': 55, 'hp': 62}}, {'name': 'tyrunt', 'type1': 'rock', 'stats': {'speed': 48, 'special-defense': 45, 'special-attack': 45, 'defense': 77, 'attack': 89, 'hp': 58}}, {'name': 'tyrantrum', 'type1': 'rock', 'stats': {'speed': 71, 'special-defense': 59, 'special-attack': 69, 'defense': 119, 'attack': 121, 'hp': 82}}, {'name': 'amaura', 'type1': 'rock', 'stats': {'speed': 46, 'special-defense': 63, 'special-attack': 67, 'defense': 50, 'attack': 59, 'hp': 77}}, {'name': 'aurorus', 'type1': 'rock', 'stats': {'speed': 58, 'special-defense': 92, 'special-attack': 99, 'defense': 72, 'attack': 77, 'hp': 123}}, {'name': 'sylveon', 'type1': 'fairy', 'stats': {'speed': 60, 'special-defense': 130, 'special-attack': 110, 'defense': 65, 'attack': 65, 'hp': 95}}, {'name': 'hawlucha', 'type1': 'fighting', 'stats': {'speed': 118, 'special-defense': 63, 'special-attack': 74, 'defense': 75, 'attack': 92, 'hp': 78}}, {'name': 'dedenne', 'type1': 'electric', 'stats': {'speed': 101, 'special-defense': 67, 'special-attack': 81, 'defense': 57, 'attack': 58, 'hp': 67}}, {'name': 'carbink', 'type1': 'rock', 'stats': {'speed': 50, 'special-defense': 150, 'special-attack': 50, 'defense': 150, 'attack': 50, 'hp': 50}}, {'name': 'goomy', 'type1': 'dragon', 'stats': {'speed': 40, 'special-defense': 75, 'special-attack': 55, 'defense': 35, 'attack': 50, 'hp': 45}}, {'name': 'sliggoo', 'type1': 'dragon', 'stats': {'speed': 60, 'special-defense': 113, 'special-attack': 83, 'defense': 53, 'attack': 75, 'hp': 68}}, {'name': 'goodra', 'type1': 'dragon', 'stats': {'speed': 80, 'special-defense': 150, 'special-attack': 110, 'defense': 70, 'attack': 100, 'hp': 90}}, {'name': 'klefki', 'type1': 'steel', 'stats': {'speed': 75, 'special-defense': 87, 'special-attack': 80, 'defense': 91, 'attack': 80, 'hp': 57}}, {'name': 'phantump', 'type1': 'ghost', 'stats': {'speed': 38, 'special-defense': 60, 'special-attack': 50, 'defense': 48, 'attack': 70, 'hp': 43}}, {'name': 'trevenant', 'type1': 'ghost', 'stats': {'speed': 56, 'special-defense': 82, 'special-attack': 65, 'defense': 76, 'attack': 110, 'hp': 85}}, {'name': 'pumpkaboo-average', 'type1': 'ghost', 'stats': {'speed': 51, 'special-defense': 55, 'special-attack': 44, 'defense': 70, 'attack': 66, 'hp': 49}}, {'name': 'gourgeist-average', 'type1': 'ghost', 'stats': {'speed': 84, 'special-defense': 75, 'special-attack': 58, 'defense': 122, 'attack': 90, 'hp': 65}}, {'name': 'bergmite', 'type1': 'ice', 'stats': {'speed': 28, 'special-defense': 35, 'special-attack': 32, 'defense': 85, 'attack': 69, 'hp': 55}}, {'name': 'avalugg', 'type1': 'ice', 'stats': {'speed': 28, 'special-defense': 46, 'special-attack': 44, 'defense': 184, 'attack': 117, 'hp': 95}}, {'name': 'noibat', 'type1': 'flying', 'stats': {'speed': 55, 'special-defense': 40, 'special-attack': 45, 'defense': 35, 'attack': 30, 'hp': 40}}, {'name': 'noivern', 'type1': 'flying', 'stats': {'speed': 123, 'special-defense': 80, 'special-attack': 97, 'defense': 80, 'attack': 70, 'hp': 85}}, {'name': 'xerneas', 'type1': 'fairy', 'stats': {'speed': 99, 'special-defense': 98, 'special-attack': 131, 'defense': 95, 'attack': 131, 'hp': 126}}, {'name': 'yveltal', 'type1': 'dark', 'stats': {'speed': 99, 'special-defense': 98, 'special-attack': 131, 'defense': 95, 'attack': 131, 'hp': 126}}, {'name': 'zygarde', 'type1': 'dragon', 'stats': {'speed': 95, 'special-defense': 95, 'special-attack': 81, 'defense': 121, 'attack': 100, 'hp': 108}}, {'name': 'diancie', 'type1': 'rock', 'stats': {'speed': 50, 'special-defense': 150, 'special-attack': 100, 'defense': 150, 'attack': 100, 'hp': 50}}, {'name': 'hoopa', 'type1': 'psychic', 'stats': {'speed': 70, 'special-defense': 130, 'special-attack': 150, 'defense': 60, 'attack': 110, 'hp': 80}}, {'name': 'volcanion', 'type1': 'fire', 'stats': {'speed': 70, 'special-defense': 90, 'special-attack': 130, 'defense': 120, 'attack': 110, 'hp': 80}}, {'name': 'rowlet', 'type1': 'grass', 'stats': {'speed': 42, 'special-defense': 50, 'special-attack': 50, 'defense': 55, 'attack': 55, 'hp': 68}}, {'name': 'dartrix', 'type1': 'grass', 'stats': {'speed': 52, 'special-defense': 70, 'special-attack': 70, 'defense': 75, 'attack': 75, 'hp': 78}}, {'name': 'decidueye', 'type1': 'grass', 'stats': {'speed': 70, 'special-defense': 100, 'special-attack': 100, 'defense': 75, 'attack': 107, 'hp': 78}}, {'name': 'litten', 'type1': 'fire', 'stats': {'speed': 70, 'special-defense': 40, 'special-attack': 60, 'defense': 40, 'attack': 65, 'hp': 45}}, {'name': 'torracat', 'type1': 'fire', 'stats': {'speed': 90, 'special-defense': 50, 'special-attack': 80, 'defense': 50, 'attack': 85, 'hp': 65}}, {'name': 'incineroar', 'type1': 'fire', 'stats': {'speed': 60, 'special-defense': 90, 'special-attack': 80, 'defense': 90, 'attack': 115, 'hp': 95}}, {'name': 'popplio', 'type1': 'water', 'stats': {'speed': 40, 'special-defense': 56, 'special-attack': 66, 'defense': 54, 'attack': 54, 'hp': 50}}, {'name': 'brionne', 'type1': 'water', 'stats': {'speed': 50, 'special-defense': 81, 'special-attack': 91, 'defense': 69, 'attack': 69, 'hp': 60}}, {'name': 'primarina', 'type1': 'water', 'stats': {'speed': 60, 'special-defense': 116, 'special-attack': 126, 'defense': 74, 'attack': 74, 'hp': 80}}, {'name': 'pikipek', 'type1': 'normal', 'stats': {'speed': 65, 'special-defense': 30, 'special-attack': 30, 'defense': 30, 'attack': 75, 'hp': 35}}, {'name': 'trumbeak', 'type1': 'normal', 'stats': {'speed': 75, 'special-defense': 50, 'special-attack': 40, 'defense': 50, 'attack': 85, 'hp': 55}}, {'name': 'toucannon', 'type1': 'normal', 'stats': {'speed': 60, 'special-defense': 75, 'special-attack': 75, 'defense': 75, 'attack': 120, 'hp': 80}}, {'name': 'yungoos', 'type1': 'normal', 'stats': {'speed': 45, 'special-defense': 30, 'special-attack': 30, 'defense': 30, 'attack': 70, 'hp': 48}}, {'name': 'gumshoos', 'type1': 'normal', 'stats': {'speed': 45, 'special-defense': 60, 'special-attack': 55, 'defense': 60, 'attack': 110, 'hp': 88}}, {'name': 'grubbin', 'type1': 'bug', 'stats': {'speed': 46, 'special-defense': 45, 'special-attack': 55, 'defense': 45, 'attack': 62, 'hp': 47}}, {'name': 'charjabug', 'type1': 'bug', 'stats': {'speed': 36, 'special-defense': 75, 'special-attack': 55, 'defense': 95, 'attack': 82, 'hp': 57}}, {'name': 'vikavolt', 'type1': 'bug', 'stats': {'speed': 43, 'special-defense': 75, 'special-attack': 145, 'defense': 90, 'attack': 70, 'hp': 77}}, {'name': 'crabrawler', 'type1': 'fighting', 'stats': {'speed': 63, 'special-defense': 47, 'special-attack': 42, 'defense': 57, 'attack': 82, 'hp': 47}}, {'name': 'crabominable', 'type1': 'fighting', 'stats': {'speed': 43, 'special-defense': 67, 'special-attack': 62, 'defense': 77, 'attack': 132, 'hp': 97}}, {'name': 'oricorio-baile', 'type1': 'fire', 'stats': {'speed': 93, 'special-defense': 70, 'special-attack': 98, 'defense': 70, 'attack': 70, 'hp': 75}}, {'name': 'cutiefly', 'type1': 'bug', 'stats': {'speed': 84, 'special-defense': 40, 'special-attack': 55, 'defense': 40, 'attack': 45, 'hp': 40}}, {'name': 'ribombee', 'type1': 'bug', 'stats': {'speed': 124, 'special-defense': 70, 'special-attack': 95, 'defense': 60, 'attack': 55, 'hp': 60}}, {'name': 'rockruff', 'type1': 'rock', 'stats': {'speed': 60, 'special-defense': 40, 'special-attack': 30, 'defense': 40, 'attack': 65, 'hp': 45}}, {'name': 'lycanroc-midday', 'type1': 'rock', 'stats': {'speed': 112, 'special-defense': 65, 'special-attack': 55, 'defense': 65, 'attack': 115, 'hp': 75}}, {'name': 'wishiwashi-solo', 'type1': 'water', 'stats': {'speed': 40, 'special-defense': 25, 'special-attack': 25, 'defense': 20, 'attack': 20, 'hp': 45}}, {'name': 'mareanie', 'type1': 'poison', 'stats': {'speed': 45, 'special-defense': 52, 'special-attack': 43, 'defense': 62, 'attack': 53, 'hp': 50}}, {'name': 'toxapex', 'type1': 'poison', 'stats': {'speed': 35, 'special-defense': 142, 'special-attack': 53, 'defense': 152, 'attack': 63, 'hp': 50}}, {'name': 'mudbray', 'type1': 'ground', 'stats': {'speed': 45, 'special-defense': 55, 'special-attack': 45, 'defense': 70, 'attack': 100, 'hp': 70}}, {'name': 'mudsdale', 'type1': 'ground', 'stats': {'speed': 35, 'special-defense': 85, 'special-attack': 55, 'defense': 100, 'attack': 125, 'hp': 100}}, {'name': 'dewpider', 'type1': 'water', 'stats': {'speed': 27, 'special-defense': 72, 'special-attack': 40, 'defense': 52, 'attack': 40, 'hp': 38}}, {'name': 'araquanid', 'type1': 'water', 'stats': {'speed': 42, 'special-defense': 132, 'special-attack': 50, 'defense': 92, 'attack': 70, 'hp': 68}}, {'name': 'fomantis', 'type1': 'grass', 'stats': {'speed': 35, 'special-defense': 35, 'special-attack': 50, 'defense': 35, 'attack': 55, 'hp': 40}}, {'name': 'lurantis', 'type1': 'grass', 'stats': {'speed': 45, 'special-defense': 90, 'special-attack': 80, 'defense': 90, 'attack': 105, 'hp': 70}}, {'name': 'morelull', 'type1': 'grass', 'stats': {'speed': 15, 'special-defense': 75, 'special-attack': 65, 'defense': 55, 'attack': 35, 'hp': 40}}, {'name': 'shiinotic', 'type1': 'grass', 'stats': {'speed': 30, 'special-defense': 100, 'special-attack': 90, 'defense': 80, 'attack': 45, 'hp': 60}}, {'name': 'salandit', 'type1': 'poison', 'stats': {'speed': 77, 'special-defense': 40, 'special-attack': 71, 'defense': 40, 'attack': 44, 'hp': 48}}, {'name': 'salazzle', 'type1': 'poison', 'stats': {'speed': 117, 'special-defense': 60, 'special-attack': 111, 'defense': 60, 'attack': 64, 'hp': 68}}, {'name': 'stufful', 'type1': 'normal', 'stats': {'speed': 50, 'special-defense': 50, 'special-attack': 45, 'defense': 50, 'attack': 75, 'hp': 70}}, {'name': 'bewear', 'type1': 'normal', 'stats': {'speed': 60, 'special-defense': 60, 'special-attack': 55, 'defense': 80, 'attack': 125, 'hp': 120}}, {'name': 'bounsweet', 'type1': 'grass', 'stats': {'speed': 32, 'special-defense': 38, 'special-attack': 30, 'defense': 38, 'attack': 30, 'hp': 42}}, {'name': 'steenee', 'type1': 'grass', 'stats': {'speed': 62, 'special-defense': 48, 'special-attack': 40, 'defense': 48, 'attack': 40, 'hp': 52}}, {'name': 'tsareena', 'type1': 'grass', 'stats': {'speed': 72, 'special-defense': 98, 'special-attack': 50, 'defense': 98, 'attack': 120, 'hp': 72}}, {'name': 'comfey', 'type1': 'fairy', 'stats': {'speed': 100, 'special-defense': 110, 'special-attack': 82, 'defense': 90, 'attack': 52, 'hp': 51}}, {'name': 'oranguru', 'type1': 'normal', 'stats': {'speed': 60, 'special-defense': 110, 'special-attack': 90, 'defense': 80, 'attack': 60, 'hp': 90}}, {'name': 'passimian', 'type1': 'fighting', 'stats': {'speed': 80, 'special-defense': 60, 'special-attack': 40, 'defense': 90, 'attack': 120, 'hp': 100}}, {'name': 'wimpod', 'type1': 'bug', 'stats': {'speed': 80, 'special-defense': 30, 'special-attack': 20, 'defense': 40, 'attack': 35, 'hp': 25}}, {'name': 'golisopod', 'type1': 'bug', 'stats': {'speed': 40, 'special-defense': 90, 'special-attack': 60, 'defense': 140, 'attack': 125, 'hp': 75}}, {'name': 'sandygast', 'type1': 'ghost', 'stats': {'speed': 15, 'special-defense': 45, 'special-attack': 70, 'defense': 80, 'attack': 55, 'hp': 55}}, {'name': 'palossand', 'type1': 'ghost', 'stats': {'speed': 35, 'special-defense': 75, 'special-attack': 100, 'defense': 110, 'attack': 75, 'hp': 85}}, {'name': 'pyukumuku', 'type1': 'water', 'stats': {'speed': 5, 'special-defense': 130, 'special-attack': 30, 'defense': 130, 'attack': 60, 'hp': 55}}, {'name': 'type-null', 'type1': 'normal', 'stats': {'speed': 59, 'special-defense': 95, 'special-attack': 95, 'defense': 95, 'attack': 95, 'hp': 95}}, {'name': 'silvally', 'type1': 'normal', 'stats': {'speed': 95, 'special-defense': 95, 'special-attack': 95, 'defense': 95, 'attack': 95, 'hp': 95}}, {'name': 'minior-red-meteor', 'type1': 'rock', 'stats': {'speed': 60, 'special-defense': 100, 'special-attack': 60, 'defense': 100, 'attack': 60, 'hp': 60}}, {'name': 'komala', 'type1': 'normal', 'stats': {'speed': 65, 'special-defense': 95, 'special-attack': 75, 'defense': 65, 'attack': 115, 'hp': 65}}, {'name': 'turtonator', 'type1': 'fire', 'stats': {'speed': 36, 'special-defense': 85, 'special-attack': 91, 'defense': 135, 'attack': 78, 'hp': 60}}, {'name': 'togedemaru', 'type1': 'electric', 'stats': {'speed': 96, 'special-defense': 73, 'special-attack': 40, 'defense': 63, 'attack': 98, 'hp': 65}}, {'name': 'mimikyu-disguised', 'type1': 'ghost', 'stats': {'speed': 96, 'special-defense': 105, 'special-attack': 50, 'defense': 80, 'attack': 90, 'hp': 55}}, {'name': 'bruxish', 'type1': 'water', 'stats': {'speed': 92, 'special-defense': 70, 'special-attack': 70, 'defense': 70, 'attack': 105, 'hp': 68}}, {'name': 'drampa', 'type1': 'normal', 'stats': {'speed': 36, 'special-defense': 91, 'special-attack': 135, 'defense': 85, 'attack': 60, 'hp': 78}}, {'name': 'dhelmise', 'type1': 'ghost', 'stats': {'speed': 40, 'special-defense': 90, 'special-attack': 86, 'defense': 100, 'attack': 131, 'hp': 70}}, {'name': 'jangmo-o', 'type1': 'dragon', 'stats': {'speed': 45, 'special-defense': 45, 'special-attack': 45, 'defense': 65, 'attack': 55, 'hp': 45}}, {'name': 'hakamo-o', 'type1': 'dragon', 'stats': {'speed': 65, 'special-defense': 70, 'special-attack': 65, 'defense': 90, 'attack': 75, 'hp': 55}}, {'name': 'kommo-o', 'type1': 'dragon', 'stats': {'speed': 85, 'special-defense': 105, 'special-attack': 100, 'defense': 125, 'attack': 110, 'hp': 75}}, {'name': 'tapu-koko', 'type1': 'electric', 'stats': {'speed': 130, 'special-defense': 75, 'special-attack': 95, 'defense': 85, 'attack': 115, 'hp': 70}}, {'name': 'tapu-lele', 'type1': 'psychic', 'stats': {'speed': 95, 'special-defense': 115, 'special-attack': 130, 'defense': 75, 'attack': 85, 'hp': 70}}, {'name': 'tapu-bulu', 'type1': 'grass', 'stats': {'speed': 75, 'special-defense': 95, 'special-attack': 85, 'defense': 115, 'attack': 130, 'hp': 70}}, {'name': 'tapu-fini', 'type1': 'water', 'stats': {'speed': 85, 'special-defense': 130, 'special-attack': 95, 'defense': 115, 'attack': 75, 'hp': 70}}, {'name': 'cosmog', 'type1': 'psychic', 'stats': {'speed': 37, 'special-defense': 31, 'special-attack': 29, 'defense': 31, 'attack': 29, 'hp': 43}}, {'name': 'cosmoem', 'type1': 'psychic', 'stats': {'speed': 37, 'special-defense': 131, 'special-attack': 29, 'defense': 131, 'attack': 29, 'hp': 43}}, {'name': 'solgaleo', 'type1': 'psychic', 'stats': {'speed': 97, 'special-defense': 89, 'special-attack': 113, 'defense': 107, 'attack': 137, 'hp': 137}}, {'name': 'lunala', 'type1': 'psychic', 'stats': {'speed': 97, 'special-defense': 107, 'special-attack': 137, 'defense': 89, 'attack': 113, 'hp': 137}}, {'name': 'nihilego', 'type1': 'rock', 'stats': {'speed': 103, 'special-defense': 131, 'special-attack': 127, 'defense': 47, 'attack': 53, 'hp': 109}}, {'name': 'buzzwole', 'type1': 'bug', 'stats': {'speed': 79, 'special-defense': 53, 'special-attack': 53, 'defense': 139, 'attack': 139, 'hp': 107}}, {'name': 'pheromosa', 'type1': 'bug', 'stats': {'speed': 151, 'special-defense': 37, 'special-attack': 137, 'defense': 37, 'attack': 137, 'hp': 71}}, {'name': 'xurkitree', 'type1': 'electric', 'stats': {'speed': 83, 'special-defense': 71, 'special-attack': 173, 'defense': 71, 'attack': 89, 'hp': 83}}, {'name': 'celesteela', 'type1': 'steel', 'stats': {'speed': 61, 'special-defense': 101, 'special-attack': 107, 'defense': 103, 'attack': 101, 'hp': 97}}, {'name': 'kartana', 'type1': 'grass', 'stats': {'speed': 109, 'special-defense': 31, 'special-attack': 59, 'defense': 131, 'attack': 181, 'hp': 59}}, {'name': 'guzzlord', 'type1': 'dark', 'stats': {'speed': 43, 'special-defense': 53, 'special-attack': 97, 'defense': 53, 'attack': 101, 'hp': 223}}, {'name': 'necrozma', 'type1': 'psychic', 'stats': {'speed': 79, 'special-defense': 89, 'special-attack': 127, 'defense': 101, 'attack': 107, 'hp': 97}}, {'name': 'magearna', 'type1': 'steel', 'stats': {'speed': 65, 'special-defense': 115, 'special-attack': 130, 'defense': 115, 'attack': 95, 'hp': 80}}, {'name': 'marshadow', 'type1': 'fighting', 'stats': {'speed': 125, 'special-defense': 90, 'special-attack': 90, 'defense': 80, 'attack': 125, 'hp': 90}}, {'name': 'poipole', 'type1': 'poison', 'stats': {'speed': 73, 'special-defense': 67, 'special-attack': 73, 'defense': 67, 'attack': 73, 'hp': 67}}, {'name': 'naganadel', 'type1': 'poison', 'stats': {'speed': 121, 'special-defense': 73, 'special-attack': 127, 'defense': 73, 'attack': 73, 'hp': 73}}, {'name': 'stakataka', 'type1': 'rock', 'stats': {'speed': 13, 'special-defense': 101, 'special-attack': 53, 'defense': 211, 'attack': 131, 'hp': 61}}, {'name': 'blacephalon', 'type1': 'fire', 'stats': {'speed': 107, 'special-defense': 79, 'special-attack': 151, 'defense': 53, 'attack': 127, 'hp': 53}}, {'name': 'zeraora', 'type1': 'electric', 'stats': {'speed': 143, 'special-defense': 80, 'special-attack': 102, 'defense': 75, 'attack': 112, 'hp': 88}}]\n"
          ],
          "name": "stdout"
        }
      ]
    },
    {
      "cell_type": "markdown",
      "metadata": {
        "id": "1lUIVqCK7N29",
        "colab_type": "text"
      },
      "source": [
        "#### 1c. Push the data into a pandas DataFrame:\n",
        "> - Names and types can be extracted into separate lists.\n",
        "- Each pokemon has 6 base stats:\n",
        "  - hp\n",
        "  - attack\n",
        "  - special-attack\n",
        "  - defense\n",
        "  - special-defense\n",
        "  - speed\n",
        "- These will have to each be placed into separate lists to push into the DataFrame."
      ]
    },
    {
      "cell_type": "code",
      "metadata": {
        "id": "5uwsz6E67Wcr",
        "colab_type": "code",
        "colab": {
          "base_uri": "https://localhost:8080/",
          "height": 204
        },
        "outputId": "dfa393ff-c86d-4ab3-f8ab-68b4a4560003"
      },
      "source": [
        "# Format data into dictionaries for DataFrame:\n",
        "# {Header: [data]}\n",
        "\n",
        "def pivot_data(category, subcategory = None):\n",
        "  if not subcategory:\n",
        "    return [pokemon[category] for pokemon in pokemon_data]\n",
        "  else:\n",
        "    return [pokemon[category][subcategory] for pokemon in pokemon_data]\n",
        "\n",
        "pokemon_name = pivot_data('name')\n",
        "pokemon_type1 = pivot_data('type1')\n",
        "pokemon_spd = pivot_data('stats', 'speed')\n",
        "pokemon_spdef = pivot_data('stats', 'special-defense')\n",
        "pokemon_spatk = pivot_data('stats', 'special-attack')\n",
        "pokemon_def = pivot_data('stats', 'defense')\n",
        "pokemon_atk = pivot_data('stats', 'attack')\n",
        "pokemon_hp = pivot_data('stats', 'hp')\n",
        "\n",
        "pokemon_df = pd.DataFrame({'name': pokemon_name\n",
        "                           ,'type1': pokemon_type1\n",
        "                           ,'spd': pokemon_spd\n",
        "                           ,'spdef': pokemon_spdef\n",
        "                           ,'spatk': pokemon_atk\n",
        "                           ,'def': pokemon_def\n",
        "                           ,'atk': pokemon_atk\n",
        "                           ,'hp': pokemon_hp})\n",
        "\n",
        "# Display top rows from DataFrame for preview:\n",
        "\n",
        "pokemon_df.head()"
      ],
      "execution_count": 40,
      "outputs": [
        {
          "output_type": "execute_result",
          "data": {
            "text/html": [
              "<div>\n",
              "<style scoped>\n",
              "    .dataframe tbody tr th:only-of-type {\n",
              "        vertical-align: middle;\n",
              "    }\n",
              "\n",
              "    .dataframe tbody tr th {\n",
              "        vertical-align: top;\n",
              "    }\n",
              "\n",
              "    .dataframe thead th {\n",
              "        text-align: right;\n",
              "    }\n",
              "</style>\n",
              "<table border=\"1\" class=\"dataframe\">\n",
              "  <thead>\n",
              "    <tr style=\"text-align: right;\">\n",
              "      <th></th>\n",
              "      <th>name</th>\n",
              "      <th>type1</th>\n",
              "      <th>spd</th>\n",
              "      <th>spdef</th>\n",
              "      <th>spatk</th>\n",
              "      <th>def</th>\n",
              "      <th>atk</th>\n",
              "      <th>hp</th>\n",
              "    </tr>\n",
              "  </thead>\n",
              "  <tbody>\n",
              "    <tr>\n",
              "      <th>0</th>\n",
              "      <td>bulbasaur</td>\n",
              "      <td>grass</td>\n",
              "      <td>45</td>\n",
              "      <td>65</td>\n",
              "      <td>49</td>\n",
              "      <td>49</td>\n",
              "      <td>49</td>\n",
              "      <td>45</td>\n",
              "    </tr>\n",
              "    <tr>\n",
              "      <th>1</th>\n",
              "      <td>ivysaur</td>\n",
              "      <td>grass</td>\n",
              "      <td>60</td>\n",
              "      <td>80</td>\n",
              "      <td>62</td>\n",
              "      <td>63</td>\n",
              "      <td>62</td>\n",
              "      <td>60</td>\n",
              "    </tr>\n",
              "    <tr>\n",
              "      <th>2</th>\n",
              "      <td>venusaur</td>\n",
              "      <td>grass</td>\n",
              "      <td>80</td>\n",
              "      <td>100</td>\n",
              "      <td>82</td>\n",
              "      <td>83</td>\n",
              "      <td>82</td>\n",
              "      <td>80</td>\n",
              "    </tr>\n",
              "    <tr>\n",
              "      <th>3</th>\n",
              "      <td>charmander</td>\n",
              "      <td>fire</td>\n",
              "      <td>65</td>\n",
              "      <td>50</td>\n",
              "      <td>52</td>\n",
              "      <td>43</td>\n",
              "      <td>52</td>\n",
              "      <td>39</td>\n",
              "    </tr>\n",
              "    <tr>\n",
              "      <th>4</th>\n",
              "      <td>charmeleon</td>\n",
              "      <td>fire</td>\n",
              "      <td>80</td>\n",
              "      <td>65</td>\n",
              "      <td>64</td>\n",
              "      <td>58</td>\n",
              "      <td>64</td>\n",
              "      <td>58</td>\n",
              "    </tr>\n",
              "  </tbody>\n",
              "</table>\n",
              "</div>"
            ],
            "text/plain": [
              "         name  type1  spd  spdef  spatk  def  atk  hp\n",
              "0   bulbasaur  grass   45     65     49   49   49  45\n",
              "1     ivysaur  grass   60     80     62   63   62  60\n",
              "2    venusaur  grass   80    100     82   83   82  80\n",
              "3  charmander   fire   65     50     52   43   52  39\n",
              "4  charmeleon   fire   80     65     64   58   64  58"
            ]
          },
          "metadata": {
            "tags": []
          },
          "execution_count": 40
        }
      ]
    },
    {
      "cell_type": "markdown",
      "metadata": {
        "id": "dW8YmUeOw4Og",
        "colab_type": "text"
      },
      "source": [
        "## 2. Analysis on highest base stat per type:\n",
        "\n",
        "\n",
        ">- Now that the data is in, any operations can be performed.\n",
        "- idxmax can return the column name to get the highest stat for each row.\n"
      ]
    },
    {
      "cell_type": "code",
      "metadata": {
        "id": "zYhIB1QNxqZx",
        "colab_type": "code",
        "colab": {
          "base_uri": "https://localhost:8080/",
          "height": 204
        },
        "outputId": "8ece7bb1-0c7c-47bd-c8a1-0629fb6eb347"
      },
      "source": [
        "pokemon_df['hi_stat'] = pokemon_df[['spd','spdef','spatk','def','atk','hp']].idxmax(axis=1)\n",
        "\n",
        "pokemon_df.head()"
      ],
      "execution_count": 42,
      "outputs": [
        {
          "output_type": "execute_result",
          "data": {
            "text/html": [
              "<div>\n",
              "<style scoped>\n",
              "    .dataframe tbody tr th:only-of-type {\n",
              "        vertical-align: middle;\n",
              "    }\n",
              "\n",
              "    .dataframe tbody tr th {\n",
              "        vertical-align: top;\n",
              "    }\n",
              "\n",
              "    .dataframe thead th {\n",
              "        text-align: right;\n",
              "    }\n",
              "</style>\n",
              "<table border=\"1\" class=\"dataframe\">\n",
              "  <thead>\n",
              "    <tr style=\"text-align: right;\">\n",
              "      <th></th>\n",
              "      <th>name</th>\n",
              "      <th>type1</th>\n",
              "      <th>spd</th>\n",
              "      <th>spdef</th>\n",
              "      <th>spatk</th>\n",
              "      <th>def</th>\n",
              "      <th>atk</th>\n",
              "      <th>hp</th>\n",
              "      <th>hi_stat</th>\n",
              "    </tr>\n",
              "  </thead>\n",
              "  <tbody>\n",
              "    <tr>\n",
              "      <th>0</th>\n",
              "      <td>bulbasaur</td>\n",
              "      <td>grass</td>\n",
              "      <td>45</td>\n",
              "      <td>65</td>\n",
              "      <td>49</td>\n",
              "      <td>49</td>\n",
              "      <td>49</td>\n",
              "      <td>45</td>\n",
              "      <td>spdef</td>\n",
              "    </tr>\n",
              "    <tr>\n",
              "      <th>1</th>\n",
              "      <td>ivysaur</td>\n",
              "      <td>grass</td>\n",
              "      <td>60</td>\n",
              "      <td>80</td>\n",
              "      <td>62</td>\n",
              "      <td>63</td>\n",
              "      <td>62</td>\n",
              "      <td>60</td>\n",
              "      <td>spdef</td>\n",
              "    </tr>\n",
              "    <tr>\n",
              "      <th>2</th>\n",
              "      <td>venusaur</td>\n",
              "      <td>grass</td>\n",
              "      <td>80</td>\n",
              "      <td>100</td>\n",
              "      <td>82</td>\n",
              "      <td>83</td>\n",
              "      <td>82</td>\n",
              "      <td>80</td>\n",
              "      <td>spdef</td>\n",
              "    </tr>\n",
              "    <tr>\n",
              "      <th>3</th>\n",
              "      <td>charmander</td>\n",
              "      <td>fire</td>\n",
              "      <td>65</td>\n",
              "      <td>50</td>\n",
              "      <td>52</td>\n",
              "      <td>43</td>\n",
              "      <td>52</td>\n",
              "      <td>39</td>\n",
              "      <td>spd</td>\n",
              "    </tr>\n",
              "    <tr>\n",
              "      <th>4</th>\n",
              "      <td>charmeleon</td>\n",
              "      <td>fire</td>\n",
              "      <td>80</td>\n",
              "      <td>65</td>\n",
              "      <td>64</td>\n",
              "      <td>58</td>\n",
              "      <td>64</td>\n",
              "      <td>58</td>\n",
              "      <td>spd</td>\n",
              "    </tr>\n",
              "  </tbody>\n",
              "</table>\n",
              "</div>"
            ],
            "text/plain": [
              "         name  type1  spd  spdef  spatk  def  atk  hp hi_stat\n",
              "0   bulbasaur  grass   45     65     49   49   49  45   spdef\n",
              "1     ivysaur  grass   60     80     62   63   62  60   spdef\n",
              "2    venusaur  grass   80    100     82   83   82  80   spdef\n",
              "3  charmander   fire   65     50     52   43   52  39     spd\n",
              "4  charmeleon   fire   80     65     64   58   64  58     spd"
            ]
          },
          "metadata": {
            "tags": []
          },
          "execution_count": 42
        }
      ]
    },
    {
      "cell_type": "markdown",
      "metadata": {
        "id": "LZhRideV2gpY",
        "colab_type": "text"
      },
      "source": [
        "#### 2a. Aggregate data:\n",
        "> - Count the number of highest base stats per type and display.\n",
        "- Move each type into their individual DataFrames.\n"
      ]
    },
    {
      "cell_type": "code",
      "metadata": {
        "id": "BAptkLeL4wAU",
        "colab_type": "code",
        "colab": {
          "base_uri": "https://localhost:8080/",
          "height": 419
        },
        "outputId": "a237ae95-5e9a-4751-e96c-b9d718c5230e"
      },
      "source": [
        "df_types = pokemon_df.type1.unique()\n",
        "\n",
        "grass_df = pokemon_df.loc[pokemon_df['type1'] == 'grass']\n",
        "\n",
        "grass_df\n"
      ],
      "execution_count": 57,
      "outputs": [
        {
          "output_type": "execute_result",
          "data": {
            "text/html": [
              "<div>\n",
              "<style scoped>\n",
              "    .dataframe tbody tr th:only-of-type {\n",
              "        vertical-align: middle;\n",
              "    }\n",
              "\n",
              "    .dataframe tbody tr th {\n",
              "        vertical-align: top;\n",
              "    }\n",
              "\n",
              "    .dataframe thead th {\n",
              "        text-align: right;\n",
              "    }\n",
              "</style>\n",
              "<table border=\"1\" class=\"dataframe\">\n",
              "  <thead>\n",
              "    <tr style=\"text-align: right;\">\n",
              "      <th></th>\n",
              "      <th>name</th>\n",
              "      <th>type1</th>\n",
              "      <th>spd</th>\n",
              "      <th>spdef</th>\n",
              "      <th>spatk</th>\n",
              "      <th>def</th>\n",
              "      <th>atk</th>\n",
              "      <th>hp</th>\n",
              "      <th>hi_stat</th>\n",
              "    </tr>\n",
              "  </thead>\n",
              "  <tbody>\n",
              "    <tr>\n",
              "      <th>0</th>\n",
              "      <td>bulbasaur</td>\n",
              "      <td>grass</td>\n",
              "      <td>45</td>\n",
              "      <td>65</td>\n",
              "      <td>49</td>\n",
              "      <td>49</td>\n",
              "      <td>49</td>\n",
              "      <td>45</td>\n",
              "      <td>spdef</td>\n",
              "    </tr>\n",
              "    <tr>\n",
              "      <th>1</th>\n",
              "      <td>ivysaur</td>\n",
              "      <td>grass</td>\n",
              "      <td>60</td>\n",
              "      <td>80</td>\n",
              "      <td>62</td>\n",
              "      <td>63</td>\n",
              "      <td>62</td>\n",
              "      <td>60</td>\n",
              "      <td>spdef</td>\n",
              "    </tr>\n",
              "    <tr>\n",
              "      <th>2</th>\n",
              "      <td>venusaur</td>\n",
              "      <td>grass</td>\n",
              "      <td>80</td>\n",
              "      <td>100</td>\n",
              "      <td>82</td>\n",
              "      <td>83</td>\n",
              "      <td>82</td>\n",
              "      <td>80</td>\n",
              "      <td>spdef</td>\n",
              "    </tr>\n",
              "    <tr>\n",
              "      <th>42</th>\n",
              "      <td>oddish</td>\n",
              "      <td>grass</td>\n",
              "      <td>30</td>\n",
              "      <td>65</td>\n",
              "      <td>50</td>\n",
              "      <td>55</td>\n",
              "      <td>50</td>\n",
              "      <td>45</td>\n",
              "      <td>spdef</td>\n",
              "    </tr>\n",
              "    <tr>\n",
              "      <th>43</th>\n",
              "      <td>gloom</td>\n",
              "      <td>grass</td>\n",
              "      <td>40</td>\n",
              "      <td>75</td>\n",
              "      <td>65</td>\n",
              "      <td>70</td>\n",
              "      <td>65</td>\n",
              "      <td>60</td>\n",
              "      <td>spdef</td>\n",
              "    </tr>\n",
              "    <tr>\n",
              "      <th>...</th>\n",
              "      <td>...</td>\n",
              "      <td>...</td>\n",
              "      <td>...</td>\n",
              "      <td>...</td>\n",
              "      <td>...</td>\n",
              "      <td>...</td>\n",
              "      <td>...</td>\n",
              "      <td>...</td>\n",
              "      <td>...</td>\n",
              "    </tr>\n",
              "    <tr>\n",
              "      <th>760</th>\n",
              "      <td>bounsweet</td>\n",
              "      <td>grass</td>\n",
              "      <td>32</td>\n",
              "      <td>38</td>\n",
              "      <td>30</td>\n",
              "      <td>38</td>\n",
              "      <td>30</td>\n",
              "      <td>42</td>\n",
              "      <td>hp</td>\n",
              "    </tr>\n",
              "    <tr>\n",
              "      <th>761</th>\n",
              "      <td>steenee</td>\n",
              "      <td>grass</td>\n",
              "      <td>62</td>\n",
              "      <td>48</td>\n",
              "      <td>40</td>\n",
              "      <td>48</td>\n",
              "      <td>40</td>\n",
              "      <td>52</td>\n",
              "      <td>spd</td>\n",
              "    </tr>\n",
              "    <tr>\n",
              "      <th>762</th>\n",
              "      <td>tsareena</td>\n",
              "      <td>grass</td>\n",
              "      <td>72</td>\n",
              "      <td>98</td>\n",
              "      <td>120</td>\n",
              "      <td>98</td>\n",
              "      <td>120</td>\n",
              "      <td>72</td>\n",
              "      <td>spatk</td>\n",
              "    </tr>\n",
              "    <tr>\n",
              "      <th>786</th>\n",
              "      <td>tapu-bulu</td>\n",
              "      <td>grass</td>\n",
              "      <td>75</td>\n",
              "      <td>95</td>\n",
              "      <td>130</td>\n",
              "      <td>115</td>\n",
              "      <td>130</td>\n",
              "      <td>70</td>\n",
              "      <td>spatk</td>\n",
              "    </tr>\n",
              "    <tr>\n",
              "      <th>797</th>\n",
              "      <td>kartana</td>\n",
              "      <td>grass</td>\n",
              "      <td>109</td>\n",
              "      <td>31</td>\n",
              "      <td>181</td>\n",
              "      <td>131</td>\n",
              "      <td>181</td>\n",
              "      <td>59</td>\n",
              "      <td>spatk</td>\n",
              "    </tr>\n",
              "  </tbody>\n",
              "</table>\n",
              "<p>78 rows × 9 columns</p>\n",
              "</div>"
            ],
            "text/plain": [
              "          name  type1  spd  spdef  spatk  def  atk  hp hi_stat\n",
              "0    bulbasaur  grass   45     65     49   49   49  45   spdef\n",
              "1      ivysaur  grass   60     80     62   63   62  60   spdef\n",
              "2     venusaur  grass   80    100     82   83   82  80   spdef\n",
              "42      oddish  grass   30     65     50   55   50  45   spdef\n",
              "43       gloom  grass   40     75     65   70   65  60   spdef\n",
              "..         ...    ...  ...    ...    ...  ...  ...  ..     ...\n",
              "760  bounsweet  grass   32     38     30   38   30  42      hp\n",
              "761    steenee  grass   62     48     40   48   40  52     spd\n",
              "762   tsareena  grass   72     98    120   98  120  72   spatk\n",
              "786  tapu-bulu  grass   75     95    130  115  130  70   spatk\n",
              "797    kartana  grass  109     31    181  131  181  59   spatk\n",
              "\n",
              "[78 rows x 9 columns]"
            ]
          },
          "metadata": {
            "tags": []
          },
          "execution_count": 57
        }
      ]
    }
  ]
}